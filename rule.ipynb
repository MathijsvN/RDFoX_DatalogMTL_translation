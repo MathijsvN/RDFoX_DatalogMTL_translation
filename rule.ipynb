{
 "cells": [
  {
   "cell_type": "markdown",
   "metadata": {},
   "source": [
    "# Adding a rule to RDFox #\n",
    "\n",
    "Now import a rule.\n"
   ]
  },
  {
   "cell_type": "code",
   "execution_count": 16,
   "metadata": {},
   "outputs": [],
   "source": [
    "# Add rule\n",
    "datalog_rule = \"\"\"\n",
    "prefix : <https://rdfox.com/example#>\n",
    "\n",
    "[?a, :wooooow, ?c] :-\n",
    "    [?a, :b, ?c] .\n",
    "    \n",
    "\"\"\"\n"
   ]
  },
  {
   "cell_type": "code",
   "execution_count": 31,
   "metadata": {},
   "outputs": [],
   "source": [
    "# Read rules from external file\n",
    "with open(\"rules/rule.dlog\", \"r\") as rule_file:\n",
    "    datalog_rule = rule_file.read()"
   ]
  },
  {
   "cell_type": "code",
   "execution_count": 32,
   "metadata": {},
   "outputs": [
    {
     "name": "stdout",
     "output_type": "stream",
     "text": [
      "Results:  <Response [200]>\n"
     ]
    }
   ],
   "source": [
    "import requests\n",
    "\n",
    "# Set up the SPARQL endpoint\n",
    "rdfox_server = \"http://localhost:12110\"\n",
    "\n",
    "# Get response\n",
    "response = requests.post(rdfox_server + \"/datastores/default/content\", data=datalog_rule)\n",
    "\n",
    "\n",
    "# Helper function to raise exception if the REST endpoint returns an unexpected status code\n",
    "def assert_response_ok(response, message):\n",
    "    if not response.ok:\n",
    "        raise Exception(\n",
    "            message + \"\\nStatus received={}\\n{}\".format(response.status_code, response.text))\n",
    "\n",
    "# Catch errors\n",
    "assert_response_ok(response, \"Failed to add rule.\")\n",
    "\n",
    "print(\"Results: \", response)"
   ]
  },
  {
   "cell_type": "markdown",
   "metadata": {},
   "source": [
    "Then validate the rule with a query."
   ]
  },
  {
   "cell_type": "code",
   "execution_count": 28,
   "metadata": {},
   "outputs": [
    {
     "name": "stdout",
     "output_type": "stream",
     "text": [
      "Results:  ?s\t?p\n",
      "<https://rdfox.com/example#a>\t<https://rdfox.com/example#excellent>\n",
      "<https://rdfox.com/example#a>\t<https://rdfox.com/example#wooooow>\n",
      "<https://rdfox.com/example#a>\t<https://rdfox.com/example#b>\n",
      "\n"
     ]
    }
   ],
   "source": [
    "# Define the SPARQL query\n",
    "query = \"\"\"\n",
    "\n",
    "prefix : <https://rdfox.com/example#>\n",
    "\n",
    "SELECT ?s ?p\n",
    "WHERE {\n",
    "    ?s ?p :c .\n",
    "}\n",
    "\"\"\"\n",
    "\n",
    "# Get response\n",
    "queryResponse = requests.get(rdfox_server + \"/datastores/default/sparql\", params={\"query\": query})\n",
    "\n",
    "# Catch errors\n",
    "assert_response_ok(queryResponse, \"Failed to run select query.\")\n",
    "\n",
    "print(\"Results: \", queryResponse.text)"
   ]
  }
 ],
 "metadata": {
  "kernelspec": {
   "display_name": "venv",
   "language": "python",
   "name": "python3"
  },
  "language_info": {
   "codemirror_mode": {
    "name": "ipython",
    "version": 3
   },
   "file_extension": ".py",
   "mimetype": "text/x-python",
   "name": "python",
   "nbconvert_exporter": "python",
   "pygments_lexer": "ipython3",
   "version": "3.12.0"
  }
 },
 "nbformat": 4,
 "nbformat_minor": 2
}
