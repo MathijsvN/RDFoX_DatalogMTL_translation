{
 "cells": [
  {
   "cell_type": "markdown",
   "metadata": {},
   "source": [
    "# 3.4 Transitive Closure & Recursion\n",
    "\n",
    "Recursive rules are self referential to some degree, meaning the facts the infer may create the conditions for additional facts to be inferred.\n",
    "\n",
    "This iterative cycle will continue until the body conditions of the rules involved are no longer met.\n",
    "\n",
    "Recursion is the process used in identifying property paths. The rules make their way along the path, incorporating one new link at a time.\n",
    "\n",
    "A common use of recursion, transitive closure directly connects all nodes that are joined by any repeating pattern downstream, be that a chain of the same relationships or a more complex shape.\n",
    "\n"
   ]
  },
  {
   "cell_type": "markdown",
   "metadata": {},
   "source": [
    "## Example\n",
    "\n",
    "The following example shows how recursion can be used to traverse a dependency network of AI assets, with the aim of finding all the things that support the operation of each individual service."
   ]
  },
  {
   "cell_type": "code",
   "execution_count": 53,
   "metadata": {},
   "outputs": [],
   "source": [
    "tc_data = \"\"\"\n",
    "@prefix : <https://rdfox.com/example#> .\n",
    "\n",
    ":webServer a :WebServer ;\n",
    "    :dependsOn :machine .\n",
    "\n",
    ":machine a :StorageMachine ;\n",
    "    :dependsOn :network ,\n",
    "        :powerSupply .\n",
    "\n",
    ":network a :Network .\n",
    "\n",
    ":powerSupply a :PowerSupply .\n",
    "\n",
    "\"\"\""
   ]
  },
  {
   "cell_type": "code",
   "execution_count": 54,
   "metadata": {},
   "outputs": [],
   "source": [
    "tc_rules = \"\"\"\n",
    "\n",
    "[?asset1, :dependsTransitively, ?asset2] :-\n",
    "   [?asset1, :dependsOn, ?asset2] .\n",
    "\n",
    "[?asset1, :dependsTransitively, ?asset3] :-\n",
    "   [?asset1, :dependsTransitively, ?asset2],\n",
    "   [?asset2, :dependsOn, ?asset3] .\n",
    "\n",
    "\"\"\""
   ]
  },
  {
   "cell_type": "markdown",
   "metadata": {},
   "source": [
    "### Writing recursive rule sets\n",
    "\n",
    "The first rule above is not recursive, it acts as an anchor that provides stable starting conditions.\n",
    "\n",
    "The second is the recursive rules. It provides conditions for continual looping able to iterate again and again as new data is added by the previous iteration.\n",
    "\n",
    "While not every application uses this setups, it is common for recursive rule sets to contain an anchor as it restricts inferences to just those that are determined necessary. Recursion has the potential to rapidly expand the size of the dataset if not properly contained."
   ]
  },
  {
   "cell_type": "code",
   "execution_count": 55,
   "metadata": {},
   "outputs": [
    {
     "name": "stdout",
     "output_type": "stream",
     "text": [
      "\n",
      "=== Assets whose function is dependent on others ===\n",
      "?upstreamAsset\t?downstreamAsset\n",
      "<https://rdfox.com/example#webServer>\t<https://rdfox.com/example#machine>\n",
      "<https://rdfox.com/example#webServer>\t<https://rdfox.com/example#network>\n",
      "<https://rdfox.com/example#webServer>\t<https://rdfox.com/example#powerSupply>\n",
      "<https://rdfox.com/example#machine>\t<https://rdfox.com/example#network>\n",
      "<https://rdfox.com/example#machine>\t<https://rdfox.com/example#powerSupply>\n",
      "\n"
     ]
    }
   ],
   "source": [
    "import requests\n",
    "\n",
    "# Set up the SPARQL endpoint\n",
    "rdfox_server = \"http://localhost:12110\"\n",
    "\n",
    "# Helper function to raise exception if the REST endpoint returns an unexpected status code\n",
    "def assert_response_ok(response, message):\n",
    "    if not response.ok:\n",
    "        raise Exception(\n",
    "            message + \"\\nStatus received={}\\n{}\".format(response.status_code, response.text))\n",
    "\n",
    "# Clear data store\n",
    "clear_response = requests.delete(\n",
    "    rdfox_server + \"/datastores/default/content?facts=true&axioms&rules\")\n",
    "assert_response_ok(clear_response, \"Failed to clear data store.\")\n",
    "\n",
    "# Add data\n",
    "payload = {'operation': 'add-content-update-prefixes'}\n",
    "data_response = requests.patch(\n",
    "    rdfox_server + \"/datastores/default/content\", params=payload, data=tc_data)\n",
    "assert_response_ok(data_response, \"Failed to add facts to data store.\")\n",
    "\n",
    "# Get rules\n",
    "rules_response = requests.post(rdfox_server + \"/datastores/default/content\", data=tc_rules)\n",
    "assert_response_ok(rules_response, \"Failed to add rule.\")\n",
    "\n",
    "# Get and issue select query\n",
    "with open(\"../queries/3_3-TransitiveClosureQuery.rq\", \"r\") as file:\n",
    "    tc_query = file.read()\n",
    "response = requests.get(\n",
    "    rdfox_server + \"/datastores/default/sparql\", params={\"query\": tc_query})\n",
    "assert_response_ok(response, \"Failed to run select query.\")\n",
    "print('\\n=== Assets whose function is dependent on others ===')\n",
    "print(response.text)"
   ]
  },
  {
   "cell_type": "markdown",
   "metadata": {},
   "source": [
    "### Visualise the results\n",
    "\n",
    "Open this query in the [RDFox Explorer](http://localhost:12110/console/datastores/explore?datastore=default&query=SELECT%20%3FupstreamAsset%20%3FdownstreamAsset%0AWHERE%20%7B%0A%20%20%20%20%3FupstreamAsset%20%3AdependsTransitively%20%3FdownstreamAsset%0A%7D%20ORDER%20BY%20DESC%28%3FupstreamAsset%29%20ASC%28%3FdownstreamAsset%29)."
   ]
  },
  {
   "cell_type": "markdown",
   "metadata": {},
   "source": [
    "### End entities\n",
    "\n",
    "It can be valuable to know the first or last member of a chain and with negation (see 2.2) this becomes trivial - we simply look for there not to exist a proceeding or succeeding member of the chain respectively.\n",
    "\n",
    "Below is a rule that identifies the web server as a top level asset."
   ]
  },
  {
   "cell_type": "code",
   "execution_count": 56,
   "metadata": {},
   "outputs": [],
   "source": [
    "last_entity_rule = \"\"\"\n",
    "\n",
    "[?asset1, a, :TopLevelAsset] :-\n",
    "    [?asset1, :dependsOn, ?asset2] \n",
    "    NOT EXISTS ?asset0 IN ( [?asset0, :dependsOn, ?asset1] ).\n",
    "\n",
    "\"\"\""
   ]
  },
  {
   "cell_type": "markdown",
   "metadata": {},
   "source": [
    "### Cyclic relationships\n",
    "\n",
    "Recursion can create cyclic relationships, either intentionally or otherwise, so it can be important to know when and where they exist.\n",
    "\n",
    "Cyclic relationships that have been created through recursion are very simple to detect - we can simply look for an entity that belongs to its own chain.\n",
    "\n",
    "Below is a rule that does just that."
   ]
  },
  {
   "cell_type": "code",
   "execution_count": 57,
   "metadata": {},
   "outputs": [
    {
     "name": "stdout",
     "output_type": "stream",
     "text": [
      "\n",
      "=== Cycles ===\n",
      "?cyclicAsset\t?downstreamAsset\n",
      "<https://rdfox.com/example#machine>\t<https://rdfox.com/example#network>\n",
      "<https://rdfox.com/example#network>\t<https://rdfox.com/example#webServer>\n",
      "<https://rdfox.com/example#webServer>\t<https://rdfox.com/example#machine>\n",
      "\n"
     ]
    }
   ],
   "source": [
    "\n",
    "cyclic_data = \"\"\"\n",
    "\n",
    ":network :dependsOn :webServer .\n",
    "\n",
    "\"\"\"\n",
    "\n",
    "cyclic_rule = \"\"\"\n",
    "\n",
    "[?asset, a, :CyclicAsset] :-\n",
    "    [?asset, :dependsTransitively, ?asset].\n",
    "\n",
    "\"\"\"\n",
    "\n",
    "cyclic_query = \"\"\"\n",
    "\n",
    "SELECT ?cyclicAsset ?downstreamAsset\n",
    "WHERE {\n",
    "    ?cyclicAsset a :CyclicAsset ;\n",
    "        :dependsOn ?downstreamAsset .\n",
    "    \n",
    "    ?downstreamAsset a :CyclicAsset .\n",
    "} ORDER BY ASC(?cyclicAsset)\n",
    "\n",
    "\"\"\"\n",
    "\n",
    "# Add data\n",
    "payload = {'operation': 'add-content-update-prefixes'}\n",
    "data_response = requests.patch(\n",
    "    rdfox_server + \"/datastores/default/content\", params=payload, data=cyclic_data)\n",
    "assert_response_ok(data_response, \"Failed to add facts to data store.\")\n",
    "\n",
    "# Add rules\n",
    "with open(\"../rules/3_4-PropertyPathsRules.dlog\", \"r\") as rule_file:\n",
    "    datalog_rule = rule_file.read()\n",
    "response = requests.post(rdfox_server + \"/datastores/default/content\", data=cyclic_rule)\n",
    "assert_response_ok(response, \"Failed to add rule.\")\n",
    "\n",
    "# Issue select query\n",
    "response = requests.get(\n",
    "    rdfox_server + \"/datastores/default/sparql\", params={\"query\": cyclic_query})\n",
    "assert_response_ok(response, \"Failed to run select query.\")\n",
    "print('\\n=== Cycles ===')\n",
    "print(response.text)\n"
   ]
  },
  {
   "cell_type": "markdown",
   "metadata": {},
   "source": [
    "### Visualise the results\n",
    "\n",
    "Open this query in the [RDFox Explorer](http://localhost:12110/console/datastores/explore?datastore=default&query=SELECT%20%3FcyclicAsset%20%3FdownstreamAsset%0AWHERE%20%7B%0A%20%20%20%20%3FcyclicAsset%20a%20%3ACyclicAsset%20%3B%0A%20%20%20%20%20%20%20%20%3AdependsOn%20%3FdownstreamAsset%20.%0A%20%20%20%20%0A%20%20%20%20%3FdownstreamAsset%20a%20%3ACyclicAsset%20.%0A%7D%20ORDER%20BY%20ASC%28%3FcyclicAsset%29)."
   ]
  },
  {
   "cell_type": "markdown",
   "metadata": {},
   "source": [
    "## Calculating transitivity efficiently\n",
    "\n",
    "There is more than one way to write the same recursive rule.\n",
    "\n",
    "As we have, we can either use an anchor to create a new relationship and then use that to infer the same new recursive relationships."
   ]
  },
  {
   "cell_type": "code",
   "execution_count": 58,
   "metadata": {},
   "outputs": [],
   "source": [
    "new_recursive_relationship_rule = \"\"\"\n",
    "\n",
    "   [?x, :dependsTransitively, ?y] :-\n",
    "      [?x, :dependsOn, ?y] .\n",
    "   \n",
    "   [?x, :dependsTransitively, ?z] :-\n",
    "      [?x, :dependsTransitively, ?y]\n",
    "      [?y, :dependsOn, ?z] .\n",
    "    \n",
    "\"\"\""
   ]
  },
  {
   "cell_type": "markdown",
   "metadata": {},
   "source": [
    "\n",
    "Or, we can use one rule that uses the existing relationships and infers more of them.\n",
    "\n",
    "This rule will end up considering many more facts than the previous one, making it significantly less efficient."
   ]
  },
  {
   "cell_type": "code",
   "execution_count": 59,
   "metadata": {},
   "outputs": [],
   "source": [
    "existing_recursive_relationship_rule = \"\"\"\n",
    "   \n",
    "   [?x, :dependsOn, ?z] :-\n",
    "      [?x, :dependsOn, ?y],\n",
    "      [?y, :dependsOn, ?z] .\n",
    "    \n",
    "\"\"\""
   ]
  },
  {
   "cell_type": "markdown",
   "metadata": {},
   "source": [
    "Run the cell below and then, in the RDFox shell, import the combo rule:\n",
    "\n",
    "`import profiler/3_3-1.dlog`\n",
    "\n",
    "Notice that the reasoning profiles undergoes 310 iterator operations to import 45 fresh facts in the **Addition** phase (the only significantly different phase).\n",
    "\n",
    "Then run the cell again to clear the rules and, in the RDFox shell, import the separated rule:\n",
    "\n",
    "`import profiler/3_3-2.dlog`\n",
    "\n",
    "This time, notice that even though fewer facts were introduced (36 as the previous rule created some repeated connections with the new relationship), the iterator when though more than double the operations at 672!\n",
    "\n",
    "This is because, with the first rule set, the number of body matches scales linearly with the original relationship as additional relationships of this type are not created, where as in the second rule set, the body matches scale with the inferred relationships, which grow quadratically.\n",
    "\n",
    "Be aware of how your body atoms will match data in order to avoid this."
   ]
  },
  {
   "cell_type": "code",
   "execution_count": 61,
   "metadata": {},
   "outputs": [
    {
     "name": "stdout",
     "output_type": "stream",
     "text": [
      "<Response [200]>\n"
     ]
    }
   ],
   "source": [
    "profiler_data = \"\"\"\n",
    "    @prefix : <https://rdfox.com/example/> .\n",
    "\n",
    "    :a :dependsOn :b .\n",
    "    :b :dependsOn :c .\n",
    "    :c :dependsOn :d .\n",
    "    :d :dependsOn :e .\n",
    "    :e :dependsOn :f .\n",
    "    :f :dependsOn :g .\n",
    "    :g :dependsOn :h .\n",
    "    :h :dependsOn :i .\n",
    "    :i :dependsOn :j .\n",
    "    :j :dependsOn :k .\n",
    "    \n",
    "\"\"\"\n",
    "\n",
    "# Clear data store\n",
    "clear_response = requests.delete(\n",
    "    rdfox_server + \"/datastores/default/content?facts=true&axioms&rules\")\n",
    "assert_response_ok(clear_response, \"Failed to clear data store.\")\n",
    "\n",
    "# Add data\n",
    "payload = {'operation': 'add-content-update-prefixes'}\n",
    "data_response = requests.patch(\n",
    "    rdfox_server + \"/datastores/default/content\", params=payload, data=profiler_data)\n",
    "assert_response_ok(data_response, \"Failed to add facts to data store.\")\n",
    "\n",
    "print(data_response)"
   ]
  },
  {
   "cell_type": "markdown",
   "metadata": {},
   "source": [
    "## Exercise\n",
    "\n",
    "Complete the rule `3_3-TransitiveClosureRules.dlog` in the `rules` folder so that the query below can be used to directly find the transitive dependencies between just primary assets - that is, assets that have a `:backupPriority` of 0."
   ]
  },
  {
   "cell_type": "code",
   "execution_count": 50,
   "metadata": {},
   "outputs": [],
   "source": [
    "tc_sparql = \"\"\"\n",
    "\n",
    "SELECT ?upstreamAsset ?downstreamAsset\n",
    "WHERE {\n",
    "    ?upstreamAsset :hasPrimaryDependency ?downstreamAsset\n",
    "} ORDER BY DESC(?upstreamAsset) ASC(?downstreamAsset)\n",
    "\n",
    "\"\"\""
   ]
  },
  {
   "cell_type": "markdown",
   "metadata": {},
   "source": [
    "Here is a representative sample of the data in `3_3-TransitiveClosureData.ttl`."
   ]
  },
  {
   "cell_type": "code",
   "execution_count": 51,
   "metadata": {},
   "outputs": [],
   "source": [
    "sample_data = \"\"\"\n",
    "@prefix : <https://rdfox.com/example#> .\n",
    "\n",
    ":webServer1 a :WebServer;\n",
    "    :backupPriority 0;\n",
    "    :dependsOn :machine1 ;\n",
    "    :hasBackup :webServer2 .\n",
    "\n",
    ":webServer2 a :WebServer;\n",
    "    :backupPriority 1;\n",
    "    :dependsOn :machine2 .\n",
    "\n",
    ":machine1 a :ServerMachine;\n",
    "    :backupPriority 0;\n",
    "    :dependsOn :network1, :powerSupply1 .\n",
    "\n",
    ":machine2 a :ServerMachine;\n",
    "    :backupPriority 1;\n",
    "    :dependsOn :network2, :powerSupply2 .\n",
    "\n",
    "\"\"\""
   ]
  },
  {
   "cell_type": "markdown",
   "metadata": {},
   "source": [
    "### Check your work\n",
    "\n",
    "Run the query below to verify the results."
   ]
  },
  {
   "cell_type": "code",
   "execution_count": 52,
   "metadata": {},
   "outputs": [
    {
     "ename": "Exception",
     "evalue": "Failed to add rule.\nStatus received=400\nRDFoxException: The format of the message content could not be determined: each of the available formats returned an error.\n    RDFoxException: OWL Functional-Style Syntax: line 1: column 1: The document contains text outside 'Ontology( ... )'.\n    RDFoxException: Datalog: line 4: column 43: Formulas in a rule body should be separated by ',' or by '&'.\n    RDFoxException: Turtle/TriG/N-Triples/N-Quads: line 1: column 2: Resource expected.",
     "output_type": "error",
     "traceback": [
      "\u001b[0;31m---------------------------------------------------------------------------\u001b[0m",
      "\u001b[0;31mException\u001b[0m                                 Traceback (most recent call last)",
      "Cell \u001b[0;32mIn[52], line 18\u001b[0m\n\u001b[1;32m     16\u001b[0m     tc_rules \u001b[38;5;241m=\u001b[39m file\u001b[38;5;241m.\u001b[39mread()\n\u001b[1;32m     17\u001b[0m rules_response \u001b[38;5;241m=\u001b[39m requests\u001b[38;5;241m.\u001b[39mpost(rdfox_server \u001b[38;5;241m+\u001b[39m \u001b[38;5;124m\"\u001b[39m\u001b[38;5;124m/datastores/default/content\u001b[39m\u001b[38;5;124m\"\u001b[39m, data\u001b[38;5;241m=\u001b[39mtc_rules)\n\u001b[0;32m---> 18\u001b[0m \u001b[43massert_response_ok\u001b[49m\u001b[43m(\u001b[49m\u001b[43mrules_response\u001b[49m\u001b[43m,\u001b[49m\u001b[43m \u001b[49m\u001b[38;5;124;43m\"\u001b[39;49m\u001b[38;5;124;43mFailed to add rule.\u001b[39;49m\u001b[38;5;124;43m\"\u001b[39;49m\u001b[43m)\u001b[49m\n\u001b[1;32m     20\u001b[0m \u001b[38;5;66;03m# Issue select query\u001b[39;00m\n\u001b[1;32m     21\u001b[0m response \u001b[38;5;241m=\u001b[39m requests\u001b[38;5;241m.\u001b[39mget(\n\u001b[1;32m     22\u001b[0m     rdfox_server \u001b[38;5;241m+\u001b[39m \u001b[38;5;124m\"\u001b[39m\u001b[38;5;124m/datastores/default/sparql\u001b[39m\u001b[38;5;124m\"\u001b[39m, params\u001b[38;5;241m=\u001b[39m{\u001b[38;5;124m\"\u001b[39m\u001b[38;5;124mquery\u001b[39m\u001b[38;5;124m\"\u001b[39m: tc_sparql})\n",
      "Cell \u001b[0;32mIn[41], line 9\u001b[0m, in \u001b[0;36massert_response_ok\u001b[0;34m(response, message)\u001b[0m\n\u001b[1;32m      7\u001b[0m \u001b[38;5;28;01mdef\u001b[39;00m \u001b[38;5;21massert_response_ok\u001b[39m(response, message):\n\u001b[1;32m      8\u001b[0m     \u001b[38;5;28;01mif\u001b[39;00m \u001b[38;5;129;01mnot\u001b[39;00m response\u001b[38;5;241m.\u001b[39mok:\n\u001b[0;32m----> 9\u001b[0m         \u001b[38;5;28;01mraise\u001b[39;00m \u001b[38;5;167;01mException\u001b[39;00m(\n\u001b[1;32m     10\u001b[0m             message \u001b[38;5;241m+\u001b[39m \u001b[38;5;124m\"\u001b[39m\u001b[38;5;130;01m\\n\u001b[39;00m\u001b[38;5;124mStatus received=\u001b[39m\u001b[38;5;132;01m{}\u001b[39;00m\u001b[38;5;130;01m\\n\u001b[39;00m\u001b[38;5;132;01m{}\u001b[39;00m\u001b[38;5;124m\"\u001b[39m\u001b[38;5;241m.\u001b[39mformat(response\u001b[38;5;241m.\u001b[39mstatus_code, response\u001b[38;5;241m.\u001b[39mtext))\n",
      "\u001b[0;31mException\u001b[0m: Failed to add rule.\nStatus received=400\nRDFoxException: The format of the message content could not be determined: each of the available formats returned an error.\n    RDFoxException: OWL Functional-Style Syntax: line 1: column 1: The document contains text outside 'Ontology( ... )'.\n    RDFoxException: Datalog: line 4: column 43: Formulas in a rule body should be separated by ',' or by '&'.\n    RDFoxException: Turtle/TriG/N-Triples/N-Quads: line 1: column 2: Resource expected."
     ]
    }
   ],
   "source": [
    "# Clear data store\n",
    "clear_response = requests.delete(\n",
    "    rdfox_server + \"/datastores/default/content?facts=true&axioms&rules\")\n",
    "assert_response_ok(clear_response, \"Failed to clear data store.\")\n",
    "\n",
    "# Get and add data\n",
    "with open(\"../data/3_3-TransitiveClosureData.ttl\", \"r\") as file:\n",
    "    tc_data = file.read()\n",
    "payload = {'operation': 'add-content-update-prefixes'}\n",
    "data_response = requests.patch(\n",
    "    rdfox_server + \"/datastores/default/content\", params=payload, data=tc_data)\n",
    "assert_response_ok(data_response, \"Failed to add facts to data store.\")\n",
    "\n",
    "# Get and add rules\n",
    "with open(\"../rules/3_3-TransitiveClosureRules.dlog\", \"r\") as file:\n",
    "    tc_rules = file.read()\n",
    "rules_response = requests.post(rdfox_server + \"/datastores/default/content\", data=tc_rules)\n",
    "assert_response_ok(rules_response, \"Failed to add rule.\")\n",
    "\n",
    "# Issue select query\n",
    "response = requests.get(\n",
    "    rdfox_server + \"/datastores/default/sparql\", params={\"query\": tc_sparql})\n",
    "assert_response_ok(response, \"Failed to run select query.\")\n",
    "print('\\n=== Primary Assets Transitive Dependencies ===')\n",
    "print(response.text)"
   ]
  },
  {
   "cell_type": "markdown",
   "metadata": {},
   "source": [
    "### Visualise the results\n",
    "\n",
    "The power in these results is much clearer when visualised.\n",
    "\n",
    "Open them in the RDFox Explorer [here](http://localhost:12110/console/datastores/explore?datastore=default&query=SELECT%20%3FupstreamAsset%20%3FdownstreamAsset%0AWHERE%20%7B%0A%20%20%20%20%3FupstreamAsset%20%3AhasPrimaryDependency%20%3FdownstreamAsset%0A%7D%20ORDER%20BY%20DESC%28%3FupstreamAsset%29%20ASC%28%3FdownstreamAsset%29) and **change the layout to Circle**."
   ]
  },
  {
   "cell_type": "markdown",
   "metadata": {},
   "source": [
    "## You should see...\n",
    "\n",
    "=== Primary Assets Transitive Dependencies ===\n",
    "|?upstreamAsset|?downstreamAsset|\n",
    "|-----------|-------------|\n",
    "|<https://rdfox.com/example/webServerService>|\t<https://rdfox.com/example/machine1>|\n",
    "|<https://rdfox.com/example/webServerService>|\t<https://rdfox.com/example/network1>|\n",
    "|<https://rdfox.com/example/webServerService>|\t<https://rdfox.com/example/powerSupply1>|\n",
    "|<https://rdfox.com/example/webServerService>|\t<https://rdfox.com/example/webServer1>|\n",
    "|<https://rdfox.com/example/webServer1>|\t<https://rdfox.com/example/machine1>|\n",
    "|<https://rdfox.com/example/webServer1>|\t<https://rdfox.com/example/network1>|\n",
    "|<https://rdfox.com/example/webServer1>|\t<https://rdfox.com/example/powerSupply1>|\n",
    "|<https://rdfox.com/example/onlineStoreSystem>|\t<https://rdfox.com/example/machine1>|\n",
    "|<https://rdfox.com/example/onlineStoreSystem>|\t<https://rdfox.com/example/machine5>|\n",
    "|<https://rdfox.com/example/onlineStoreSystem>|\t<https://rdfox.com/example/machine9>|\n",
    "|<https://rdfox.com/example/onlineStoreSystem>|\t<https://rdfox.com/example/network1>|\n",
    "|<https://rdfox.com/example/onlineStoreSystem>|\t<https://rdfox.com/example/network5>|\n",
    "|<https://rdfox.com/example/onlineStoreSystem>|\t<https://rdfox.com/example/network9>|\n",
    "|<https://rdfox.com/example/onlineStoreSystem>|\t<https://rdfox.com/example/onlineStoreApplicationServer1>|\n",
    "|<https://rdfox.com/example/onlineStoreSystem>|\t<https://rdfox.com/example/onlineStoreApplicationService>|\n",
    "|<https://rdfox.com/example/onlineStoreSystem>|\t<https://rdfox.com/example/onlineStoreDataBase1>|\n",
    "|<https://rdfox.com/example/onlineStoreSystem>|\t<https://rdfox.com/example/onlineStoreDatabaseService>|\n",
    "|<https://rdfox.com/example/onlineStoreSystem>|\t<https://rdfox.com/example/paymentProcessingService>|\n",
    "|<https://rdfox.com/example/onlineStoreSystem>|\t<https://rdfox.com/example/powerSupply1>|\n",
    "|<https://rdfox.com/example/onlineStoreSystem>|\t<https://rdfox.com/example/powerSupply5>|\n",
    "|<https://rdfox.com/example/onlineStoreSystem>|\t<https://rdfox.com/example/powerSupply9>|\n",
    "|<https://rdfox.com/example/onlineStoreSystem>|\t<https://rdfox.com/example/webServer1>|\n",
    "|...||\n",
    "|<https://rdfox.com/example/machine5>|\t<https://rdfox.com/example/powerSupply5>|\n",
    "|<https://rdfox.com/example/machine1>|\t<https://rdfox.com/example/network1>|\n",
    "|<https://rdfox.com/example/machine1>|\t<https://rdfox.com/example/powerSupply1>|"
   ]
  }
 ],
 "metadata": {
  "kernelspec": {
   "display_name": "venv",
   "language": "python",
   "name": "python3"
  },
  "language_info": {
   "codemirror_mode": {
    "name": "ipython",
    "version": 3
   },
   "file_extension": ".py",
   "mimetype": "text/x-python",
   "name": "python",
   "nbconvert_exporter": "python",
   "pygments_lexer": "ipython3",
   "version": "3.12.0"
  }
 },
 "nbformat": 4,
 "nbformat_minor": 2
}
