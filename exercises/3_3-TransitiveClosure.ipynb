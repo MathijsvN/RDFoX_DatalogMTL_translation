{
 "cells": [
  {
   "cell_type": "markdown",
   "metadata": {},
   "source": [
    "# 3.4 Transitive Closure & Recursion\n",
    "\n",
    "Recursive rules are self referential to some degree, meaning the facts the infer may create the conditions for additional facts to be inferred.\n",
    "\n",
    "This iterative cycle will continue until the body conditions of the rules involved are no longer met.\n",
    "\n",
    "Recursion is the process used in identifying property paths. The rules make their way along the path, incorporating one new link at a time.\n",
    "\n",
    "A common use of recursion, transitive closure directly connects all nodes that are joined by any repeating pattern downstream, be that a chain of the same relationships or a more complex shape.\n",
    "\n"
   ]
  },
  {
   "cell_type": "markdown",
   "metadata": {},
   "source": [
    "## Example\n",
    "\n",
    "The following example shows how recursion can be used to traverse a graph network, here a collection  of interconnected railway stations.\n",
    "\n",
    "The aim is to uncover stations that are indirectly accessible, joined by a series of directly connected stations."
   ]
  },
  {
   "cell_type": "code",
   "execution_count": 5,
   "metadata": {},
   "outputs": [],
   "source": [
    "tc_data = \"\"\"\n",
    "@prefix : <https://rdfox.com/example#> .\n",
    "\n",
    ":webServer a :WebServer ;\n",
    "    :dependsOn :machine .\n",
    "\n",
    ":machine a :StorageMachine ;\n",
    "    :dependsOn :network ,\n",
    "        :powerSupply .\n",
    "\n",
    ":network a :Network .\n",
    "\n",
    ":powerSupply a :PowerSupply .\n",
    "\n",
    "\"\"\""
   ]
  },
  {
   "cell_type": "code",
   "execution_count": 18,
   "metadata": {},
   "outputs": [],
   "source": [
    "tc_rules = \"\"\"\n",
    "\n",
    "[?asset1, :dependsViaClosure, ?asset2] :-\n",
    "   [?asset1, :dependsOn, ?asset2] .\n",
    "\n",
    "[?asset1, :dependsViaClosure, ?asset3] :-\n",
    "   [?asset1, :dependsViaClosure, ?asset2],\n",
    "   [?asset2, :dependsOn, ?asset3] .\n",
    "\n",
    "\"\"\""
   ]
  },
  {
   "cell_type": "markdown",
   "metadata": {},
   "source": [
    "### Writing recursive rule sets\n",
    "\n",
    "The first rule above is note recursive, it acts as an anchor that provides stable starting conditions.\n",
    "\n",
    "The second is the recursive rules. It provides conditions for continual looping able to iterate again and again as new data is added by the previous iteration.\n",
    "\n",
    "While not every application uses this setups, it is common for recursive rule sets to contain an anchor as it restricts inferences to just those that are determined necessary. Recursion has the potential to rapidly expand the size of the dataset if not properly contained."
   ]
  },
  {
   "cell_type": "code",
   "execution_count": 19,
   "metadata": {},
   "outputs": [
    {
     "name": "stdout",
     "output_type": "stream",
     "text": [
      "\n",
      "=== Assets whose function is dependent on others ===\n",
      "?upstreamAsset\t?downstreamAsset\n",
      "<https://rdfox.com/example#webServer>\t<https://rdfox.com/example#machine>\n",
      "<https://rdfox.com/example#webServer>\t<https://rdfox.com/example#network>\n",
      "<https://rdfox.com/example#webServer>\t<https://rdfox.com/example#powerSupply>\n",
      "<https://rdfox.com/example#machine>\t<https://rdfox.com/example#network>\n",
      "<https://rdfox.com/example#machine>\t<https://rdfox.com/example#powerSupply>\n",
      "\n"
     ]
    }
   ],
   "source": [
    "import requests\n",
    "\n",
    "# Set up the SPARQL endpoint\n",
    "rdfox_server = \"http://localhost:12110\"\n",
    "\n",
    "# Helper function to raise exception if the REST endpoint returns an unexpected status code\n",
    "def assert_response_ok(response, message):\n",
    "    if not response.ok:\n",
    "        raise Exception(\n",
    "            message + \"\\nStatus received={}\\n{}\".format(response.status_code, response.text))\n",
    "\n",
    "# Clear data store\n",
    "clear_response = requests.delete(\n",
    "    rdfox_server + \"/datastores/default/content?facts=true&axioms&rules\")\n",
    "assert_response_ok(clear_response, \"Failed to clear data store.\")\n",
    "\n",
    "# Add data\n",
    "payload = {'operation': 'add-content-update-prefixes'}\n",
    "data_response = requests.patch(\n",
    "    rdfox_server + \"/datastores/default/content\", params=payload, data=tc_data)\n",
    "assert_response_ok(data_response, \"Failed to add facts to data store.\")\n",
    "\n",
    "# Get rules\n",
    "rules_response = requests.post(rdfox_server + \"/datastores/default/content\", data=tc_rules)\n",
    "assert_response_ok(rules_response, \"Failed to add rule.\")\n",
    "\n",
    "# Get and issue select query\n",
    "with open(\"../queries/3_3-TransitiveClosureQuery.rq\", \"r\") as file:\n",
    "    tc_query = file.read()\n",
    "response = requests.get(\n",
    "    rdfox_server + \"/datastores/default/sparql\", params={\"query\": tc_query})\n",
    "assert_response_ok(response, \"Failed to run select query.\")\n",
    "print('\\n=== Assets whose function is dependent on others ===')\n",
    "print(response.text)"
   ]
  },
  {
   "cell_type": "markdown",
   "metadata": {},
   "source": [
    "### End entities\n",
    "\n",
    "It can be valuable to know the first or last member of a chain and with negation (see 2.2) this becomes trivial - we simply look for there not to exist a proceeding or succeeding member of the chain respectively.\n",
    "\n",
    "Below is a rule that identifies the web server as a top level asset."
   ]
  },
  {
   "cell_type": "code",
   "execution_count": 10,
   "metadata": {},
   "outputs": [],
   "source": [
    "last_entity_rule = \"\"\"\n",
    "\n",
    "[?asset1, a, :TopLevelAsset] :-\n",
    "    [?asset1, :dependsOn, ?asset2] \n",
    "    NOT EXISTS ?asset0 IN ( [?asset0, :dependsOn, ?asset1] ).\n",
    "\n",
    "\"\"\""
   ]
  },
  {
   "cell_type": "markdown",
   "metadata": {},
   "source": [
    "### Cyclic relationships\n",
    "\n",
    "Recursion can create cyclic relationships, either intentionally or otherwise, so it can be important to know when and where they exist.\n",
    "\n",
    "Cyclic relationships that have been created through recursion are very simple to detect - we can simply look for an entity that belongs to its own chain.\n",
    "\n",
    "Below is a rule that does just that."
   ]
  },
  {
   "cell_type": "code",
   "execution_count": 15,
   "metadata": {},
   "outputs": [
    {
     "name": "stdout",
     "output_type": "stream",
     "text": [
      "\n",
      "=== Cycles ===\n",
      "?cyclicAsset\t?downstreamAsset\n",
      "<https://rdfox.com/example#machine>\t<https://rdfox.com/example#network>\n",
      "<https://rdfox.com/example#network>\t<https://rdfox.com/example#webServer>\n",
      "<https://rdfox.com/example#webServer>\t<https://rdfox.com/example#machine>\n",
      "\n"
     ]
    }
   ],
   "source": [
    "\n",
    "cyclic_data = \"\"\"\n",
    "\n",
    ":network :dependsOn :webServer .\n",
    "\n",
    "\"\"\"\n",
    "\n",
    "cyclic_rule = \"\"\"\n",
    "\n",
    "[?asset, a, :CyclicAsset] :-\n",
    "    [?asset, :dependsViaClosure, ?asset].\n",
    "\n",
    "\"\"\"\n",
    "\n",
    "cyclic_query = \"\"\"\n",
    "\n",
    "SELECT ?cyclicAsset ?downstreamAsset\n",
    "WHERE {\n",
    "    ?cyclicAsset a :CyclicAsset ;\n",
    "        :dependsOn ?downstreamAsset .\n",
    "    \n",
    "    ?downstreamAsset a :CyclicAsset .\n",
    "} ORDER BY ASC(?cyclicAsset)\n",
    "\n",
    "\"\"\"\n",
    "\n",
    "# Add data\n",
    "payload = {'operation': 'add-content-update-prefixes'}\n",
    "data_response = requests.patch(\n",
    "    rdfox_server + \"/datastores/default/content\", params=payload, data=cyclic_data)\n",
    "assert_response_ok(data_response, \"Failed to add facts to data store.\")\n",
    "\n",
    "# Add rules\n",
    "with open(\"../rules/3_4-PropertyPathsRules.dlog\", \"r\") as rule_file:\n",
    "    datalog_rule = rule_file.read()\n",
    "response = requests.post(rdfox_server + \"/datastores/default/content\", data=cyclic_rule)\n",
    "assert_response_ok(response, \"Failed to add rule.\")\n",
    "\n",
    "# Issue select query\n",
    "response = requests.get(\n",
    "    rdfox_server + \"/datastores/default/sparql\", params={\"query\": cyclic_query})\n",
    "assert_response_ok(response, \"Failed to run select query.\")\n",
    "print('\\n=== Cycles ===')\n",
    "print(response.text)\n"
   ]
  },
  {
   "cell_type": "markdown",
   "metadata": {},
   "source": [
    "## Exercise\n",
    "\n",
    "Complete the rule `3_3-TransitiveClosureRules.dlog` in the `rules` folder so that the query below can be used to directly find the transitive dependencies of all primary assets - that is, assets that have a `:backupPriority` of 0."
   ]
  },
  {
   "cell_type": "code",
   "execution_count": 25,
   "metadata": {},
   "outputs": [],
   "source": [
    "tc_sparql = \"\"\"\n",
    "\n",
    "SELECT ?upstreamAsset ?downstreamAsset\n",
    "WHERE {\n",
    "    ?upstreamAsset :hasPrimaryDependency ?downstreamAsset\n",
    "} ORDER BY DESC(?upstreamAsset) ASC(?downstreamAsset)\n",
    "\n",
    "\"\"\""
   ]
  },
  {
   "cell_type": "markdown",
   "metadata": {},
   "source": [
    "Here is a representative sample of the data in `2_3-BlankNodesData.ttl`."
   ]
  },
  {
   "cell_type": "code",
   "execution_count": 23,
   "metadata": {},
   "outputs": [],
   "source": [
    "sample_data = \"\"\"\n",
    "@prefix : <https://rdfox.com/example#> .\n",
    "\n",
    ":webServer1 a :WebServer;\n",
    "    :backupPriority 0;\n",
    "    :dependsOn :machine1 ;\n",
    "    :hasBackup :webServer2 .\n",
    "\n",
    ":webServer2 a :WebServer;\n",
    "    :backupPriority 1;\n",
    "    :dependsOn :machine2 .\n",
    "\n",
    ":machine1 a :ServerMachine;\n",
    "    :backupPriority 0;\n",
    "    :dependsOn :network1, :powerSupply1 .\n",
    "\n",
    ":machine2 a :ServerMachine;\n",
    "    :backupPriority 1;\n",
    "    :dependsOn :network2, :powerSupply2 .\n",
    "\n",
    "\"\"\""
   ]
  },
  {
   "cell_type": "markdown",
   "metadata": {},
   "source": [
    "### Check your work\n",
    "\n",
    "Run the query below to verify the results."
   ]
  },
  {
   "cell_type": "code",
   "execution_count": 29,
   "metadata": {},
   "outputs": [
    {
     "name": "stdout",
     "output_type": "stream",
     "text": [
      "\n",
      "=== Primary Assets Transitive Dependencies ===\n",
      "?upstreamAsset\t?downstreamAsset\n",
      "<https://rdfox.com/example/webServerService>\t<https://rdfox.com/example/machine1>\n",
      "<https://rdfox.com/example/webServerService>\t<https://rdfox.com/example/network1>\n",
      "<https://rdfox.com/example/webServerService>\t<https://rdfox.com/example/powerSupply1>\n",
      "<https://rdfox.com/example/webServerService>\t<https://rdfox.com/example/webServer1>\n",
      "<https://rdfox.com/example/webServer1>\t<https://rdfox.com/example/machine1>\n",
      "<https://rdfox.com/example/webServer1>\t<https://rdfox.com/example/network1>\n",
      "<https://rdfox.com/example/webServer1>\t<https://rdfox.com/example/powerSupply1>\n",
      "<https://rdfox.com/example/onlineStoreSystem>\t<https://rdfox.com/example/machine1>\n",
      "<https://rdfox.com/example/onlineStoreSystem>\t<https://rdfox.com/example/machine5>\n",
      "<https://rdfox.com/example/onlineStoreSystem>\t<https://rdfox.com/example/machine9>\n",
      "<https://rdfox.com/example/onlineStoreSystem>\t<https://rdfox.com/example/network1>\n",
      "<https://rdfox.com/example/onlineStoreSystem>\t<https://rdfox.com/example/network5>\n",
      "<https://rdfox.com/example/onlineStoreSystem>\t<https://rdfox.com/example/network9>\n",
      "<https://rdfox.com/example/onlineStoreSystem>\t<https://rdfox.com/example/onlineStoreApplicationServer1>\n",
      "<https://rdfox.com/example/onlineStoreSystem>\t<https://rdfox.com/example/onlineStoreApplicationService>\n",
      "<https://rdfox.com/example/onlineStoreSystem>\t<https://rdfox.com/example/onlineStoreDataBase1>\n",
      "<https://rdfox.com/example/onlineStoreSystem>\t<https://rdfox.com/example/onlineStoreDatabaseService>\n",
      "<https://rdfox.com/example/onlineStoreSystem>\t<https://rdfox.com/example/paymentProcessingService>\n",
      "<https://rdfox.com/example/onlineStoreSystem>\t<https://rdfox.com/example/powerSupply1>\n",
      "<https://rdfox.com/example/onlineStoreSystem>\t<https://rdfox.com/example/powerSupply5>\n",
      "<https://rdfox.com/example/onlineStoreSystem>\t<https://rdfox.com/example/powerSupply9>\n",
      "<https://rdfox.com/example/onlineStoreSystem>\t<https://rdfox.com/example/webServer1>\n",
      "<https://rdfox.com/example/onlineStoreSystem>\t<https://rdfox.com/example/webServerService>\n",
      "<https://rdfox.com/example/onlineStoreDatabaseService>\t<https://rdfox.com/example/machine9>\n",
      "<https://rdfox.com/example/onlineStoreDatabaseService>\t<https://rdfox.com/example/network9>\n",
      "<https://rdfox.com/example/onlineStoreDatabaseService>\t<https://rdfox.com/example/onlineStoreDataBase1>\n",
      "<https://rdfox.com/example/onlineStoreDatabaseService>\t<https://rdfox.com/example/powerSupply9>\n",
      "<https://rdfox.com/example/onlineStoreDataBase1>\t<https://rdfox.com/example/machine9>\n",
      "<https://rdfox.com/example/onlineStoreDataBase1>\t<https://rdfox.com/example/network9>\n",
      "<https://rdfox.com/example/onlineStoreDataBase1>\t<https://rdfox.com/example/powerSupply9>\n",
      "<https://rdfox.com/example/onlineStoreApplicationService>\t<https://rdfox.com/example/machine5>\n",
      "<https://rdfox.com/example/onlineStoreApplicationService>\t<https://rdfox.com/example/network5>\n",
      "<https://rdfox.com/example/onlineStoreApplicationService>\t<https://rdfox.com/example/onlineStoreApplicationServer1>\n",
      "<https://rdfox.com/example/onlineStoreApplicationService>\t<https://rdfox.com/example/powerSupply5>\n",
      "<https://rdfox.com/example/onlineStoreApplicationServer1>\t<https://rdfox.com/example/machine5>\n",
      "<https://rdfox.com/example/onlineStoreApplicationServer1>\t<https://rdfox.com/example/network5>\n",
      "<https://rdfox.com/example/onlineStoreApplicationServer1>\t<https://rdfox.com/example/powerSupply5>\n",
      "<https://rdfox.com/example/machine9>\t<https://rdfox.com/example/network9>\n",
      "<https://rdfox.com/example/machine9>\t<https://rdfox.com/example/powerSupply9>\n",
      "<https://rdfox.com/example/machine5>\t<https://rdfox.com/example/network5>\n",
      "<https://rdfox.com/example/machine5>\t<https://rdfox.com/example/powerSupply5>\n",
      "<https://rdfox.com/example/machine1>\t<https://rdfox.com/example/network1>\n",
      "<https://rdfox.com/example/machine1>\t<https://rdfox.com/example/powerSupply1>\n",
      "\n"
     ]
    }
   ],
   "source": [
    "# Clear data store\n",
    "clear_response = requests.delete(\n",
    "    rdfox_server + \"/datastores/default/content?facts=true&axioms&rules\")\n",
    "assert_response_ok(clear_response, \"Failed to clear data store.\")\n",
    "\n",
    "# Get and add data\n",
    "with open(\"../data/3_3-TransitiveClosureData.ttl\", \"r\") as file:\n",
    "    tc_data = file.read()\n",
    "payload = {'operation': 'add-content-update-prefixes'}\n",
    "data_response = requests.patch(\n",
    "    rdfox_server + \"/datastores/default/content\", params=payload, data=tc_data)\n",
    "assert_response_ok(data_response, \"Failed to add facts to data store.\")\n",
    "\n",
    "# Get and add rules\n",
    "with open(\"../rules/3_3-TransitiveClosureRules.dlog\", \"r\") as file:\n",
    "    tc_rules = file.read()\n",
    "rules_response = requests.post(rdfox_server + \"/datastores/default/content\", data=tc_rules)\n",
    "assert_response_ok(rules_response, \"Failed to add rule.\")\n",
    "\n",
    "# Issue select query\n",
    "response = requests.get(\n",
    "    rdfox_server + \"/datastores/default/sparql\", params={\"query\": tc_sparql})\n",
    "assert_response_ok(response, \"Failed to run select query.\")\n",
    "print('\\n=== Primary Assets Transitive Dependencies ===')\n",
    "print(response.text)"
   ]
  },
  {
   "cell_type": "markdown",
   "metadata": {},
   "source": [
    "## Visualise the results\n",
    "\n",
    "These power in these results is much clearer when visualised.\n",
    "\n",
    "Open them in the RDFox Explorer [here](http://localhost:12110/console/datastores/explore?datastore=default&query=SELECT%20%3FupstreamAsset%20%3FdownstreamAsset%0AWHERE%20%7B%0A%20%20%20%20%3FupstreamAsset%20%3AhasPrimaryDependency%20%3FdownstreamAsset%0A%7D%20ORDER%20BY%20DESC%28%3FupstreamAsset%29%20ASC%28%3FdownstreamAsset%29) and **change the layout to Circule**."
   ]
  },
  {
   "cell_type": "markdown",
   "metadata": {},
   "source": [
    "### You should see...\n",
    "\n",
    "=== Primary Assets Transitive Dependencies ===\n",
    "|?upstreamAsset|?downstreamAsset|\n",
    "|-----------|-------------|\n",
    "|<https://rdfox.com/example/webServerService>|\t<https://rdfox.com/example/machine1>|\n",
    "|<https://rdfox.com/example/webServerService>|\t<https://rdfox.com/example/network1>|\n",
    "|<https://rdfox.com/example/webServerService>|\t<https://rdfox.com/example/powerSupply1>|\n",
    "|<https://rdfox.com/example/webServerService>|\t<https://rdfox.com/example/webServer1>|\n",
    "|<https://rdfox.com/example/webServer1>|\t<https://rdfox.com/example/machine1>|\n",
    "|<https://rdfox.com/example/webServer1>|\t<https://rdfox.com/example/network1>|\n",
    "|<https://rdfox.com/example/webServer1>|\t<https://rdfox.com/example/powerSupply1>|\n",
    "|<https://rdfox.com/example/onlineStoreSystem>|\t<https://rdfox.com/example/machine1>|\n",
    "|<https://rdfox.com/example/onlineStoreSystem>|\t<https://rdfox.com/example/machine5>|\n",
    "|<https://rdfox.com/example/onlineStoreSystem>|\t<https://rdfox.com/example/machine9>|\n",
    "|<https://rdfox.com/example/onlineStoreSystem>|\t<https://rdfox.com/example/network1>|\n",
    "|<https://rdfox.com/example/onlineStoreSystem>|\t<https://rdfox.com/example/network5>|\n",
    "|<https://rdfox.com/example/onlineStoreSystem>|\t<https://rdfox.com/example/network9>|\n",
    "|<https://rdfox.com/example/onlineStoreSystem>|\t<https://rdfox.com/example/onlineStoreApplicationServer1>|\n",
    "|<https://rdfox.com/example/onlineStoreSystem>|\t<https://rdfox.com/example/onlineStoreApplicationService>|\n",
    "|<https://rdfox.com/example/onlineStoreSystem>|\t<https://rdfox.com/example/onlineStoreDataBase1>|\n",
    "|<https://rdfox.com/example/onlineStoreSystem>|\t<https://rdfox.com/example/onlineStoreDatabaseService>|\n",
    "|<https://rdfox.com/example/onlineStoreSystem>|\t<https://rdfox.com/example/paymentProcessingService>|\n",
    "|<https://rdfox.com/example/onlineStoreSystem>|\t<https://rdfox.com/example/powerSupply1>|\n",
    "|<https://rdfox.com/example/onlineStoreSystem>|\t<https://rdfox.com/example/powerSupply5>|\n",
    "|<https://rdfox.com/example/onlineStoreSystem>|\t<https://rdfox.com/example/powerSupply9>|\n",
    "|<https://rdfox.com/example/onlineStoreSystem>|\t<https://rdfox.com/example/webServer1>|\n",
    "|...||\n",
    "|<https://rdfox.com/example/machine5>|\t<https://rdfox.com/example/powerSupply5>|\n",
    "|<https://rdfox.com/example/machine1>|\t<https://rdfox.com/example/network1>|\n",
    "|<https://rdfox.com/example/machine1>|\t<https://rdfox.com/example/powerSupply1>|"
   ]
  }
 ],
 "metadata": {
  "kernelspec": {
   "display_name": "venv",
   "language": "python",
   "name": "python3"
  },
  "language_info": {
   "codemirror_mode": {
    "name": "ipython",
    "version": 3
   },
   "file_extension": ".py",
   "mimetype": "text/x-python",
   "name": "python",
   "nbconvert_exporter": "python",
   "pygments_lexer": "ipython3",
   "version": "3.12.0"
  }
 },
 "nbformat": 4,
 "nbformat_minor": 2
}
