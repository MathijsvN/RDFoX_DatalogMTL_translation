{
 "cells": [
  {
   "cell_type": "markdown",
   "metadata": {},
   "source": [
    "# 3.5 Complex Recursion\n",
    "\n",
    "Recursive rules can be incredible powerful, able to be taken even further than the examples shown in 3.3 & 3.4 by incorporating calculations.\n",
    "\n",
    "Rules like these can be used to solve traditionally challenging data problems such as the bill of materials, where an aggregated cost must be calculated for hierarchical parts.\n",
    "\n",
    "## Example\n",
    "\n",
    "Critically for this example, we want to calculate the aggregated cost at each point in the tree, not just the highest level\n",
    "\n",
    "This is the most conceptually complex exercise in this workshop, so it's important to work up one layer at a time.\n",
    "\n",
    "It can help to visualise this problem, so run the cell below then click here to [explore the data](http://localhost:12110/console/datastores/explore?datastore=default&query=SELECT%20%3FS%20%3FP%20%3FO%0AWHERE%20%7B%0A%20%20%20%20%3FS%20%3FP%20%3FO%0A%7D) and change the layout to **Breadth First**."
   ]
  },
  {
   "cell_type": "code",
   "execution_count": 1,
   "metadata": {},
   "outputs": [],
   "source": [
    "import requests\n",
    "\n",
    "cr_data = \"\"\"\n",
    "@prefix : <https://rdfox.com/example#> .\n",
    "\n",
    ":compoundB :contains :compoundA,\n",
    "                :part4 .\n",
    "\n",
    ":part4 :hasCost 10 .\n",
    "\n",
    ":compoundA :contains :part1,\n",
    "                :part2 ,\n",
    "                :part3 .\n",
    "\n",
    ":part1 :hasCost 1 .\n",
    ":part2 :hasCost 1 .\n",
    ":part3 :hasCost 1 .\n",
    "\n",
    "\"\"\"\n",
    "\n",
    "# Set up the SPARQL endpoint\n",
    "rdfox_server = \"http://localhost:12110\"\n",
    "\n",
    "# Helper function to raise exception if the REST endpoint returns an unexpected status code\n",
    "def assert_response_ok(response, message):\n",
    "    if not response.ok:\n",
    "        raise Exception(\n",
    "            message + \"\\nStatus received={}\\n{}\".format(response.status_code, response.text))\n",
    "    \n",
    "# Clear data store\n",
    "clear_response = requests.delete(\n",
    "    rdfox_server + \"/datastores/default/content?facts=true&axioms&rules\")\n",
    "assert_response_ok(clear_response, \"Failed to clear data store.\")\n",
    "\n",
    "# Add data\n",
    "payload = {'operation': 'add-content-update-prefixes'}\n",
    "data_response = requests.patch(\n",
    "    rdfox_server + \"/datastores/default/content\", params=payload, data=cr_data)\n",
    "assert_response_ok(data_response, \"Failed to add facts to data store.\")\n"
   ]
  },
  {
   "cell_type": "markdown",
   "metadata": {},
   "source": [
    "The challenge here is that we wish to calculate the aggregate cost at each compound point - both for the collections of parts, and for the collection of sub-compounds.\n",
    "\n",
    "However, RDFox will not accept aggregates (or negation) that rely on recursive results (see 2.2), so we cannot write a simple recursive rule set.\n",
    "\n",
    "To demonstrate that, below is a rule that might naively be written to solve this.\n",
    "\n",
    "When trying to import this rule, RDFox will throw a stratification error."
   ]
  },
  {
   "cell_type": "code",
   "execution_count": 2,
   "metadata": {},
   "outputs": [
    {
     "ename": "Exception",
     "evalue": "Failed to add rule.\nStatus received=400\nRuleCompilationException: The program is not stratified because these components of the dependency graph contain cycles through negation and/or aggregation:\n======== COMPONENT 1 ========\n    <https://rdfox.com/example/hasCost>[?compound, ?totalCost] :- AGGREGATE(<https://rdfox.com/example/contains>[?compound, ?thing], <https://rdfox.com/example/hasCost>[?thing, ?cost] ON ?compound BIND SUM(?cost) AS ?totalCost) .\n========================================================================================================================\n",
     "output_type": "error",
     "traceback": [
      "\u001b[0;31m---------------------------------------------------------------------------\u001b[0m",
      "\u001b[0;31mException\u001b[0m                                 Traceback (most recent call last)",
      "Cell \u001b[0;32mIn[2], line 26\u001b[0m\n\u001b[1;32m     24\u001b[0m \u001b[38;5;66;03m# Add rules\u001b[39;00m\n\u001b[1;32m     25\u001b[0m rules_response \u001b[38;5;241m=\u001b[39m requests\u001b[38;5;241m.\u001b[39mpost(rdfox_server \u001b[38;5;241m+\u001b[39m \u001b[38;5;124m\"\u001b[39m\u001b[38;5;124m/datastores/default/content\u001b[39m\u001b[38;5;124m\"\u001b[39m, data\u001b[38;5;241m=\u001b[39munstratified_rules)\n\u001b[0;32m---> 26\u001b[0m \u001b[43massert_response_ok\u001b[49m\u001b[43m(\u001b[49m\u001b[43mrules_response\u001b[49m\u001b[43m,\u001b[49m\u001b[43m \u001b[49m\u001b[38;5;124;43m\"\u001b[39;49m\u001b[38;5;124;43mFailed to add rule.\u001b[39;49m\u001b[38;5;124;43m\"\u001b[39;49m\u001b[43m)\u001b[49m\n\u001b[1;32m     28\u001b[0m \u001b[38;5;28mprint\u001b[39m(rules_response\u001b[38;5;241m.\u001b[39mtext)\n",
      "Cell \u001b[0;32mIn[2], line 21\u001b[0m, in \u001b[0;36massert_response_ok\u001b[0;34m(response, message)\u001b[0m\n\u001b[1;32m     19\u001b[0m \u001b[38;5;28;01mdef\u001b[39;00m \u001b[38;5;21massert_response_ok\u001b[39m(response, message):\n\u001b[1;32m     20\u001b[0m     \u001b[38;5;28;01mif\u001b[39;00m \u001b[38;5;129;01mnot\u001b[39;00m response\u001b[38;5;241m.\u001b[39mok:\n\u001b[0;32m---> 21\u001b[0m         \u001b[38;5;28;01mraise\u001b[39;00m \u001b[38;5;167;01mException\u001b[39;00m(\n\u001b[1;32m     22\u001b[0m             message \u001b[38;5;241m+\u001b[39m \u001b[38;5;124m\"\u001b[39m\u001b[38;5;130;01m\\n\u001b[39;00m\u001b[38;5;124mStatus received=\u001b[39m\u001b[38;5;132;01m{}\u001b[39;00m\u001b[38;5;130;01m\\n\u001b[39;00m\u001b[38;5;132;01m{}\u001b[39;00m\u001b[38;5;124m\"\u001b[39m\u001b[38;5;241m.\u001b[39mformat(response\u001b[38;5;241m.\u001b[39mstatus_code, response\u001b[38;5;241m.\u001b[39mtext))\n",
      "\u001b[0;31mException\u001b[0m: Failed to add rule.\nStatus received=400\nRuleCompilationException: The program is not stratified because these components of the dependency graph contain cycles through negation and/or aggregation:\n======== COMPONENT 1 ========\n    <https://rdfox.com/example/hasCost>[?compound, ?totalCost] :- AGGREGATE(<https://rdfox.com/example/contains>[?compound, ?thing], <https://rdfox.com/example/hasCost>[?thing, ?cost] ON ?compound BIND SUM(?cost) AS ?totalCost) .\n========================================================================================================================\n"
     ]
    }
   ],
   "source": [
    "unstratified_rules = \"\"\"\n",
    "\n",
    "[?compound, :hasCost, ?totalCost] :-\n",
    "    AGGREGATE(\n",
    "        [?compound, :contains, ?thing],\n",
    "        [?thing, :hasCost, ?cost]\n",
    "        ON ?compound\n",
    "        BIND SUM(?cost) AS ?totalCost\n",
    "    ).\n",
    "\n",
    "\"\"\"\n",
    "\n",
    "# Add rules\n",
    "rules_response = requests.post(rdfox_server + \"/datastores/default/content\", data=unstratified_rules)\n",
    "assert_response_ok(rules_response, \"Failed to add rule.\")\n",
    "\n",
    "print(rules_response.text)"
   ]
  },
  {
   "cell_type": "markdown",
   "metadata": {},
   "source": [
    "## Solving the Bill of Materials\n",
    "\n",
    "To get around this, we must perform the aggregates in a deterministic, stratified way - we must state the order in which it will occur.\n",
    "\n",
    "One way to do this is to create an order for the parts and components, and use `BIND` to sum the running total from one part to the next. This way no recursive rules incorporate an aggregate.\n",
    "\n",
    "\n",
    "## Ordering entities for an arbitrary compound node\n",
    "\n",
    "To order arbitrary nodes, we first have to find each node's relative position to one another (whether it is before or after), then give them a specific position within the list by putting node next to one another where there is no other node in between."
   ]
  },
  {
   "cell_type": "code",
   "execution_count": 4,
   "metadata": {},
   "outputs": [],
   "source": [
    "ordering_rules = \"\"\"\n",
    "\n",
    "[?thing1, :hasGreaterThing, ?thing2] :-\n",
    "    [?compound, :contains, ?thing1],\n",
    "    [?compound, :contains, ?thing2],\n",
    "    FILTER (?thing2 > ?thing1).\n",
    "\n",
    "[?thing1, :hasNextThing, ?thing2] :-\n",
    "    [?thing1, :hasGreaterThing, ?thing2],\n",
    "    NOT EXISTS ?thing3 IN ( \n",
    "        [?thing1, :hasGreaterThing, ?thing3], \n",
    "        [?thing3, :hasGreaterThing, ?thing2]\n",
    "    ).\n",
    "\n",
    "\"\"\"\n",
    "# Clear data store\n",
    "clear_response = requests.delete(\n",
    "    rdfox_server + \"/datastores/default/content?facts=true&axioms&rules\")\n",
    "assert_response_ok(clear_response, \"Failed to clear data store.\")\n",
    "\n",
    "# Add rules\n",
    "rules_response = requests.post(rdfox_server + \"/datastores/default/content\", data=ordering_rules)\n",
    "assert_response_ok(rules_response, \"Failed to add rule.\")\n",
    "\n",
    "# Add data\n",
    "payload = {'operation': 'add-content-update-prefixes'}\n",
    "data_response = requests.patch(\n",
    "    rdfox_server + \"/datastores/default/content\", params=payload, data=cr_data)\n",
    "assert_response_ok(data_response, \"Failed to add facts to data store.\")"
   ]
  },
  {
   "cell_type": "markdown",
   "metadata": {},
   "source": [
    "### Progress so far...\n",
    "\n",
    "[View the results of these rules here](http://localhost:12110/console/datastores/explore?datastore=default&query=SELECT%20%3FS%20%3FP%20%3FO%0AWHERE%20%7B%0A%20%20%20%20%3FS%20%3FP%20%3FO%0A%7D) and **change the layout to Breadth first**.\n",
    "\n",
    "Use the bulb to highlight the facts that have been inferred.\n",
    "\n",
    "## Finding the first and last members of the chain\n",
    "\n",
    "Next we need to identify the first and last members of the chains we've created.\n",
    "\n",
    "It may not be immediately clear why we do this, but they will both be helpful in the final step."
   ]
  },
  {
   "cell_type": "code",
   "execution_count": 4,
   "metadata": {},
   "outputs": [],
   "source": [
    "end_point_rules = \"\"\"\n",
    "\n",
    "[?compound, :hasFirstThing, ?firstThing] :-\n",
    "    [?compound, :contains, ?firstThing],\n",
    "    NOT EXISTS ?something IN ([?something, :hasGreaterThing, ?firstThing]).\n",
    "\n",
    "[?compound, :hasLastThing, ?lastThing] :-\n",
    "    [?compound, :contains, ?lastThing],\n",
    "    NOT EXISTS ?something IN ([?lastThing, :hasGreaterThing, ?something]).\n",
    "\n",
    "\"\"\"\n",
    "\n",
    "# Add rules\n",
    "rules_response = requests.post(rdfox_server + \"/datastores/default/content\", data=end_point_rules)\n",
    "assert_response_ok(rules_response, \"Failed to add rule.\")"
   ]
  },
  {
   "cell_type": "markdown",
   "metadata": {},
   "source": [
    "### Progress so far...\n",
    "\n",
    "[View the results of these rules here](http://localhost:12110/console/datastores/explore?datastore=default&query=SELECT%20%3FS%20%3FP%20%3FO%0AWHERE%20%7B%0A%20%20%20%20%3FS%20%3FP%20%3FO%0A%7D) and **change the layout to Breadth first**.\n",
    "\n",
    "Use the bulb to highlight the facts that have been inferred.\n",
    "\n",
    "## Calculating a running total\n",
    "\n",
    "Now that all the pieces are in place, we can recursively calculate a running total.\n",
    "\n",
    "The running count begins at the first thing in the compound and is passed up to the compound node once it has reached the last thing."
   ]
  },
  {
   "cell_type": "code",
   "execution_count": 5,
   "metadata": {},
   "outputs": [],
   "source": [
    "running_total_rules = \"\"\"\n",
    "\n",
    "[?firstThing, :hasRunningTotal, ?cost] :-\n",
    "    [?compound, :hasFirstThing, ?firstThing],\n",
    "    [?firstThing, :hasCost, ?cost].\n",
    "\n",
    "[?thing2, :hasRunningTotal, ?runningTotal] :-\n",
    "    [?thing1, :hasNextThing, ?thing2],\n",
    "    [?thing1, :hasRunningTotal, ?oldRunningTotal],\n",
    "    [?thing2, :hasCost, ?cost],\n",
    "    BIND (?oldRunningTotal + ?cost AS ?runningTotal).\n",
    "\n",
    "[?compound, :hasCost, ?compoundTotal] :-\n",
    "    [?compound, :hasLastThing, ?lastThing],\n",
    "    [?lastThing, :hasRunningTotal, ?compoundTotal].\n",
    "\n",
    "\"\"\"\n",
    "\n",
    "# Add rules\n",
    "rules_response = requests.post(rdfox_server + \"/datastores/default/content\", data=running_total_rules)\n",
    "assert_response_ok(rules_response, \"Failed to add rule.\")"
   ]
  },
  {
   "cell_type": "markdown",
   "metadata": {},
   "source": [
    "### Check the results!\n",
    "\n",
    "[View the results of these rules here](http://localhost:12110/console/datastores/explore?datastore=default&query=SELECT%20%3FS%20%3FP%20%3FO%0AWHERE%20%7B%0A%20%20%20%20%3FS%20%3FP%20%3FO%0A%7D) and **change the layout to Breadth first**.\n",
    "\n",
    "Use the bulb to highlight the facts that have been inferred."
   ]
  },
  {
   "cell_type": "markdown",
   "metadata": {},
   "source": [
    "## Explainability\n",
    "\n",
    "As complex as the emerging results may be, rules simply offer a series of logical inferences, and this means that every result is examplable.\n",
    "\n",
    "We saw simple example of this in 3.1, but this proof tree is significantly more intricate.\n",
    "\n",
    "[Click here](http://localhost:12110/console/datastores/explain?datastore=default&fact=%5B%3Chttps%3A%2F%2Frdfox.com%2Fexample%23compoundB%3E%2C%20%3Chttps%3A%2F%2Frdfox.com%2Fexample%23hasCost%3E%2C%2013%5D) to explain the cost of `compoundB`. Results can be explained in the **Explain** tab of the RDFox Console."
   ]
  },
  {
   "cell_type": "markdown",
   "metadata": {},
   "source": [
    "## Exercise\n",
    "\n",
    "Complete the rule `3_5-ComplexRecursionRules.dlog` in the `rules` folder so that the query below can be used to directly find the highest-level compound nodes that each represent a separate bill of materials.\n",
    "\n",
    "**To do this**, must also write a rule to account for compound nodes that only have 1 child."
   ]
  },
  {
   "cell_type": "code",
   "execution_count": 15,
   "metadata": {},
   "outputs": [],
   "source": [
    "cr_sparql = \"\"\"\n",
    "SELECT ?thing ?compoundTotal\n",
    "WHERE {\n",
    "    ?thing a :TopLevelCompound ;\n",
    "        :hasCost ?compoundTotal .\n",
    "}\n",
    "\"\"\""
   ]
  },
  {
   "cell_type": "markdown",
   "metadata": {},
   "source": [
    "Here is a representative sample of the data in `3_5-ComplexRecursionData.ttl`."
   ]
  },
  {
   "cell_type": "code",
   "execution_count": 16,
   "metadata": {},
   "outputs": [],
   "source": [
    "sample_data = \"\"\"\n",
    "@prefix : <https://rdfox.com/example#> .\n",
    "\n",
    ":compound001 a :Compound ;\n",
    "        :contains :compound002,\n",
    "                :part4 .\n",
    "\n",
    ":compound002 a :Compound ;\n",
    "        :contains :compound003,\n",
    "                :part1,\n",
    "                :part2 ,\n",
    "                :part3 .\n",
    "\n",
    ":compound010 a :Compound ;\n",
    "        :contains :part16 .                \n",
    "\n",
    ":part1 :hasCost 3 .\n",
    ":part2 :hasCost 2 .\n",
    ":part3 :hasCost 9 .\n",
    ":part4 :hasCost 7 .\n",
    ":part16 :hasCost 1 .\n",
    "\n",
    "\"\"\""
   ]
  },
  {
   "cell_type": "markdown",
   "metadata": {},
   "source": [
    "### Check your work\n",
    "\n",
    "Run the query below to verify the results."
   ]
  },
  {
   "cell_type": "code",
   "execution_count": 20,
   "metadata": {},
   "outputs": [
    {
     "name": "stdout",
     "output_type": "stream",
     "text": [
      "\n",
      "=== Switches Requiring Maintenance ===\n",
      "?thing\t?compoundTotal\n",
      "<https://rdfox.com/example#compound001>\t70\n",
      "<https://rdfox.com/example#compound009>\t74\n",
      "<https://rdfox.com/example#compound017>\t35\n",
      "<https://rdfox.com/example#compound020>\t64\n",
      "\n"
     ]
    }
   ],
   "source": [
    "# Clear data store\n",
    "clear_response = requests.delete(\n",
    "    rdfox_server + \"/datastores/default/content?facts=true&axioms&rules\")\n",
    "assert_response_ok(clear_response, \"Failed to clear data store.\")\n",
    "\n",
    "# Get and add data\n",
    "with open(\"../data/3_5-ComplexRecursionData.ttl\", \"r\") as file:\n",
    "    data = file.read()\n",
    "payload = {'operation': 'add-content-update-prefixes'}\n",
    "data_response = requests.patch(\n",
    "    rdfox_server + \"/datastores/default/content\", params=payload, data=data)\n",
    "assert_response_ok(data_response, \"Failed to add facts to data store.\")\n",
    "\n",
    "# Get and add rules\n",
    "with open(\"../rules/3_5-ComplexRecursionRules.dlog\", \"r\") as rule_file:\n",
    "    datalog_rule = rule_file.read()\n",
    "response = requests.post(rdfox_server + \"/datastores/default/content\", data=datalog_rule)\n",
    "assert_response_ok(response, \"Failed to add rule.\")\n",
    "\n",
    "# Issue select query\n",
    "response = requests.get(\n",
    "    rdfox_server + \"/datastores/default/sparql\", params={\"query\": cr_sparql})\n",
    "assert_response_ok(response, \"Failed to run select query.\")\n",
    "print('\\n=== Top Level Compounds & Totals ===')\n",
    "print(response.text)"
   ]
  },
  {
   "cell_type": "markdown",
   "metadata": {},
   "source": [
    "### Visualise the results\n",
    "\n",
    "The power in these results is much clearer when visualised.\n",
    "\n",
    "Open them in the RDFox Explorer [here](http://localhost:12110/console/datastores/explore?datastore=default&query=SELECT%20%3FendPerson%20%3Fperson%0AWHERE%20%7B%0A%0A%20%20%20%20%3FpathNode%20%3ApathTo%20%3FendPerson%3B%0A%20%20%20%20%20%20%20%20%20%20%20%20%3AhasPathLength%20%3FpathLength%3B%0A%20%20%20%20%20%20%20%20%20%20%20%20%3ApathIncludes%20%3Fperson%20.%0A%0A%20%20%20%20%3Fperson%20%3AhopsAwayFromAlice%20%3FhopsAwayFromAlice.%0A%0A%7D%20ORDER%20BY%20DESC%28%3FpathLength%29%20ASC%28%3FendPerson%29%20ASC%28%3FhopsAwayFromAlice%29) and **change the layout to Breadth First**.\n",
    "\n",
    "If you can separate 4 distinct trees, that's a good sign!"
   ]
  },
  {
   "cell_type": "markdown",
   "metadata": {},
   "source": [
    "## You should see...\n",
    "\n",
    "=== Top Level Compounds & Totals ===\n",
    "|?thing|?compoundTotal|\n",
    "|-----------|-------------|\n",
    "|<https://rdfox.com/example#compound001>|\t70|\n",
    "|<https://rdfox.com/example#compound009>|\t74|\n",
    "|<https://rdfox.com/example#compound017>|\t35|\n",
    "|<https://rdfox.com/example#compound020>|\t64|"
   ]
  }
 ],
 "metadata": {
  "kernelspec": {
   "display_name": "venv",
   "language": "python",
   "name": "python3"
  },
  "language_info": {
   "codemirror_mode": {
    "name": "ipython",
    "version": 3
   },
   "file_extension": ".py",
   "mimetype": "text/x-python",
   "name": "python",
   "nbconvert_exporter": "python",
   "pygments_lexer": "ipython3",
   "version": "3.12.0"
  }
 },
 "nbformat": 4,
 "nbformat_minor": 2
}
