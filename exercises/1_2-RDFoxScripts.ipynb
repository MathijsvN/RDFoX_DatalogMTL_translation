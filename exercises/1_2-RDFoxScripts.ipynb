{
 "cells": [
  {
   "cell_type": "markdown",
   "metadata": {},
   "source": [
    "# 1.2 RDFox Scripts\n",
    "\n",
    "It's common to use scripts with RDFox to perform repetitive actions while developing or for a consistent setup.\n",
    "\n",
    "RDFox recognizes files of the type `.rdfox` as shell scripts, meaning these scripts can contain any RDFox commands that can be written in the shell.\n",
    "\n",
    "Commands will be executed in line order.\n",
    "\n",
    "## Running scripts\n",
    "\n",
    "RDFox will run a script if it's file name is entering as a command. The file extension is not strictly necessary.\n",
    "\n",
    "`file-name.rdfox`\n",
    "\n",
    "### Running commands (and scripts) on startup\n",
    "\n",
    "The start-up command for RDFox can be modified to include shell commands (including scripts). A full stop is added after the RDFox mode, then the command(s) after that.\n",
    "\n",
    "`./RDFox.exe sandbox . start`\n",
    "\n",
    "**Have a look at the start script we used on startup, you'll see some common startup commands.**"
   ]
  }
 ],
 "metadata": {
  "language_info": {
   "name": "python"
  }
 },
 "nbformat": 4,
 "nbformat_minor": 2
}
