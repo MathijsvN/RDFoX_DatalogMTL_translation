{
 "cells": [
  {
   "cell_type": "markdown",
   "metadata": {},
   "source": [
    "# Getting out of sticky situations...\n",
    "\n",
    "It is possible to write a rules that runs infinitely long (or at least very long), particularly when learning new things and testing out new features.\n",
    "\n",
    "If this is the case, stopping a cell in one of the notebooks will not be enough to get you out of this situation.\n",
    "\n",
    "### You must run the cell below to cancel the request to RDFox"
   ]
  },
  {
   "cell_type": "code",
   "execution_count": 1,
   "metadata": {},
   "outputs": [
    {
     "ename": "IndexError",
     "evalue": "list index out of range",
     "output_type": "error",
     "traceback": [
      "\u001b[0;31m---------------------------------------------------------------------------\u001b[0m",
      "\u001b[0;31mIndexError\u001b[0m                                Traceback (most recent call last)",
      "Cell \u001b[0;32mIn[1], line 21\u001b[0m\n\u001b[1;32m     18\u001b[0m decode_response \u001b[38;5;241m=\u001b[39m request_response\u001b[38;5;241m.\u001b[39mcontent\u001b[38;5;241m.\u001b[39mdecode(\u001b[38;5;124m'\u001b[39m\u001b[38;5;124mutf8\u001b[39m\u001b[38;5;124m'\u001b[39m)\n\u001b[1;32m     19\u001b[0m data \u001b[38;5;241m=\u001b[39m json\u001b[38;5;241m.\u001b[39mloads(decode_response)\n\u001b[0;32m---> 21\u001b[0m request_ID \u001b[38;5;241m=\u001b[39m \u001b[38;5;28mstr\u001b[39m(\u001b[43mdata\u001b[49m\u001b[43m[\u001b[49m\u001b[38;5;124;43m\"\u001b[39;49m\u001b[38;5;124;43mresults\u001b[39;49m\u001b[38;5;124;43m\"\u001b[39;49m\u001b[43m]\u001b[49m\u001b[43m[\u001b[49m\u001b[38;5;124;43m\"\u001b[39;49m\u001b[38;5;124;43mbindings\u001b[39;49m\u001b[38;5;124;43m\"\u001b[39;49m\u001b[43m]\u001b[49m\u001b[43m[\u001b[49m\u001b[38;5;241;43m0\u001b[39;49m\u001b[43m]\u001b[49m[\u001b[38;5;124m\"\u001b[39m\u001b[38;5;124mRequestID\u001b[39m\u001b[38;5;124m\"\u001b[39m][\u001b[38;5;124m\"\u001b[39m\u001b[38;5;124mvalue\u001b[39m\u001b[38;5;124m\"\u001b[39m])\n\u001b[1;32m     23\u001b[0m \u001b[38;5;66;03m# Delete request\u001b[39;00m\n\u001b[1;32m     24\u001b[0m request_response \u001b[38;5;241m=\u001b[39m requests\u001b[38;5;241m.\u001b[39mdelete(\n\u001b[1;32m     25\u001b[0m     rdfox_server \u001b[38;5;241m+\u001b[39m \u001b[38;5;124m\"\u001b[39m\u001b[38;5;124m/requests/\u001b[39m\u001b[38;5;124m\"\u001b[39m \u001b[38;5;241m+\u001b[39m request_ID)\n",
      "\u001b[0;31mIndexError\u001b[0m: list index out of range"
     ]
    }
   ],
   "source": [
    "import requests\n",
    "import json\n",
    "\n",
    "# Set up the SPARQL endpoint\n",
    "rdfox_server = \"http://localhost:12110\"\n",
    "\n",
    "# Helper function to raise exception if the REST endpoint returns an unexpected status code\n",
    "def assert_response_ok(response, message):\n",
    "    if not response.ok:\n",
    "        raise Exception(\n",
    "            message + \"\\nStatus received={}\\n{}\".format(response.status_code, response.text))\n",
    "\n",
    "# Get request ID\n",
    "request_response = requests.get(\n",
    "    rdfox_server + \"/requests\", headers={\"Accept\": \"application/sparql-results+json\"})\n",
    "assert_response_ok(request_response, \"Failed to get request ID.\")\n",
    "\n",
    "decode_response = request_response.content.decode('utf8')\n",
    "data = json.loads(decode_response)\n",
    "\n",
    "request_ID = str(data[\"results\"][\"bindings\"][0][\"RequestID\"][\"value\"])\n",
    "\n",
    "# Delete request\n",
    "request_response = requests.delete(\n",
    "    rdfox_server + \"/requests/\" + request_ID)\n",
    "assert_response_ok(request_response, \"Failed to delete request.\")\n",
    "\n",
    "if request_response.ok:\n",
    "    print(request_ID + \": request canceled\")"
   ]
  }
 ],
 "metadata": {
  "kernelspec": {
   "display_name": "venv",
   "language": "python",
   "name": "python3"
  },
  "language_info": {
   "codemirror_mode": {
    "name": "ipython",
    "version": 3
   },
   "file_extension": ".py",
   "mimetype": "text/x-python",
   "name": "python",
   "nbconvert_exporter": "python",
   "pygments_lexer": "ipython3",
   "version": "3.12.0"
  }
 },
 "nbformat": 4,
 "nbformat_minor": 2
}
