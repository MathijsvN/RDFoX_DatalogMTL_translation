{
 "cells": [
  {
   "cell_type": "markdown",
   "metadata": {},
   "source": [
    "# Getting out of sticky situations...\n",
    "\n",
    "It is possible to write a rules that runs infinitely long (or at least very long), particularly when learning new things and testing out new features.\n",
    "\n",
    "If this is the case, stopping a cell in one of the notebooks will not be enough to get you out of this situation.\n",
    "\n",
    "### You must run the cell below to cancel the request to RDFox"
   ]
  },
  {
   "cell_type": "code",
   "execution_count": 83,
   "metadata": {},
   "outputs": [
    {
     "name": "stdout",
     "output_type": "stream",
     "text": [
      "__unnamed__request__5: request canceled\n"
     ]
    }
   ],
   "source": [
    "import requests\n",
    "import json\n",
    "\n",
    "# Set up the SPARQL endpoint\n",
    "rdfox_server = \"http://localhost:12110\"\n",
    "\n",
    "# Helper function to raise exception if the REST endpoint returns an unexpected status code\n",
    "def assert_response_ok(response, message):\n",
    "    if not response.ok:\n",
    "        raise Exception(\n",
    "            message + \"\\nStatus received={}\\n{}\".format(response.status_code, response.text))\n",
    "\n",
    "# Get request ID\n",
    "request_response = requests.get(\n",
    "    rdfox_server + \"/requests\", headers={\"Accept\": \"application/sparql-results+json\"})\n",
    "assert_response_ok(request_response, \"Failed to get request ID.\")\n",
    "\n",
    "decode_response = request_response.content.decode('utf8')\n",
    "data = json.loads(decode_response)\n",
    "\n",
    "request_ID = str(data[\"results\"][\"bindings\"][0][\"RequestID\"][\"value\"])\n",
    "\n",
    "# Delete request\n",
    "request_response = requests.delete(\n",
    "    rdfox_server + \"/requests/\" + request_ID)\n",
    "assert_response_ok(request_response, \"Failed to delete request.\")\n",
    "\n",
    "if request_response.ok:\n",
    "    print(request_ID + \": request canceled\")"
   ]
  }
 ],
 "metadata": {
  "kernelspec": {
   "display_name": "venv",
   "language": "python",
   "name": "python3"
  },
  "language_info": {
   "codemirror_mode": {
    "name": "ipython",
    "version": 3
   },
   "file_extension": ".py",
   "mimetype": "text/x-python",
   "name": "python",
   "nbconvert_exporter": "python",
   "pygments_lexer": "ipython3",
   "version": "3.12.0"
  }
 },
 "nbformat": 4,
 "nbformat_minor": 2
}
