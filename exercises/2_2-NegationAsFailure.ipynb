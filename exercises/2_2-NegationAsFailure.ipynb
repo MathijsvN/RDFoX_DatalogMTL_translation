{
 "cells": [
  {
   "cell_type": "markdown",
   "metadata": {},
   "source": [
    "# 2.2 Negation as Failure\n",
    "\n",
    "Negation as Failure (NAF) searches for an absence of data - inferring new facts where a pattern is missing.\n",
    "\n",
    "There are two critical components to understand when using NAF with Datalog rules, **NOT** and **NOT EXISTS**.\n",
    "\n",
    "### The Closed World Assumption\n",
    "\n",
    "RDFox employs the Closed World Assumption - that is to say, anything that cannot be proved to be true is considered false.\n",
    "\n",
    "Negation As Failure implements this assumption as missing data is treated the same as false data.\n",
    "\n",
    "## NOT vs NOT EXISTS\n",
    "\n",
    "Semantically, these two functions are remarkably similar but both uniquely powerful depending on the circumstance.\n",
    "\n",
    "**NOT** and **NOT EXISTS** are both used to ensure a pattern does not exist within the data store.\n",
    "\n",
    "All variables used in **NOT** must be bound elsewhere in the rule body, allowing specific patterns relating to specific variables to be considered.\n",
    "\n",
    "On the other hand, **NOT EXISTS** introduces a new variable, or variables, that are not bound in the wider rule body, allowing more general patterns to be considered.\n",
    "\n",
    "### Variable scope\n",
    "\n",
    "Variables introduced by **NOT EXISTS** remain unbound when the rule-body infers new facts as the patterns don't exist.\n",
    "\n",
    "Therefore, the scope of these variables must be local to the negation atom. They can share the names of a variables in the wider body without sharing a binding."
   ]
  },
  {
   "cell_type": "markdown",
   "metadata": {},
   "source": [
    "# Example\n",
    "\n",
    "The following example highlights the different implications of **NOT** vs **NOT EXISTS** in the context of a network of IT assets that depend on one another.\n",
    "\n",
    "Each device depends on a number of switches, giving us a two options to model their dependency."
   ]
  },
  {
   "cell_type": "code",
   "execution_count": 28,
   "metadata": {},
   "outputs": [],
   "source": [
    "naf_data = \"\"\"\n",
    "@prefix : <https://rdfox.com/example#> .\n",
    "\n",
    ":switchA :hasState :on .\n",
    "\n",
    ":switchB :hasState :off .\n",
    "\n",
    ":device01 a :Component ;\n",
    "    :dependsOn :switchA .\n",
    "\n",
    ":device02 a :Component ;\n",
    "    :dependsOn :switchB .\n",
    "\n",
    ":device03 a :Component ;\n",
    "    :dependsOn :switchA ;\n",
    "    :dependsOn :switchB .\n",
    "\n",
    ":device04 a :Component.\n",
    "\n",
    "\"\"\""
   ]
  },
  {
   "cell_type": "code",
   "execution_count": null,
   "metadata": {},
   "outputs": [],
   "source": [
    "naf_rules = \"\"\"\n",
    "\n",
    "[?device, :atLeastOneDependencyOn, true] :-\n",
    "    [?device, a, :Component],\n",
    "    [?device, :dependsOn, ?switch],\n",
    "    NOT (\n",
    "        [?switch, :hasState, :off] \n",
    "    ) .\n",
    "\n",
    "[?device, :noDependenciesOff, true] :-\n",
    "    [?device, a, :Component],\n",
    "    NOT EXISTS ?switch IN (\n",
    "        [?device, :dependsOn, ?switch],\n",
    "        [?switch, :hasState, :off] \n",
    "    ) .\n",
    "\n",
    "\"\"\""
   ]
  },
  {
   "cell_type": "markdown",
   "metadata": {},
   "source": [
    "### Writing rules with Negation\n",
    "\n",
    "Negation atoms must be accompanied by at least one non-negation atom directly in the rule body (excluding atoms within the negation atom itself), as is shown above.\n",
    "\n",
    "In the case that the pattern is matched, this ensures that at least one variable is bound.\n",
    "\n",
    "RDFox will return an error when this is not the case."
   ]
  },
  {
   "cell_type": "code",
   "execution_count": 34,
   "metadata": {},
   "outputs": [
    {
     "name": "stdout",
     "output_type": "stream",
     "text": [
      "\n",
      "=== Messages based on objects in images ===\n",
      "?device\t?atLeastOneDependencyOn\t?noDependenciesOff\n",
      "<https://rdfox.com/example#device01>\ttrue\ttrue\n",
      "<https://rdfox.com/example#device02>\t\t\n",
      "<https://rdfox.com/example#device03>\ttrue\t\n",
      "<https://rdfox.com/example#device04>\t\ttrue\n",
      "\n"
     ]
    }
   ],
   "source": [
    "import requests\n",
    "\n",
    "# Set up the SPARQL endpoint\n",
    "rdfox_server = \"http://localhost:12110\"\n",
    "\n",
    "# Helper function to raise exception if the REST endpoint returns an unexpected status code\n",
    "def assert_response_ok(response, message):\n",
    "    if not response.ok:\n",
    "        raise Exception(\n",
    "            message + \"\\nStatus received={}\\n{}\".format(response.status_code, response.text))\n",
    "\n",
    "# Clear data store\n",
    "clear_response = requests.delete(\n",
    "    rdfox_server + \"/datastores/default/content?facts=true&axioms&rules\")\n",
    "assert_response_ok(clear_response, \"Failed to clear data store.\")\n",
    "\n",
    "# Add data\n",
    "payload = {'operation': 'add-content-update-prefixes'}\n",
    "data_response = requests.patch(\n",
    "    rdfox_server + \"/datastores/default/content\", params=payload, data=naf_data)\n",
    "assert_response_ok(data_response, \"Failed to add facts to data store.\")\n",
    "\n",
    "# Get rules\n",
    "rules_response = requests.post(rdfox_server + \"/datastores/default/content\", data=naf_rules)\n",
    "assert_response_ok(rules_response, \"Failed to add rule.\")\n",
    "\n",
    "# Issue select query\n",
    "with open(\"../queries/2_2-NegationAsFailureQuery.rq\", \"r\") as file:\n",
    "    naf_query = file.read()\n",
    "response = requests.get(\n",
    "    rdfox_server + \"/datastores/default/sparql\", params={\"query\": naf_query})\n",
    "assert_response_ok(response, \"Failed to run ft select query.\")\n",
    "print('\\n=== Messages based on objects in images ===')\n",
    "print(response.text)"
   ]
  },
  {
   "cell_type": "markdown",
   "metadata": {},
   "source": [
    "### Visualise the results\n",
    "\n",
    "Open this query in the [RDFox Explorer](http://localhost:12110/console/datastores/explore?datastore=default&query=SELECT%20%3Fdevice%20%3FatLeastOneDependencyOn%20%3FnoDependenciesOff%0AWHERE%20%7B%0A%20%20%20%20%3Fdevice%20a%20%3AComponent%20.%0A%20%20%20%20OPTIONAL%20%7BSELECT%20%3Fdevice%20%3FatLeastOneDependencyOn%0A%20%20%20%20%20%20%20%20%20%20%20%20%20%20WHERE%20%7B%0A%20%20%20%20%20%20%20%20%20%20%20%20%20%20%20%20%20%20%3Fdevice%20%3AatLeastOneDependencyOn%20%3FatLeastOneDependencyOn%20.%0A%20%20%20%20%20%20%20%20%20%20%20%20%20%20%7D%0A%20%20%20%20%7D%0A%20%20%20%20OPTIONAL%20%7BSELECT%20%3Fdevice%20%3FnoDependenciesOff%0A%20%20%20%20%20%20%20%20%20%20%20%20%20%20WHERE%20%7B%0A%20%20%20%20%20%20%20%20%20%20%20%20%20%20%20%20%20%20%3Fdevice%20%3AnoDependenciesOff%20%3FnoDependenciesOff%20.%0A%20%20%20%20%20%20%20%20%20%20%20%20%20%20%7D%0A%20%20%20%20%7D%0A%7D%20ORDER%20BY%20ASC%28%3Fdevice%29)."
   ]
  },
  {
   "cell_type": "markdown",
   "metadata": {},
   "source": [
    "## Incremental retraction\n",
    "\n",
    "NAF is an incredibly powerful tool and raises an potentially thorny question when combined with the Incremental Reasoning of RDFox.\n",
    "\n",
    "What happens when new data is added that fills the gap of an absent triple, whose absence was leading to the inference of another fact?\n",
    "\n",
    "The previously inferred fact will have to be retracted.\n",
    "\n",
    "Try importing some new data that contains something from the **NOT EXISTS** atom and see what happens.\n",
    "\n",
    "Here, we'll introduce new dependencies for **device04** - now depending on **both switchA and switchB**."
   ]
  },
  {
   "cell_type": "code",
   "execution_count": 25,
   "metadata": {},
   "outputs": [],
   "source": [
    "new_data = \"\"\"\n",
    "@prefix : <https://rdfox.com/example#> .\n",
    "\n",
    ":device04 a :Component;\n",
    "    :dependsOn :switchA ;\n",
    "    :dependsOn :switchB .\n",
    "\n",
    "\"\"\""
   ]
  },
  {
   "cell_type": "code",
   "execution_count": 26,
   "metadata": {},
   "outputs": [
    {
     "name": "stdout",
     "output_type": "stream",
     "text": [
      "\n",
      "=== Messages based on objects in images ===\n",
      "?device\t?atLeastOneDependencyOn\t?noDependenciesOff\n",
      "<https://rdfox.com/example#device01>\ttrue\ttrue\n",
      "<https://rdfox.com/example#device02>\t\t\n",
      "<https://rdfox.com/example#device03>\ttrue\t\n",
      "<https://rdfox.com/example#device04>\ttrue\t\n",
      "\n"
     ]
    }
   ],
   "source": [
    "# Add the new data\n",
    "payload = {'operation': 'add-content-update-prefixes'}\n",
    "data_response = requests.patch(\n",
    "    rdfox_server + \"/datastores/default/content\", params=payload, data=new_data)\n",
    "assert_response_ok(data_response, \"Failed to add facts to data store.\")\n",
    "\n",
    "# Issue the same select query\n",
    "with open(\"../queries/2_2-NegationAsFailureQuery.rq\", \"r\") as file:\n",
    "    naf_query = file.read()\n",
    "response = requests.get(\n",
    "    rdfox_server + \"/datastores/default/sparql\", params={\"query\": naf_query})\n",
    "assert_response_ok(response, \"Failed to run ft select query.\")\n",
    "print('\\n=== Messages based on objects in images ===')\n",
    "print(response.text)"
   ]
  },
  {
   "cell_type": "markdown",
   "metadata": {},
   "source": [
    "## Cycles in rules\n",
    "\n",
    "A rule, or set of rules, cannot be imported if they create cyclic logic that involves negation or aggregation.\n",
    "\n",
    "Some types of cycles are allowed and are in fact incredibly useful (see 3.2), but when negation or aggregation is involves, it can create a situation where the inferred triple no longer holds, and must be changed, only for that change to then re-infer the triple, which would then mean it no longer holds and so on.\n",
    "\n",
    "Take the following rule as an example.\n",
    "\n",
    "If a subject node is not a member of **Class**, it is inferred to be a be a member of **Class**, at which point, because it is now a member of **Class**, the rule will no longer hold and the fact that is is a member of **Class** will be retracted, re-entering the initial state and starting the process again."
   ]
  },
  {
   "cell_type": "code",
   "execution_count": 27,
   "metadata": {},
   "outputs": [
    {
     "ename": "Exception",
     "evalue": "Failed to add rule.\nStatus received=400\nRuleCompilationException: The program is not stratified because these components of the dependency graph contain cycles through negation and/or aggregation:\n======== COMPONENT 1 ========\n    <https://rdfox.com/example#Class>[?x] :- rdf:type[?x, ?c], NOT <https://rdfox.com/example#Class>[?x] .\n-------- Rules in other components whose body atoms contribute to the cycles --------\n    <https://rdfox.com/example#atLeastOneDependencyOn>[?device, true] :- <https://rdfox.com/example#Component>[?device], <https://rdfox.com/example#dependsOn>[?device, ?switch], NOT <https://rdfox.com/example#hasState>[?switch, <https://rdfox.com/example#off>] .\n    <https://rdfox.com/example#noDependenciesOff>[?device, true] :- <https://rdfox.com/example#Component>[?device], NOT EXISTS ?switch IN (<https://rdfox.com/example#dependsOn>[?device, ?switch], <https://rdfox.com/example#hasState>[?switch, <https://rdfox.com/example#off>]) .\n========================================================================================================================\n",
     "output_type": "error",
     "traceback": [
      "\u001b[0;31m---------------------------------------------------------------------------\u001b[0m",
      "\u001b[0;31mException\u001b[0m                                 Traceback (most recent call last)",
      "Cell \u001b[0;32mIn[27], line 12\u001b[0m\n\u001b[1;32m     10\u001b[0m \u001b[38;5;66;03m# Get response\u001b[39;00m\n\u001b[1;32m     11\u001b[0m response \u001b[38;5;241m=\u001b[39m requests\u001b[38;5;241m.\u001b[39mpost(rdfox_server \u001b[38;5;241m+\u001b[39m \u001b[38;5;124m\"\u001b[39m\u001b[38;5;124m/datastores/default/content\u001b[39m\u001b[38;5;124m\"\u001b[39m, data\u001b[38;5;241m=\u001b[39mdatalog_rule)\n\u001b[0;32m---> 12\u001b[0m \u001b[43massert_response_ok\u001b[49m\u001b[43m(\u001b[49m\u001b[43mresponse\u001b[49m\u001b[43m,\u001b[49m\u001b[43m \u001b[49m\u001b[38;5;124;43m\"\u001b[39;49m\u001b[38;5;124;43mFailed to add rule.\u001b[39;49m\u001b[38;5;124;43m\"\u001b[39;49m\u001b[43m)\u001b[49m\n\u001b[1;32m     14\u001b[0m \u001b[38;5;28mprint\u001b[39m(response)\n",
      "Cell \u001b[0;32mIn[24], line 9\u001b[0m, in \u001b[0;36massert_response_ok\u001b[0;34m(response, message)\u001b[0m\n\u001b[1;32m      7\u001b[0m \u001b[38;5;28;01mdef\u001b[39;00m \u001b[38;5;21massert_response_ok\u001b[39m(response, message):\n\u001b[1;32m      8\u001b[0m     \u001b[38;5;28;01mif\u001b[39;00m \u001b[38;5;129;01mnot\u001b[39;00m response\u001b[38;5;241m.\u001b[39mok:\n\u001b[0;32m----> 9\u001b[0m         \u001b[38;5;28;01mraise\u001b[39;00m \u001b[38;5;167;01mException\u001b[39;00m(\n\u001b[1;32m     10\u001b[0m             message \u001b[38;5;241m+\u001b[39m \u001b[38;5;124m\"\u001b[39m\u001b[38;5;130;01m\\n\u001b[39;00m\u001b[38;5;124mStatus received=\u001b[39m\u001b[38;5;132;01m{}\u001b[39;00m\u001b[38;5;130;01m\\n\u001b[39;00m\u001b[38;5;132;01m{}\u001b[39;00m\u001b[38;5;124m\"\u001b[39m\u001b[38;5;241m.\u001b[39mformat(response\u001b[38;5;241m.\u001b[39mstatus_code, response\u001b[38;5;241m.\u001b[39mtext))\n",
      "\u001b[0;31mException\u001b[0m: Failed to add rule.\nStatus received=400\nRuleCompilationException: The program is not stratified because these components of the dependency graph contain cycles through negation and/or aggregation:\n======== COMPONENT 1 ========\n    <https://rdfox.com/example#Class>[?x] :- rdf:type[?x, ?c], NOT <https://rdfox.com/example#Class>[?x] .\n-------- Rules in other components whose body atoms contribute to the cycles --------\n    <https://rdfox.com/example#atLeastOneDependencyOn>[?device, true] :- <https://rdfox.com/example#Component>[?device], <https://rdfox.com/example#dependsOn>[?device, ?switch], NOT <https://rdfox.com/example#hasState>[?switch, <https://rdfox.com/example#off>] .\n    <https://rdfox.com/example#noDependenciesOff>[?device, true] :- <https://rdfox.com/example#Component>[?device], NOT EXISTS ?switch IN (<https://rdfox.com/example#dependsOn>[?device, ?switch], <https://rdfox.com/example#hasState>[?switch, <https://rdfox.com/example#off>]) .\n========================================================================================================================\n"
     ]
    }
   ],
   "source": [
    "datalog_rule = \"\"\"\n",
    "prefix : <https://rdfox.com/example#>\n",
    "\n",
    "[?x, a, :Class] :-\n",
    "    [?x, a, ?c] ,\n",
    "    NOT [?x, a, :Class] .\n",
    "\n",
    "\"\"\"\n",
    "\n",
    "# Get response\n",
    "response = requests.post(rdfox_server + \"/datastores/default/content\", data=datalog_rule)\n",
    "assert_response_ok(response, \"Failed to add rule.\")\n",
    "\n",
    "print(response)"
   ]
  },
  {
   "cell_type": "markdown",
   "metadata": {},
   "source": [
    "### Stratification Error\n",
    "\n",
    "This is known as a **stratification error**.\n",
    "\n",
    "**Strata**, also called **components**, can be thought of as 'layers' that depend on one another.\n",
    "\n",
    "When these layers form a loops, and the loop causes previously inferred facts to update with each loop (as with out NOT :Class example above), the rule set is not stratified **stratified** and RDFox will not accept it.\n",
    "\n",
    "Loops in strata by themselves are not a problem, so long as it does not create changing facts. RDFox will notice when no new facts are inferred and stop the cycle.\n",
    "\n",
    "### Allowed rule examples"
   ]
  },
  {
   "cell_type": "code",
   "execution_count": null,
   "metadata": {},
   "outputs": [],
   "source": [
    "allowed_rules = \"\"\"\n",
    "\n",
    "# While the logic is cyclic, facts will not be changed in each iteration.\n",
    "[?y, :hasRelation, ?x] :-\n",
    "    [?x, :hasRelation, ?y] .\n",
    "\n",
    "# While this rule creates an infinite loop, it does not cause old facts to be updated - just new to be added.\n",
    "[?x, :hasCount, ?newCount] :-\n",
    "    [?x, :hasCount, ?count],\n",
    "    BIND (?count + 1 AS ?newCount) .\n",
    "\n",
    "\"\"\""
   ]
  },
  {
   "cell_type": "markdown",
   "metadata": {},
   "source": [
    "### What to do when encountering a stratification error?\n",
    "\n",
    "RDFox will tell you which rule caused a stratification error to occur.\n",
    "\n",
    "This rule will include either:\n",
    "\n",
    "1. A negation atom in the body\n",
    "\n",
    "2. An aggregate atom in the body\n",
    "\n",
    "3. An atom in the head that is used in another rules negation atom\n",
    "\n",
    "4. An atom in the head that is used in another rules aggregate atom\n",
    "\n",
    "Atoms that depend on aggregation or negation are said to have a 'special dependency'.\n",
    "\n",
    "One of these will be creating a cycle that you must remove.\n",
    "\n",
    "If you still want to perform this special aggregate or negation on the existing data, without inferring new triples that will impact the special dependency, there is a way.\n",
    "\n",
    "A parent relationship can be created to separate the loop from the special dependency. Consider the following:"
   ]
  },
  {
   "cell_type": "code",
   "execution_count": null,
   "metadata": {},
   "outputs": [],
   "source": [
    "strat_error_rules = \"\"\"\n",
    "\n",
    "[?x, :existingPredicate, ?y] :-\n",
    "    [?x, :countPredicate, ?y].\n",
    "\n",
    "[?x, :countPredicate, ?z] :-\n",
    "    AGGREGATE(\n",
    "    [?x, :existingPredicate, ?y]\n",
    "    ON ?x\n",
    "    BIND COUNT(?y) AS ?z).\n",
    "\n",
    "\"\"\""
   ]
  },
  {
   "cell_type": "markdown",
   "metadata": {},
   "source": [
    "The rules above cannot be stratified as they form a loop that involves an aggregate.\n",
    "\n",
    "However, the loop can be extracted by introducing a parent relationship for `:existingPredicate`.\n",
    "\n",
    "In the rules below, we have removed `:existingPredicate` from the loop, therefore making the rules stratify."
   ]
  },
  {
   "cell_type": "code",
   "execution_count": null,
   "metadata": {},
   "outputs": [],
   "source": [
    "allowed_rules = \"\"\"\n",
    "\n",
    "[?x, :newPredicate, ?y] :-\n",
    "    [?x, :existingPredicate, ?y] .\n",
    " \n",
    "[?x, :newPredicate, ?y] :-\n",
    "    [?x, :countPredicate, ?y].\n",
    "\n",
    "[?x, :countPredicate, ?z] :-\n",
    "    AGGREGATE(\n",
    "    [?x, :existingPredicate, ?y]\n",
    "    ON ?x\n",
    "    BIND COUNT(?y) AS ?z).\n",
    "\n",
    "\"\"\""
   ]
  },
  {
   "cell_type": "markdown",
   "metadata": {},
   "source": [
    "## Where is NAF relevant?\n",
    "\n",
    "Negation as failure is a particularly powerful tool as the absence of data is a common concept in real-world applications.\n",
    "\n",
    "### On-device\n",
    "\n",
    "To encode real-world decision-making rules, map dependencies, repair data, etc.\n",
    "\n",
    "### Publishing\n",
    "\n",
    "To generate advanced recommendations, offer detailed search, control user access, etc.\n",
    "\n",
    "### Construction and Manufacturing\n",
    "\n",
    "To determine complex compatibilities, comply with schematics and regulations, simulate failure conditions, etc.\n"
   ]
  },
  {
   "cell_type": "markdown",
   "metadata": {},
   "source": [
    "## Exercise\n",
    "\n",
    "Complete the rule `2_2-NegationAsFailureRules.dlog` in the `rules` folder so that the query below can be used to directly find the **switches** that require maintenance - that is to say, they have not passed their maintenance check.\n",
    "\n",
    "### Hits & helpful resources\n",
    "\n",
    "[Negation syntax forms](https://docs.oxfordsemantic.tech/reasoning.html#negation-as-failure)"
   ]
  },
  {
   "cell_type": "code",
   "execution_count": 16,
   "metadata": {},
   "outputs": [],
   "source": [
    "naf_sparql = \"\"\"\n",
    "SELECT ?switch ?passedMaintenanceCheck\n",
    "WHERE {\n",
    "    ?switch :requiresMaintenance true .\n",
    "    \n",
    "    OPTIONAL {SELECT ?switch ?passedMaintenanceCheck\n",
    "        WHERE {\n",
    "            ?switch :passedMaintenanceCheck ?passedMaintenanceCheck .\n",
    "        }\n",
    "    }\n",
    "} ORDER BY DESC(?passedMaintenanceCheck) ?switch\n",
    "\"\"\""
   ]
  },
  {
   "cell_type": "markdown",
   "metadata": {},
   "source": [
    "Here is a representative sample of the data in `2_2-NegationAsFailureData.ttl`."
   ]
  },
  {
   "cell_type": "code",
   "execution_count": 17,
   "metadata": {},
   "outputs": [],
   "source": [
    "sample_data = \"\"\"\n",
    "@prefix : <https://rdfox.com/example#> .\n",
    "\n",
    ":device001 a :Component;\n",
    "    :dependsOn :switchA .\n",
    "\n",
    "# All devices depend on at least one switch.\n",
    "\n",
    ":switchA a :Component ;\n",
    "    :hasState :on ;\n",
    "    :passedMaintenanceCheck true  .\n",
    "\n",
    ":switchB a :Component ;\n",
    "    :hasState :off ;\n",
    "    :passedMaintenanceCheck false .\n",
    "\n",
    ":switchC a :Component ;\n",
    "    :hasState :on .\n",
    "\n",
    "\"\"\""
   ]
  },
  {
   "cell_type": "markdown",
   "metadata": {},
   "source": [
    "### Check your work\n",
    "\n",
    "Run the query below to verify the results."
   ]
  },
  {
   "cell_type": "code",
   "execution_count": 20,
   "metadata": {},
   "outputs": [
    {
     "name": "stdout",
     "output_type": "stream",
     "text": [
      "\n",
      "=== Switches Requiring Maintenance ===\n",
      "?switch\t?passedMaintenanceCheck\n",
      "<http://example.org/switchF>\tfalse\n",
      "<http://example.org/switchH>\tfalse\n",
      "<http://example.org/switchK>\tfalse\n",
      "<http://example.org/switchO>\tfalse\n",
      "<http://example.org/switchI>\t\n",
      "<http://example.org/switchX>\t\n",
      "\n"
     ]
    }
   ],
   "source": [
    "# Clear data store\n",
    "clear_response = requests.delete(\n",
    "    rdfox_server + \"/datastores/default/content?facts=true&axioms&rules\")\n",
    "assert_response_ok(clear_response, \"Failed to clear data store.\")\n",
    "\n",
    "# Get and add data\n",
    "with open(\"../data/2_2-NegationAsFailureData.ttl\", \"r\") as file:\n",
    "    data = file.read()\n",
    "payload = {'operation': 'add-content-update-prefixes'}\n",
    "data_response = requests.patch(\n",
    "    rdfox_server + \"/datastores/default/content\", params=payload, data=data)\n",
    "assert_response_ok(data_response, \"Failed to add facts to data store.\")\n",
    "\n",
    "# Get and add rules\n",
    "with open(\"../rules/2_2-NegationAsFailureRules.dlog\", \"r\") as rule_file:\n",
    "    datalog_rule = rule_file.read()\n",
    "response = requests.post(rdfox_server + \"/datastores/default/content\", data=datalog_rule)\n",
    "assert_response_ok(response, \"Failed to add rule.\")\n",
    "\n",
    "# Issue select query\n",
    "response = requests.get(\n",
    "    rdfox_server + \"/datastores/default/sparql\", params={\"query\": naf_sparql})\n",
    "assert_response_ok(response, \"Failed to run select query.\")\n",
    "print('\\n=== Switches Requiring Maintenance ===')\n",
    "print(response.text)"
   ]
  },
  {
   "cell_type": "markdown",
   "metadata": {},
   "source": [
    "### Visualise the results\n",
    "\n",
    "Open this query in the [RDFox Explorer](http://localhost:12110/console/datastores/explore?datastore=default&query=SELECT%20%3Fswitch%20%3FpassedMaintenanceCheck%0AWHERE%20%7B%0A%20%20%20%20%3Fswitch%20%3ArequiresMaintenance%20true%20.%0A%20%20%20%20%0A%20%20%20%20OPTIONAL%20%7BSELECT%20%3Fswitch%20%3FpassedMaintenanceCheck%0A%20%20%20%20%20%20%20%20WHERE%20%7B%0A%20%20%20%20%20%20%20%20%20%20%20%20%3Fswitch%20%3ApassedMaintenanceCheck%20%3FpassedMaintenanceCheck%20.%0A%20%20%20%20%20%20%20%20%7D%0A%20%20%20%20%7D%0A%7D%20ORDER%20BY%20DESC%28%3FpassedMaintenanceCheck%29%20%3Fswitch)."
   ]
  },
  {
   "cell_type": "markdown",
   "metadata": {},
   "source": [
    "## You should see...\n",
    "\n",
    "=== Switches Requiring Maintenance ===\n",
    "|?switch|?passedMaintenanceCheck|\n",
    "|-----------|-------------|\n",
    "|<http://example.org/switchF>|\tfalse|\n",
    "|<http://example.org/switchH>|\tfalse|\n",
    "|<http://example.org/switchK>|\tfalse|\n",
    "|<http://example.org/switchO>|\tfalse|\n",
    "|<http://example.org/switchI>|\t|\n",
    "|<http://example.org/switchX>|\t|"
   ]
  }
 ],
 "metadata": {
  "kernelspec": {
   "display_name": "venv",
   "language": "python",
   "name": "python3"
  },
  "language_info": {
   "codemirror_mode": {
    "name": "ipython",
    "version": 3
   },
   "file_extension": ".py",
   "mimetype": "text/x-python",
   "name": "python",
   "nbconvert_exporter": "python",
   "pygments_lexer": "ipython3",
   "version": "3.12.0"
  }
 },
 "nbformat": 4,
 "nbformat_minor": 2
}
