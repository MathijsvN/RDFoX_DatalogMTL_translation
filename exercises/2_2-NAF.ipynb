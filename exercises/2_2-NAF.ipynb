{
 "cells": [
  {
   "cell_type": "markdown",
   "metadata": {},
   "source": [
    "# 2.2 Negation as Failure\n",
    "\n",
    "Negation as Failure (NAF) searches for an absence of data - inferring new facts where a pattern is missing.\n",
    "\n",
    "There are two critical components to understand when using NAF with Datalog rules, **NOT** and **NOT EXISTS**.\n",
    "\n",
    "## NOT\n",
    "\n",
    "When used alone, **NOT** checks for a pattern to be false.\n",
    "\n",
    "### The Closed World Assumption\n",
    "\n",
    "RDFox follows the closed world assumption, which assumes statements to be false if they cannot be proven true.\n",
    "\n",
    "This means that the pattern can either be provably false or not present in the data at all to trigger the inference.\n",
    "\n",
    "## NOT EXISTS\n",
    "\n",
    "Subtly different from **NOT**, **NOT EXISTS** allows us to infer new facts based on missing data.\n",
    "\n",
    "**NOT EXISTS** searches the data store for the described pattern. If the returned result set is empty, **NOT EXISTS** returns True and vice versa."
   ]
  },
  {
   "cell_type": "markdown",
   "metadata": {},
   "source": [
    "# Exercise 1\n",
    "\n",
    "Rule the following example code cell to see the different implications of **NOT** vs **NOT EXISTS**."
   ]
  },
  {
   "cell_type": "code",
   "execution_count": 23,
   "metadata": {},
   "outputs": [],
   "source": [
    "naf_data = \"\"\"\n",
    "@prefix : <https://rdfox.com/example#> .\n",
    "\n",
    ":justTrueNode a :Thing ;\n",
    "    :hasValue true .\n",
    "\n",
    ":justFalseNode a :Thing ;\n",
    "    :hasValue false .\n",
    "\n",
    ":bothValuesNode a :Thing ;\n",
    "    :hasValue true ;\n",
    "    :hasValue false .\n",
    "\n",
    ":noValueNode a :Thing .\n",
    "\n",
    "\"\"\""
   ]
  },
  {
   "cell_type": "code",
   "execution_count": 25,
   "metadata": {},
   "outputs": [],
   "source": [
    "naf_rules = \"\"\"\n",
    "prefix : <https://rdfox.com/example#>\n",
    "\n",
    "[?x, a, :FalseThing] :-\n",
    "    [?x, a, :Thing] ,\n",
    "    NOT [?x, :hasValue, true] .\n",
    "\n",
    "[?x, a, :NoValueThing] :-\n",
    "    [?x, a, :Thing] ,\n",
    "    NOT EXISTS ?v IN (\n",
    "        [?x, :hasValue, ?v]\n",
    "    ) .\n",
    "\n",
    "\"\"\""
   ]
  },
  {
   "cell_type": "code",
   "execution_count": 37,
   "metadata": {},
   "outputs": [
    {
     "name": "stdout",
     "output_type": "stream",
     "text": [
      "=== Explicit Values of Things ===\n",
      "?S\t?v\n",
      "<https://rdfox.com/example#justTrueNode>\ttrue\n",
      "<https://rdfox.com/example#noValueNode>\t\n",
      "<https://rdfox.com/example#bothValuesNode>\ttrue\n",
      "<https://rdfox.com/example#bothValuesNode>\tfalse\n",
      "<https://rdfox.com/example#justFalseNode>\tfalse\n",
      "\n",
      "\n",
      "=== Inferred Things from NOT [?x, :hasValue, true] ===\n",
      "?S\t?v\n",
      "<https://rdfox.com/example#noValueNode>\t\n",
      "<https://rdfox.com/example#justFalseNode>\tfalse\n",
      "\n",
      "\n",
      "=== Inferred Things from NOT EXISTS ?v IN ([?x, :hasValue, ?v]) . ===\n",
      "?S\t?v\n",
      "<https://rdfox.com/example#noValueNode>\t\n",
      "\n"
     ]
    }
   ],
   "source": [
    "import requests\n",
    "\n",
    "# Set up the SPARQL endpoint\n",
    "rdfox_server = \"http://localhost:12110\"\n",
    "\n",
    "# Helper function to raise exception if the REST endpoint returns an unexpected status code\n",
    "def assert_response_ok(response, message):\n",
    "    if not response.ok:\n",
    "        raise Exception(\n",
    "            message + \"\\nStatus received={}\\n{}\".format(response.status_code, response.text))\n",
    "\n",
    "# Add data\n",
    "payload = {'operation': 'add-content-update-prefixes'}\n",
    "data_response = requests.patch(\n",
    "    rdfox_server + \"/datastores/default/content\", params=payload, data=naf_data)\n",
    "assert_response_ok(data_response, \"Failed to add facts to data store.\")\n",
    "\n",
    "# Get rules\n",
    "rules_response = requests.post(rdfox_server + \"/datastores/default/content\", data=naf_rules)\n",
    "assert_response_ok(rules_response, \"Failed to add rule.\")\n",
    "\n",
    "# Issue explicit values select query\n",
    "ev_sparql_text = \"SELECT * WHERE { ?S a :Thing . OPTIONAL{ SELECT ?S ?v WHERE { ?S a :Thing; :hasValue ?v } } }\"\n",
    "ev_response = requests.get(\n",
    "    rdfox_server + \"/datastores/default/sparql\", params={\"query\": ev_sparql_text})\n",
    "assert_response_ok(ev_response, \"Failed to run ft select query.\")\n",
    "print('=== Explicit Values of Things ===')\n",
    "print(ev_response.text)\n",
    "\n",
    "# Issue FalseThing select query\n",
    "ft_sparql_text = \"SELECT * WHERE { ?S a :FalseThing . OPTIONAL{ SELECT ?S ?v WHERE { ?S a :FalseThing; :hasValue ?v } } }\"\n",
    "ft_response = requests.get(\n",
    "    rdfox_server + \"/datastores/default/sparql\", params={\"query\": ft_sparql_text})\n",
    "assert_response_ok(ft_response, \"Failed to run ft select query.\")\n",
    "print('\\n=== Inferred Things from NOT [?x, :hasValue, true] ===')\n",
    "print(ft_response.text)\n",
    "\n",
    "# Issue NoValueThing select query\n",
    "nvt_sparql_text = \"SELECT ?S ?v WHERE { ?S a :NoValueThing . OPTIONAL{ SELECT ?S ?v WHERE { ?S a :NoValueThing; :hasValue ?v } } }\"\n",
    "nvt_response = requests.get(\n",
    "    rdfox_server + \"/datastores/default/sparql\", params={\"query\": nvt_sparql_text})\n",
    "assert_response_ok(nvt_response, \"Failed to run nvt select query.\")\n",
    "print('\\n=== Inferred Things from NOT EXISTS ?v IN ([?x, :hasValue, ?v]) . ===')\n",
    "print(nvt_response.text)\n"
   ]
  },
  {
   "cell_type": "markdown",
   "metadata": {},
   "source": [
    "# Exercise 2\n",
    "\n",
    "Open **NAF.dlog** in the **rules folder** and fill in the blanks to achieve... (EXERCISE 2 NOT DONE YET)\n",
    "\n",
    "Rule the code cell below to import the rules **NAF.dlog**."
   ]
  },
  {
   "cell_type": "code",
   "execution_count": 3,
   "metadata": {},
   "outputs": [
    {
     "name": "stdout",
     "output_type": "stream",
     "text": [
      "Results:  <Response [200]>\n"
     ]
    }
   ],
   "source": [
    "import requests\n",
    "\n",
    "# Set up the SPARQL endpoint\n",
    "rdfox_server = \"http://localhost:12110\"\n",
    "\n",
    "# Read rules from external file\n",
    "with open(\"../rules/NAF.dlog\", \"r\") as rule_file:\n",
    "    datalog_rule = rule_file.read()\n",
    "\n",
    "# Get response\n",
    "response = requests.post(rdfox_server + \"/datastores/default/content\", data=datalog_rule)\n",
    "\n",
    "\n",
    "# Helper function to raise exception if the REST endpoint returns an unexpected status code\n",
    "def assert_response_ok(response, message):\n",
    "    if not response.ok:\n",
    "        raise Exception(\n",
    "            message + \"\\nStatus received={}\\n{}\".format(response.status_code, response.text))\n",
    "\n",
    "# Catch errors\n",
    "assert_response_ok(response, \"Failed to add rule.\")\n",
    "\n",
    "print(response)"
   ]
  },
  {
   "cell_type": "markdown",
   "metadata": {},
   "source": [
    "### Check your work\n",
    "\n",
    "Now run the query below to verify the results.\n",
    "\n",
    "Is it what you expected?"
   ]
  },
  {
   "cell_type": "code",
   "execution_count": 4,
   "metadata": {},
   "outputs": [
    {
     "name": "stdout",
     "output_type": "stream",
     "text": [
      "Results: \n",
      " ?s\t?p\t?o\n",
      "<https://rdfox.com/example#a>\t<https://rdfox.com/example#b>\t<https://rdfox.com/example#c>\n",
      "\n"
     ]
    }
   ],
   "source": [
    "# Read query from external file\n",
    "with open(\"../queries/star.rq\", \"r\") as query_file:\n",
    "    query = query_file.read()\n",
    "\n",
    "# Get response\n",
    "queryResponse = requests.get(rdfox_server + \"/datastores/default/sparql\", params={\"query\": query})\n",
    "\n",
    "# Catch errors\n",
    "assert_response_ok(queryResponse, \"Failed to run select query.\")\n",
    "\n",
    "print(\"Results:\\n\", queryResponse.text)"
   ]
  },
  {
   "cell_type": "markdown",
   "metadata": {},
   "source": [
    "## Incremental Retraction\n",
    "\n",
    "NAF is an incredibly powerful tool and raises an potentially thorny question when combined with the Incremental Reasoning of RDFox.\n",
    "\n",
    "What happens when new data is added that fills the gap of an absent triple, whose absence was leading to the inference of another fact?\n",
    "\n",
    "Well, the previously inferred fact will have to be retracted.\n",
    "\n",
    "Try importing some new data that contains something from the **NOT EXISTS** atom and see what happens."
   ]
  },
  {
   "cell_type": "code",
   "execution_count": 19,
   "metadata": {},
   "outputs": [
    {
     "name": "stdout",
     "output_type": "stream",
     "text": [
      "Results:  ?s\t?p\t?o\n",
      "<https://rdfox.com/example#a>\t<https://rdfox.com/example#b>\t<https://rdfox.com/example#c>\n",
      "<https://rdfox.com/example#c>\t<https://rdfox.com/example#wooooow>\t<https://rdfox.com/example#a>\n",
      "<https://rdfox.com/example#a>\t<https://rdfox.com/example#wooooow>\t<https://rdfox.com/example#c>\n",
      "<https://rdfox.com/example#a>\t<https://rdfox.com/example#excellent>\t<https://rdfox.com/example#c>\n",
      "<https://rdfox.com/example#a>\t<https://rdfox.com/example#hasProp>\t\"Property\"\n",
      "<https://rdfox.com/example#a>\t<http://www.w3.org/1999/02/22-rdf-syntax-ns#type>\t<https://rdfox.com/example#Class>\n",
      "\n"
     ]
    }
   ],
   "source": [
    "# Issue insert\n",
    "sparql_insert = \"prefix : <https://rdfox.com/example#> INSERT { ?s :hasProp 'Property' } WHERE { ?s :b ?o }\"\n",
    "response = requests.post(\n",
    "    rdfox_server + \"/datastores/default/sparql\", data={\"update\": sparql_insert})\n",
    "assert_response_ok(response, \"Failed to insert fact via sparql.\")\n",
    "\n",
    "# Get response\n",
    "queryResponse = requests.get(rdfox_server + \"/datastores/default/sparql\", params={\"query\": query})\n",
    "\n",
    "# Catch errors\n",
    "assert_response_ok(queryResponse, \"Failed to run select query.\")\n",
    "\n",
    "print(\"Results: \", queryResponse.text)"
   ]
  },
  {
   "cell_type": "markdown",
   "metadata": {},
   "source": [
    "## Cycles in Rules\n",
    "\n",
    "A rule, or set of rules, cannot be imported if they create cyclic logic, meaning an inferred triples change the conditions that led to their inference.\n",
    "\n",
    "This is known as a stratification error - the rule set cannot be stratified (logically chained in a way that terminates).\n",
    "\n",
    "### Where can cycles appear?\n",
    "\n",
    "It can be easy to write rules that cannot be stratified when using Aggregation and Negation.\n",
    "\n",
    "This behavior can be difficult to spot so RDFox will prevent you from importing such rules and will tell you where the cycle occurs.\n",
    "\n",
    "With a simple example, it's easy to see. Take this rule, can you see the problem?"
   ]
  },
  {
   "cell_type": "code",
   "execution_count": 6,
   "metadata": {},
   "outputs": [
    {
     "ename": "Exception",
     "evalue": "Failed to add rule.\nStatus received=400\nRuleCompilationException: The program is not stratified because these components of the dependency graph contain cycles through negation and/or aggregation:\n======== COMPONENT 1 ========\n    <https://rdfox.com/example#Class>[?s] :- <https://rdfox.com/example#hasProp>[?s, ?o], NOT <https://rdfox.com/example#hasProp>[?s, \"property\"] .\n    <https://rdfox.com/example#Class>[?x] :- rdf:type[?x, ?c], NOT <https://rdfox.com/example#Class>[?x] .\n    <https://rdfox.com/example#DifferentClass>[?s] :- <https://rdfox.com/example#hasProp>[?s, ?o], NOT EXISTS ?o IN <https://rdfox.com/example#hasProp>[?s, ?o] .\n========================================================================================================================\n",
     "output_type": "error",
     "traceback": [
      "\u001b[0;31m---------------------------------------------------------------------------\u001b[0m",
      "\u001b[0;31mException\u001b[0m                                 Traceback (most recent call last)",
      "Cell \u001b[0;32mIn[6], line 13\u001b[0m\n\u001b[1;32m     10\u001b[0m response \u001b[38;5;241m=\u001b[39m requests\u001b[38;5;241m.\u001b[39mpost(rdfox_server \u001b[38;5;241m+\u001b[39m \u001b[38;5;124m\"\u001b[39m\u001b[38;5;124m/datastores/default/content\u001b[39m\u001b[38;5;124m\"\u001b[39m, data\u001b[38;5;241m=\u001b[39mdatalog_rule)\n\u001b[1;32m     12\u001b[0m \u001b[38;5;66;03m# Catch errors\u001b[39;00m\n\u001b[0;32m---> 13\u001b[0m \u001b[43massert_response_ok\u001b[49m\u001b[43m(\u001b[49m\u001b[43mresponse\u001b[49m\u001b[43m,\u001b[49m\u001b[43m \u001b[49m\u001b[38;5;124;43m\"\u001b[39;49m\u001b[38;5;124;43mFailed to add rule.\u001b[39;49m\u001b[38;5;124;43m\"\u001b[39;49m\u001b[43m)\u001b[49m\n\u001b[1;32m     15\u001b[0m \u001b[38;5;28mprint\u001b[39m(response)\n",
      "Cell \u001b[0;32mIn[3], line 17\u001b[0m, in \u001b[0;36massert_response_ok\u001b[0;34m(response, message)\u001b[0m\n\u001b[1;32m     15\u001b[0m \u001b[38;5;28;01mdef\u001b[39;00m \u001b[38;5;21massert_response_ok\u001b[39m(response, message):\n\u001b[1;32m     16\u001b[0m     \u001b[38;5;28;01mif\u001b[39;00m \u001b[38;5;129;01mnot\u001b[39;00m response\u001b[38;5;241m.\u001b[39mok:\n\u001b[0;32m---> 17\u001b[0m         \u001b[38;5;28;01mraise\u001b[39;00m \u001b[38;5;167;01mException\u001b[39;00m(\n\u001b[1;32m     18\u001b[0m             message \u001b[38;5;241m+\u001b[39m \u001b[38;5;124m\"\u001b[39m\u001b[38;5;130;01m\\n\u001b[39;00m\u001b[38;5;124mStatus received=\u001b[39m\u001b[38;5;132;01m{}\u001b[39;00m\u001b[38;5;130;01m\\n\u001b[39;00m\u001b[38;5;132;01m{}\u001b[39;00m\u001b[38;5;124m\"\u001b[39m\u001b[38;5;241m.\u001b[39mformat(response\u001b[38;5;241m.\u001b[39mstatus_code, response\u001b[38;5;241m.\u001b[39mtext))\n",
      "\u001b[0;31mException\u001b[0m: Failed to add rule.\nStatus received=400\nRuleCompilationException: The program is not stratified because these components of the dependency graph contain cycles through negation and/or aggregation:\n======== COMPONENT 1 ========\n    <https://rdfox.com/example#Class>[?s] :- <https://rdfox.com/example#hasProp>[?s, ?o], NOT <https://rdfox.com/example#hasProp>[?s, \"property\"] .\n    <https://rdfox.com/example#Class>[?x] :- rdf:type[?x, ?c], NOT <https://rdfox.com/example#Class>[?x] .\n    <https://rdfox.com/example#DifferentClass>[?s] :- <https://rdfox.com/example#hasProp>[?s, ?o], NOT EXISTS ?o IN <https://rdfox.com/example#hasProp>[?s, ?o] .\n========================================================================================================================\n"
     ]
    }
   ],
   "source": [
    "datalog_rule = \"\"\"\n",
    "prefix : <https://rdfox.com/example#>\n",
    "\n",
    "[?x, a, :Class] :-\n",
    "    [?x, a, ?c] ,\n",
    "    NOT [?x, a, :Class] .\n",
    "\"\"\"\n",
    "\n",
    "# Get response\n",
    "response = requests.post(rdfox_server + \"/datastores/default/content\", data=datalog_rule)\n",
    "\n",
    "# Catch errors\n",
    "assert_response_ok(response, \"Failed to add rule.\")\n",
    "\n",
    "print(response)"
   ]
  },
  {
   "cell_type": "markdown",
   "metadata": {},
   "source": [
    "## Industry Examples\n",
    "\n",
    "examples\n",
    "\n",
    "examples"
   ]
  }
 ],
 "metadata": {
  "kernelspec": {
   "display_name": "venv",
   "language": "python",
   "name": "python3"
  },
  "language_info": {
   "codemirror_mode": {
    "name": "ipython",
    "version": 3
   },
   "file_extension": ".py",
   "mimetype": "text/x-python",
   "name": "python",
   "nbconvert_exporter": "python",
   "pygments_lexer": "ipython3",
   "version": "3.12.0"
  }
 },
 "nbformat": 4,
 "nbformat_minor": 2
}
