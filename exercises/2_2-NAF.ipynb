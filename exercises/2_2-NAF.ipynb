{
 "cells": [
  {
   "cell_type": "markdown",
   "metadata": {},
   "source": [
    "# 2.2 Negation as Failure\n",
    "\n",
    "Negation as Failure (NAF) searches for an absence of data - inferring new facts where a pattern is missing.\n",
    "\n",
    "There are two critical components to understand when using NAF with Datalog rules, **NOT** and **NOT EXISTS**.\n",
    "\n",
    "## NOT\n",
    "\n",
    "When used alone, **NOT** checks for a pattern to be false.\n",
    "\n",
    "### The Closed World Assumption\n",
    "\n",
    "RDFox follows the closed world assumption, which assumes statements to be false if they cannot be proven true.\n",
    "\n",
    "This means that the pattern can either be provably false or not present in the data at all to trigger the inference.\n",
    "\n",
    "## NOT EXISTS\n",
    "\n",
    "Subtly different from **NOT**, **NOT EXISTS** allows us to infer new facts based on missing data.\n",
    "\n",
    "**NOT EXISTS** searches the data store for the described pattern. If the returned result set is empty, **NOT EXISTS** returns True and vice versa."
   ]
  },
  {
   "cell_type": "markdown",
   "metadata": {},
   "source": [
    "# Example\n",
    "\n",
    "The following example highlights the different implications of **NOT** vs **NOT EXISTS** in the context of a vehicle sensor as it approaches a traffic light."
   ]
  },
  {
   "cell_type": "code",
   "execution_count": 95,
   "metadata": {},
   "outputs": [],
   "source": [
    "naf_data = \"\"\"\n",
    "@prefix : <https://rdfox.com/example#> .\n",
    "\n",
    ":leftSensor a :Camera ;\n",
    "    :hasReading :left-001 .\n",
    "\n",
    ":rightSensor a :Camera ;\n",
    "    :hasReading :right-001 .\n",
    "\n",
    ":highSensor a :Camera ;\n",
    "    :hasReading :high-001 ;\n",
    "    :hasReading :high-002 .\n",
    "\n",
    ":lowSensor a :Camera ;\n",
    "    :hasReading :low-001 .\n",
    "\n",
    "\n",
    "\n",
    ":left-001 a :SensorImage ;\n",
    "    :trafficLightPresent :green .\n",
    "\n",
    ":right-001 a :SensorImage ;\n",
    "    :trafficLightPresent :red .\n",
    "\n",
    ":high-001 a :SensorImage ;\n",
    "    :trafficLightPresent :green .\n",
    "\n",
    ":high-002 a :SensorImage ;\n",
    "    :trafficLightPresent :red .\n",
    "\n",
    ":low-001 a :SensorImage .\n",
    "\n",
    "\"\"\""
   ]
  },
  {
   "cell_type": "code",
   "execution_count": 100,
   "metadata": {},
   "outputs": [],
   "source": [
    "naf_rules = \"\"\"\n",
    "\n",
    "[?camera, :message, \"Sensor observed green light. \"] :-\n",
    "    [?camera, :hasReading, ?reading],\n",
    "    NOT [?reading, :trafficLightPresent, :red] .\n",
    "\n",
    "[?camera, :message, \"Sensor observed no red light.\"] :-\n",
    "    [?camera, a, :Camera] ,\n",
    "    NOT EXISTS ?reading IN (\n",
    "        [?camera, :hasReading, ?reading],\n",
    "        [?reading, :trafficLightPresent, :red]\n",
    "    ) .\n",
    "\n",
    "\"\"\""
   ]
  },
  {
   "cell_type": "code",
   "execution_count": 101,
   "metadata": {},
   "outputs": [
    {
     "name": "stdout",
     "output_type": "stream",
     "text": [
      "\n",
      "=== Messages based on objects in images ===\n",
      "?camera\t?message\t?colour\n",
      "<https://rdfox.com/example#highSensor>\t\"Sensor observed green light. \"\t<https://rdfox.com/example#green>\n",
      "<https://rdfox.com/example#highSensor>\t\"Sensor observed green light. \"\t<https://rdfox.com/example#red>\n",
      "<https://rdfox.com/example#leftSensor>\t\"Sensor observed green light. \"\t<https://rdfox.com/example#green>\n",
      "<https://rdfox.com/example#lowSensor>\t\"Sensor observed green light. \"\t\n",
      "<https://rdfox.com/example#leftSensor>\t\"Sensor observed no red light.\"\t<https://rdfox.com/example#green>\n",
      "<https://rdfox.com/example#lowSensor>\t\"Sensor observed no red light.\"\t\n",
      "\n"
     ]
    }
   ],
   "source": [
    "import requests\n",
    "\n",
    "# Set up the SPARQL endpoint\n",
    "rdfox_server = \"http://localhost:12110\"\n",
    "\n",
    "# Helper function to raise exception if the REST endpoint returns an unexpected status code\n",
    "def assert_response_ok(response, message):\n",
    "    if not response.ok:\n",
    "        raise Exception(\n",
    "            message + \"\\nStatus received={}\\n{}\".format(response.status_code, response.text))\n",
    "\n",
    "# Clear data store\n",
    "clear_response = requests.delete(\n",
    "    rdfox_server + \"/datastores/default/content?facts=true&axioms&rules\")\n",
    "assert_response_ok(clear_response, \"Failed to clear data store.\")\n",
    "\n",
    "# Add data\n",
    "payload = {'operation': 'add-content-update-prefixes'}\n",
    "data_response = requests.patch(\n",
    "    rdfox_server + \"/datastores/default/content\", params=payload, data=naf_data)\n",
    "assert_response_ok(data_response, \"Failed to add facts to data store.\")\n",
    "\n",
    "# Get rules\n",
    "rules_response = requests.post(rdfox_server + \"/datastores/default/content\", data=naf_rules)\n",
    "assert_response_ok(rules_response, \"Failed to add rule.\")\n",
    "\n",
    "# Issue NOT select query\n",
    "ft_sparql_text = \"SELECT ?camera ?message ?colour WHERE { ?camera a :Camera ; :hasReading ?reading; :message ?message. OPTIONAL { SELECT ?reading ?colour WHERE { ?reading :trafficLightPresent ?colour . } } } ORDER BY ASC(?message) ASC(?camera)\"\n",
    "ft_response = requests.get(\n",
    "    rdfox_server + \"/datastores/default/sparql\", params={\"query\": ft_sparql_text})\n",
    "assert_response_ok(ft_response, \"Failed to run ft select query.\")\n",
    "print('\\n=== Messages based on objects in images ===')\n",
    "print(ft_response.text)"
   ]
  },
  {
   "cell_type": "markdown",
   "metadata": {},
   "source": [
    "### Inference Table\n",
    "\n",
    "| Lights present in image | Inferred by NOT | Inferred by NOT EXISTS |\n",
    "|:---:|:---:|:---:|\n",
    "| (Left)&nbsp;&nbsp;&nbsp;&nbsp;&nbsp;green | YES | YES |\n",
    "| (Right)&nbsp;&nbsp;&nbsp;&nbsp;&nbsp;red | NO | NO |\n",
    "| (High)&nbsp;&nbsp;&nbsp;&nbsp;&nbsp;both | YES | NO |\n",
    "| (Low)&nbsp;&nbsp;&nbsp;&nbsp;&nbsp;none | YES | YES |"
   ]
  },
  {
   "cell_type": "markdown",
   "metadata": {},
   "source": [
    "## Incremental retraction\n",
    "\n",
    "NAF is an incredibly powerful tool and raises an potentially thorny question when combined with the Incremental Reasoning of RDFox.\n",
    "\n",
    "What happens when new data is added that fills the gap of an absent triple, whose absence was leading to the inference of another fact?\n",
    "\n",
    "Well, the previously inferred fact will have to be retracted.\n",
    "\n",
    "Try importing some new data that contains something from the **NOT EXISTS** atom and see what happens."
   ]
  },
  {
   "cell_type": "markdown",
   "metadata": {},
   "source": [
    "## Cycles in rules\n",
    "\n",
    "A rule, or set of rules, cannot be imported if they create cyclic logic, meaning an inferred triples change the conditions that led to their inference.\n",
    "\n",
    "This is known as a stratification error - the rule set cannot be stratified (logically chained in a way that terminates).\n",
    "\n",
    "### Where can cycles appear?\n",
    "\n",
    "It can be easy to write rules that cannot be stratified when using Aggregation and Negation.\n",
    "\n",
    "This behavior can be difficult to spot so RDFox will prevent you from importing such rules and will tell you where the cycle occurs.\n",
    "\n",
    "With a simple example, it's easy to see. Take this rule, can you see the problem?"
   ]
  },
  {
   "cell_type": "code",
   "execution_count": 103,
   "metadata": {},
   "outputs": [
    {
     "ename": "Exception",
     "evalue": "Failed to add rule.\nStatus received=400\nRuleCompilationException: The program is not stratified because these components of the dependency graph contain cycles through negation and/or aggregation:\n======== COMPONENT 1 ========\n    <https://rdfox.com/example#Class>[?x] :- rdf:type[?x, ?c], NOT <https://rdfox.com/example#Class>[?x] .\n========================================================================================================================\n",
     "output_type": "error",
     "traceback": [
      "\u001b[0;31m---------------------------------------------------------------------------\u001b[0m",
      "\u001b[0;31mException\u001b[0m                                 Traceback (most recent call last)",
      "Cell \u001b[0;32mIn[103], line 18\u001b[0m\n\u001b[1;32m     15\u001b[0m response \u001b[38;5;241m=\u001b[39m requests\u001b[38;5;241m.\u001b[39mpost(rdfox_server \u001b[38;5;241m+\u001b[39m \u001b[38;5;124m\"\u001b[39m\u001b[38;5;124m/datastores/default/content\u001b[39m\u001b[38;5;124m\"\u001b[39m, data\u001b[38;5;241m=\u001b[39mdatalog_rule)\n\u001b[1;32m     17\u001b[0m \u001b[38;5;66;03m# Catch errors\u001b[39;00m\n\u001b[0;32m---> 18\u001b[0m \u001b[43massert_response_ok\u001b[49m\u001b[43m(\u001b[49m\u001b[43mresponse\u001b[49m\u001b[43m,\u001b[49m\u001b[43m \u001b[49m\u001b[38;5;124;43m\"\u001b[39;49m\u001b[38;5;124;43mFailed to add rule.\u001b[39;49m\u001b[38;5;124;43m\"\u001b[39;49m\u001b[43m)\u001b[49m\n\u001b[1;32m     20\u001b[0m \u001b[38;5;28mprint\u001b[39m(response)\n",
      "Cell \u001b[0;32mIn[101], line 9\u001b[0m, in \u001b[0;36massert_response_ok\u001b[0;34m(response, message)\u001b[0m\n\u001b[1;32m      7\u001b[0m \u001b[38;5;28;01mdef\u001b[39;00m \u001b[38;5;21massert_response_ok\u001b[39m(response, message):\n\u001b[1;32m      8\u001b[0m     \u001b[38;5;28;01mif\u001b[39;00m \u001b[38;5;129;01mnot\u001b[39;00m response\u001b[38;5;241m.\u001b[39mok:\n\u001b[0;32m----> 9\u001b[0m         \u001b[38;5;28;01mraise\u001b[39;00m \u001b[38;5;167;01mException\u001b[39;00m(\n\u001b[1;32m     10\u001b[0m             message \u001b[38;5;241m+\u001b[39m \u001b[38;5;124m\"\u001b[39m\u001b[38;5;130;01m\\n\u001b[39;00m\u001b[38;5;124mStatus received=\u001b[39m\u001b[38;5;132;01m{}\u001b[39;00m\u001b[38;5;130;01m\\n\u001b[39;00m\u001b[38;5;132;01m{}\u001b[39;00m\u001b[38;5;124m\"\u001b[39m\u001b[38;5;241m.\u001b[39mformat(response\u001b[38;5;241m.\u001b[39mstatus_code, response\u001b[38;5;241m.\u001b[39mtext))\n",
      "\u001b[0;31mException\u001b[0m: Failed to add rule.\nStatus received=400\nRuleCompilationException: The program is not stratified because these components of the dependency graph contain cycles through negation and/or aggregation:\n======== COMPONENT 1 ========\n    <https://rdfox.com/example#Class>[?x] :- rdf:type[?x, ?c], NOT <https://rdfox.com/example#Class>[?x] .\n========================================================================================================================\n"
     ]
    }
   ],
   "source": [
    "datalog_rule = \"\"\"\n",
    "prefix : <https://rdfox.com/example#>\n",
    "\n",
    "[?x, a, :Class] :-\n",
    "    [?x, a, ?c] ,\n",
    "    NOT [?x, a, :Class] .\n",
    "\"\"\"\n",
    "\n",
    "# Clear data store\n",
    "clear_response = requests.delete(\n",
    "    rdfox_server + \"/datastores/default/content?facts=true&axioms&rules\")\n",
    "assert_response_ok(clear_response, \"Failed to clear data store.\")\n",
    "\n",
    "# Get response\n",
    "response = requests.post(rdfox_server + \"/datastores/default/content\", data=datalog_rule)\n",
    "\n",
    "# Catch errors\n",
    "assert_response_ok(response, \"Failed to add rule.\")\n",
    "\n",
    "print(response)"
   ]
  },
  {
   "cell_type": "markdown",
   "metadata": {},
   "source": [
    "## Where is NAF relevant?\n",
    "\n",
    "Negation as failure is a particularly powerful tool as the absence of data is a common concept in real-world applications.\n",
    "\n",
    "### Publishing\n",
    "\n",
    "To generate advanced recommendations, offer detailed search, control user access, etc.\n",
    "\n",
    "### Construction and Manufacturing\n",
    "\n",
    "To determine complex compatibilities, comply with schematics and regulations, simulate failure conditions, etc.\n",
    "\n",
    "### On-device\n",
    "\n",
    "To encode real-world decision-making rules, map dependencies, repair data, etc.\n"
   ]
  },
  {
   "cell_type": "markdown",
   "metadata": {},
   "source": [
    "## Exercise\n",
    "\n",
    "Complete the rule `nafRules.dlog` in the `rules` folder so that the query below can be used to directly find..."
   ]
  },
  {
   "cell_type": "code",
   "execution_count": null,
   "metadata": {},
   "outputs": [],
   "source": [
    "agg_sparql = \"\"\"\n",
    "SELECT ?starProduct ?averageStars ?reviewCount\n",
    "WHERE {\n",
    "    ?starProduct a :StarProduct ;\n",
    "    :hasAverageStars ?averageStars ;\n",
    "    :hasReviewCount ?reviewCount .\n",
    "} ORDER BY DESC(?averageStars)\n",
    "\"\"\""
   ]
  },
  {
   "cell_type": "markdown",
   "metadata": {},
   "source": [
    "Here is a representative sample of the data in `nafData.ttl`."
   ]
  },
  {
   "cell_type": "code",
   "execution_count": null,
   "metadata": {},
   "outputs": [],
   "source": [
    "sammple_data = \"\"\"\n",
    "@prefix : <https://rdfox.com/example#> .\n",
    "\n",
    ":product0001 a :Sofa ;\n",
    "    :hasReview :review11.\n",
    "\n",
    ":review11 :hasStars 5 .\n",
    "\n",
    "\"\"\""
   ]
  },
  {
   "cell_type": "code",
   "execution_count": 3,
   "metadata": {},
   "outputs": [
    {
     "name": "stdout",
     "output_type": "stream",
     "text": [
      "Results:  <Response [200]>\n"
     ]
    }
   ],
   "source": [
    "import requests\n",
    "\n",
    "# Set up the SPARQL endpoint\n",
    "rdfox_server = \"http://localhost:12110\"\n",
    "\n",
    "# Read rules from external file\n",
    "with open(\"../rules/2_2-NAF.dlog\", \"r\") as rule_file:\n",
    "    datalog_rule = rule_file.read()\n",
    "\n",
    "# Get response\n",
    "response = requests.post(rdfox_server + \"/datastores/default/content\", data=datalog_rule)\n",
    "assert_response_ok(response, \"Failed to add rule.\")\n",
    "\n",
    "print(response)"
   ]
  },
  {
   "cell_type": "markdown",
   "metadata": {},
   "source": [
    "### Check your work\n",
    "\n",
    "Run the query below to verify the results."
   ]
  },
  {
   "cell_type": "code",
   "execution_count": 4,
   "metadata": {},
   "outputs": [
    {
     "name": "stdout",
     "output_type": "stream",
     "text": [
      "Results: \n",
      " ?s\t?p\t?o\n",
      "<https://rdfox.com/example#a>\t<https://rdfox.com/example#b>\t<https://rdfox.com/example#c>\n",
      "\n"
     ]
    }
   ],
   "source": [
    "# Read query from external file\n",
    "with open(\"../queries/star.rq\", \"r\") as query_file:\n",
    "    query = query_file.read()\n",
    "\n",
    "# Get response\n",
    "queryResponse = requests.get(rdfox_server + \"/datastores/default/sparql\", params={\"query\": query})\n",
    "\n",
    "# Catch errors\n",
    "assert_response_ok(queryResponse, \"Failed to run select query.\")\n",
    "\n",
    "print(\"Results:\\n\", queryResponse.text)"
   ]
  },
  {
   "cell_type": "code",
   "execution_count": 19,
   "metadata": {},
   "outputs": [
    {
     "name": "stdout",
     "output_type": "stream",
     "text": [
      "Results:  ?s\t?p\t?o\n",
      "<https://rdfox.com/example#a>\t<https://rdfox.com/example#b>\t<https://rdfox.com/example#c>\n",
      "<https://rdfox.com/example#c>\t<https://rdfox.com/example#wooooow>\t<https://rdfox.com/example#a>\n",
      "<https://rdfox.com/example#a>\t<https://rdfox.com/example#wooooow>\t<https://rdfox.com/example#c>\n",
      "<https://rdfox.com/example#a>\t<https://rdfox.com/example#excellent>\t<https://rdfox.com/example#c>\n",
      "<https://rdfox.com/example#a>\t<https://rdfox.com/example#hasProp>\t\"Property\"\n",
      "<https://rdfox.com/example#a>\t<http://www.w3.org/1999/02/22-rdf-syntax-ns#type>\t<https://rdfox.com/example#Class>\n",
      "\n"
     ]
    }
   ],
   "source": [
    "# Issue insert\n",
    "sparql_insert = \"prefix : <https://rdfox.com/example#> INSERT { ?s :hasProp 'Property' } WHERE { ?s :b ?o }\"\n",
    "response = requests.post(\n",
    "    rdfox_server + \"/datastores/default/sparql\", data={\"update\": sparql_insert})\n",
    "assert_response_ok(response, \"Failed to insert fact via sparql.\")\n",
    "\n",
    "# Get response\n",
    "queryResponse = requests.get(rdfox_server + \"/datastores/default/sparql\", params={\"query\": query})\n",
    "\n",
    "# Catch errors\n",
    "assert_response_ok(queryResponse, \"Failed to run select query.\")\n",
    "\n",
    "print(\"Results: \", queryResponse.text)"
   ]
  },
  {
   "cell_type": "markdown",
   "metadata": {},
   "source": [
    "### You should see...\n",
    "\n",
    "=== Star Products ===\n",
    "|?starProduct|?averageStars|\t?reviewCount|\n",
    "|-----------|-------------|-------------|\n",
    "|<https://rdfox.com/example/product0579>|\t4.5|\t8|\n",
    "|<https://rdfox.com/example/product0934>|\t4.5|\t6|\n",
    "|<https://rdfox.com/example/product0395>|\t4.428571428571428571|\t7|\n",
    "|<https://rdfox.com/example/product0209>|\t4.375|\t8|\n",
    "|<https://rdfox.com/example/product0317>|\t4.285714285714285714|\t7|\n",
    "|<https://rdfox.com/example/product0222>|\t4.166666666666666667|\t6|\n",
    "|<https://rdfox.com/example/product0931>|\t4.142857142857142857|\t7|\n",
    "|<https://rdfox.com/example/product0492>|\t4.142857142857142857|\t7|\n",
    "|<https://rdfox.com/example/product0137>|\t4.142857142857142857|\t7|\n",
    "|<https://rdfox.com/example/product0326>|\t4.125|\t8|"
   ]
  }
 ],
 "metadata": {
  "kernelspec": {
   "display_name": "venv",
   "language": "python",
   "name": "python3"
  },
  "language_info": {
   "codemirror_mode": {
    "name": "ipython",
    "version": 3
   },
   "file_extension": ".py",
   "mimetype": "text/x-python",
   "name": "python",
   "nbconvert_exporter": "python",
   "pygments_lexer": "ipython3",
   "version": "3.12.0"
  }
 },
 "nbformat": 4,
 "nbformat_minor": 2
}
