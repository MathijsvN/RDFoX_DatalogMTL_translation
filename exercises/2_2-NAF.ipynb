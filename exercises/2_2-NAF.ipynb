{
 "cells": [
  {
   "cell_type": "markdown",
   "metadata": {},
   "source": [
    "# 2.2 Negation as Failure\n",
    "\n",
    "Negation as Failure (NAF) searches for an absence of data - inferring new facts where a pattern is missing.\n",
    "\n",
    "There are two critical components to understand when using NAF with Datalog rules, **NOT** and **NOT EXISTS**.\n",
    "\n",
    "## NOT\n",
    "\n",
    "When used alone, **NOT** checks for a pattern to be false.\n",
    "\n",
    "## NOT EXISTS\n",
    "\n",
    "Subtly different from **NOT**, **NOT EXISTS** looks for missing data.\n",
    "\n",
    "**NOT EXISTS** searches the data store for the described pattern. If the returned result set is empty, it returns **true** and vice versa.\n",
    "\n",
    "### The Closed World Assumption\n",
    "\n",
    "RDFox follows the closed world assumption, which assumes statements to be false if they cannot be proven true.\n",
    "\n",
    "This means that the pattern can either be provably false or not present in the data at all to trigger the inference."
   ]
  },
  {
   "cell_type": "markdown",
   "metadata": {},
   "source": [
    "# Example\n",
    "\n",
    "The following example highlights the different implications of **NOT** vs **NOT EXISTS** in the context of a vehicle sensor as it approaches a traffic light."
   ]
  },
  {
   "cell_type": "code",
   "execution_count": 143,
   "metadata": {},
   "outputs": [],
   "source": [
    "naf_data = \"\"\"\n",
    "@prefix : <https://rdfox.com/example#> .\n",
    "\n",
    ":switchA :hasState :on .\n",
    "\n",
    ":switchB :hasState :off .\n",
    "\n",
    ":device01 a :Component;\n",
    "    :dependsOn :switchA .\n",
    "\n",
    ":device02 a :Component;\n",
    "    :dependsOn :switchB .\n",
    "\n",
    ":device03 a :Component;\n",
    "    :dependsOn :switchA ;\n",
    "    :dependsOn :switchB .\n",
    "\n",
    ":device04 a :Component.\n",
    "\n",
    "\"\"\""
   ]
  },
  {
   "cell_type": "code",
   "execution_count": 144,
   "metadata": {},
   "outputs": [],
   "source": [
    "naf_rules = \"\"\"\n",
    "\n",
    "[?device, :atLeastOnDependencyOn, true] :-\n",
    "    [?device, a, :Component],\n",
    "    [?device, :dependsOn, ?switch],\n",
    "    NOT (\n",
    "        [?switch, :hasState, :off] \n",
    "    ).\n",
    "\n",
    "[?device, :noDependenciesOff, true] :-\n",
    "    [?device, a, :Component],\n",
    "    NOT EXISTS ?switch IN (\n",
    "        [?device, :dependsOn, ?switch],\n",
    "        [?switch, :hasState, :off] \n",
    "    ).\n",
    "\n",
    "\"\"\""
   ]
  },
  {
   "cell_type": "markdown",
   "metadata": {},
   "source": [
    "### Variable scope\n",
    "\n",
    "Syntactically, **NOT EXISTS** introduces a new, unbound variable whose scope is local to the negation formula. It can share the name of a variable in the wider body without sharing a binding."
   ]
  },
  {
   "cell_type": "code",
   "execution_count": 145,
   "metadata": {},
   "outputs": [
    {
     "name": "stdout",
     "output_type": "stream",
     "text": [
      "\n",
      "=== Messages based on objects in images ===\n",
      "?device\t?atLeastOnDependencyOn\t?noDependenciesOff\n",
      "<https://rdfox.com/example#device01>\ttrue\ttrue\n",
      "<https://rdfox.com/example#device02>\t\t\n",
      "<https://rdfox.com/example#device03>\ttrue\t\n",
      "<https://rdfox.com/example#device04>\t\ttrue\n",
      "\n"
     ]
    }
   ],
   "source": [
    "import requests\n",
    "\n",
    "# Set up the SPARQL endpoint\n",
    "rdfox_server = \"http://localhost:12110\"\n",
    "\n",
    "# Helper function to raise exception if the REST endpoint returns an unexpected status code\n",
    "def assert_response_ok(response, message):\n",
    "    if not response.ok:\n",
    "        raise Exception(\n",
    "            message + \"\\nStatus received={}\\n{}\".format(response.status_code, response.text))\n",
    "\n",
    "# Clear data store\n",
    "clear_response = requests.delete(\n",
    "    rdfox_server + \"/datastores/default/content?facts=true&axioms&rules\")\n",
    "assert_response_ok(clear_response, \"Failed to clear data store.\")\n",
    "\n",
    "# Add data\n",
    "payload = {'operation': 'add-content-update-prefixes'}\n",
    "data_response = requests.patch(\n",
    "    rdfox_server + \"/datastores/default/content\", params=payload, data=naf_data)\n",
    "assert_response_ok(data_response, \"Failed to add facts to data store.\")\n",
    "\n",
    "# Get rules\n",
    "rules_response = requests.post(rdfox_server + \"/datastores/default/content\", data=naf_rules)\n",
    "assert_response_ok(rules_response, \"Failed to add rule.\")\n",
    "\n",
    "# Issue select query\n",
    "with open(\"../queries/2_2-NAFQuery.rq\", \"r\") as file:\n",
    "    naf_query = file.read()\n",
    "response = requests.get(\n",
    "    rdfox_server + \"/datastores/default/sparql\", params={\"query\": naf_query})\n",
    "assert_response_ok(response, \"Failed to run ft select query.\")\n",
    "print('\\n=== Messages based on objects in images ===')\n",
    "print(response.text)"
   ]
  },
  {
   "cell_type": "markdown",
   "metadata": {},
   "source": [
    "## Incremental retraction\n",
    "\n",
    "NAF is an incredibly powerful tool and raises an potentially thorny question when combined with the Incremental Reasoning of RDFox.\n",
    "\n",
    "What happens when new data is added that fills the gap of an absent triple, whose absence was leading to the inference of another fact?\n",
    "\n",
    "The previously inferred fact will have to be retracted.\n",
    "\n",
    "Try importing some new data that contains something from the **NOT EXISTS** atom and see what happens.\n",
    "\n",
    "Here, we'll introduce new dependencies for **device04** - now depending on **both switchA and switchB**."
   ]
  },
  {
   "cell_type": "code",
   "execution_count": 146,
   "metadata": {},
   "outputs": [],
   "source": [
    "new_data = \"\"\"\n",
    "@prefix : <https://rdfox.com/example#> .\n",
    "\n",
    ":device04 a :Component;\n",
    "    :dependsOn :switchA ;\n",
    "    :dependsOn :switchB .\n",
    "\n",
    "\"\"\""
   ]
  },
  {
   "cell_type": "code",
   "execution_count": 147,
   "metadata": {},
   "outputs": [
    {
     "name": "stdout",
     "output_type": "stream",
     "text": [
      "\n",
      "=== Messages based on objects in images ===\n",
      "?device\t?atLeastOnDependencyOn\t?noDependenciesOff\n",
      "<https://rdfox.com/example#device01>\ttrue\ttrue\n",
      "<https://rdfox.com/example#device02>\t\t\n",
      "<https://rdfox.com/example#device03>\ttrue\t\n",
      "<https://rdfox.com/example#device04>\ttrue\t\n",
      "\n"
     ]
    }
   ],
   "source": [
    "# Add the new data\n",
    "payload = {'operation': 'add-content-update-prefixes'}\n",
    "data_response = requests.patch(\n",
    "    rdfox_server + \"/datastores/default/content\", params=payload, data=new_data)\n",
    "assert_response_ok(data_response, \"Failed to add facts to data store.\")\n",
    "\n",
    "# Issue the same select query\n",
    "with open(\"../queries/2_2-NAFQuery.rq\", \"r\") as file:\n",
    "    naf_query = file.read()\n",
    "response = requests.get(\n",
    "    rdfox_server + \"/datastores/default/sparql\", params={\"query\": naf_query})\n",
    "assert_response_ok(response, \"Failed to run ft select query.\")\n",
    "print('\\n=== Messages based on objects in images ===')\n",
    "print(response.text)"
   ]
  },
  {
   "cell_type": "markdown",
   "metadata": {},
   "source": [
    "## Cycles in rules\n",
    "\n",
    "A rule, or set of rules, cannot be imported if they create cyclic logic, meaning an inferred triples change the conditions that led to their inference.\n",
    "\n",
    "This is known as a stratification error - the rule set cannot be stratified (logically chained in a way that terminates).\n",
    "\n",
    "### Where can cycles appear?\n",
    "\n",
    "It can be easy to write rules that cannot be stratified when using Aggregation and Negation.\n",
    "\n",
    "This behavior can be difficult to spot so RDFox will prevent you from importing such rules and will tell you where the cycle occurs.\n",
    "\n",
    "With a simple example, it's easy to see. Take this rule, can you see the problem?"
   ]
  },
  {
   "cell_type": "code",
   "execution_count": 103,
   "metadata": {},
   "outputs": [
    {
     "ename": "Exception",
     "evalue": "Failed to add rule.\nStatus received=400\nRuleCompilationException: The program is not stratified because these components of the dependency graph contain cycles through negation and/or aggregation:\n======== COMPONENT 1 ========\n    <https://rdfox.com/example#Class>[?x] :- rdf:type[?x, ?c], NOT <https://rdfox.com/example#Class>[?x] .\n========================================================================================================================\n",
     "output_type": "error",
     "traceback": [
      "\u001b[0;31m---------------------------------------------------------------------------\u001b[0m",
      "\u001b[0;31mException\u001b[0m                                 Traceback (most recent call last)",
      "Cell \u001b[0;32mIn[103], line 18\u001b[0m\n\u001b[1;32m     15\u001b[0m response \u001b[38;5;241m=\u001b[39m requests\u001b[38;5;241m.\u001b[39mpost(rdfox_server \u001b[38;5;241m+\u001b[39m \u001b[38;5;124m\"\u001b[39m\u001b[38;5;124m/datastores/default/content\u001b[39m\u001b[38;5;124m\"\u001b[39m, data\u001b[38;5;241m=\u001b[39mdatalog_rule)\n\u001b[1;32m     17\u001b[0m \u001b[38;5;66;03m# Catch errors\u001b[39;00m\n\u001b[0;32m---> 18\u001b[0m \u001b[43massert_response_ok\u001b[49m\u001b[43m(\u001b[49m\u001b[43mresponse\u001b[49m\u001b[43m,\u001b[49m\u001b[43m \u001b[49m\u001b[38;5;124;43m\"\u001b[39;49m\u001b[38;5;124;43mFailed to add rule.\u001b[39;49m\u001b[38;5;124;43m\"\u001b[39;49m\u001b[43m)\u001b[49m\n\u001b[1;32m     20\u001b[0m \u001b[38;5;28mprint\u001b[39m(response)\n",
      "Cell \u001b[0;32mIn[101], line 9\u001b[0m, in \u001b[0;36massert_response_ok\u001b[0;34m(response, message)\u001b[0m\n\u001b[1;32m      7\u001b[0m \u001b[38;5;28;01mdef\u001b[39;00m \u001b[38;5;21massert_response_ok\u001b[39m(response, message):\n\u001b[1;32m      8\u001b[0m     \u001b[38;5;28;01mif\u001b[39;00m \u001b[38;5;129;01mnot\u001b[39;00m response\u001b[38;5;241m.\u001b[39mok:\n\u001b[0;32m----> 9\u001b[0m         \u001b[38;5;28;01mraise\u001b[39;00m \u001b[38;5;167;01mException\u001b[39;00m(\n\u001b[1;32m     10\u001b[0m             message \u001b[38;5;241m+\u001b[39m \u001b[38;5;124m\"\u001b[39m\u001b[38;5;130;01m\\n\u001b[39;00m\u001b[38;5;124mStatus received=\u001b[39m\u001b[38;5;132;01m{}\u001b[39;00m\u001b[38;5;130;01m\\n\u001b[39;00m\u001b[38;5;132;01m{}\u001b[39;00m\u001b[38;5;124m\"\u001b[39m\u001b[38;5;241m.\u001b[39mformat(response\u001b[38;5;241m.\u001b[39mstatus_code, response\u001b[38;5;241m.\u001b[39mtext))\n",
      "\u001b[0;31mException\u001b[0m: Failed to add rule.\nStatus received=400\nRuleCompilationException: The program is not stratified because these components of the dependency graph contain cycles through negation and/or aggregation:\n======== COMPONENT 1 ========\n    <https://rdfox.com/example#Class>[?x] :- rdf:type[?x, ?c], NOT <https://rdfox.com/example#Class>[?x] .\n========================================================================================================================\n"
     ]
    }
   ],
   "source": [
    "datalog_rule = \"\"\"\n",
    "prefix : <https://rdfox.com/example#>\n",
    "\n",
    "[?x, a, :Class] :-\n",
    "    [?x, a, ?c] ,\n",
    "    NOT [?x, a, :Class] .\n",
    "\"\"\"\n",
    "\n",
    "# Clear data store\n",
    "clear_response = requests.delete(\n",
    "    rdfox_server + \"/datastores/default/content?facts=true&axioms&rules\")\n",
    "assert_response_ok(clear_response, \"Failed to clear data store.\")\n",
    "\n",
    "# Get response\n",
    "response = requests.post(rdfox_server + \"/datastores/default/content\", data=datalog_rule)\n",
    "\n",
    "# Catch errors\n",
    "assert_response_ok(response, \"Failed to add rule.\")\n",
    "\n",
    "print(response)"
   ]
  },
  {
   "cell_type": "markdown",
   "metadata": {},
   "source": [
    "## Where is NAF relevant?\n",
    "\n",
    "Negation as failure is a particularly powerful tool as the absence of data is a common concept in real-world applications.\n",
    "\n",
    "### On-device\n",
    "\n",
    "To encode real-world decision-making rules, map dependencies, repair data, etc.\n",
    "\n",
    "### Publishing\n",
    "\n",
    "To generate advanced recommendations, offer detailed search, control user access, etc.\n",
    "\n",
    "### Construction and Manufacturing\n",
    "\n",
    "To determine complex compatibilities, comply with schematics and regulations, simulate failure conditions, etc.\n"
   ]
  },
  {
   "cell_type": "markdown",
   "metadata": {},
   "source": [
    "## Exercise\n",
    "\n",
    "Complete the rule `nafRules.dlog` in the `rules` folder so that the query below can be used to directly find the **switches** that require maintenance - that is to say, they have not passed their maintenance check.\n",
    "\n",
    "### Helpful resources\n",
    "\n",
    "[Negation syntax forms](https://oxfordsemtech.github.io/DocumentationDevBuild/reasoning.html#negation)"
   ]
  },
  {
   "cell_type": "code",
   "execution_count": 172,
   "metadata": {},
   "outputs": [],
   "source": [
    "naf_sparql = \"\"\"\n",
    "SELECT ?switch ?passedMaintenanceCheck\n",
    "WHERE {\n",
    "    ?switch :requiresMaintenance true .\n",
    "    \n",
    "    OPTIONAL {SELECT ?switch ?passedMaintenanceCheck\n",
    "        WHERE {\n",
    "            ?switch :passedMaintenanceCheck ?passedMaintenanceCheck .\n",
    "        }\n",
    "    }\n",
    "} ORDER BY DESC(?passedMaintenanceCheck) ?switch\n",
    "\"\"\""
   ]
  },
  {
   "cell_type": "markdown",
   "metadata": {},
   "source": [
    "Here is a representative sample of the data in `nafData.ttl`."
   ]
  },
  {
   "cell_type": "code",
   "execution_count": 156,
   "metadata": {},
   "outputs": [],
   "source": [
    "sample_data = \"\"\"\n",
    "\n",
    ":device001 a :Component;\n",
    "    :dependsOn :switchA .\n",
    "\n",
    "# All devices depend on at least one switch.\n",
    "\n",
    ":switchA a :Component ;\n",
    "    :hasState :on ;\n",
    "    :passedMaintenanceCheck true  .\n",
    "\n",
    ":switchB a :Component ;\n",
    "    :hasState :off ;\n",
    "    :passedMaintenanceCheck false .\n",
    "\n",
    ":switchC a :Component ;\n",
    "    :hasState :on .\n",
    "\n",
    "\"\"\""
   ]
  },
  {
   "cell_type": "markdown",
   "metadata": {},
   "source": [
    "### Check your work\n",
    "\n",
    "Run the query below to verify the results."
   ]
  },
  {
   "cell_type": "code",
   "execution_count": 175,
   "metadata": {},
   "outputs": [
    {
     "name": "stdout",
     "output_type": "stream",
     "text": [
      "\n",
      "=== Switches Requiring Maintenance ===\n",
      "?switch\t?passedMaintenanceCheck\n",
      "<http://example.org/switchF>\tfalse\n",
      "<http://example.org/switchH>\tfalse\n",
      "<http://example.org/switchK>\tfalse\n",
      "<http://example.org/switchO>\tfalse\n",
      "<http://example.org/switchI>\t\n",
      "<http://example.org/switchX>\t\n",
      "\n"
     ]
    }
   ],
   "source": [
    "# Clear data store\n",
    "clear_response = requests.delete(\n",
    "    rdfox_server + \"/datastores/default/content?facts=true&axioms&rules\")\n",
    "assert_response_ok(clear_response, \"Failed to clear data store.\")\n",
    "\n",
    "# Get and add data\n",
    "with open(\"../data/2_2-NAFData.ttl\", \"r\") as file:\n",
    "    data = file.read()\n",
    "payload = {'operation': 'add-content-update-prefixes'}\n",
    "data_response = requests.patch(\n",
    "    rdfox_server + \"/datastores/default/content\", params=payload, data=data)\n",
    "assert_response_ok(data_response, \"Failed to add facts to data store.\")\n",
    "\n",
    "# Get and add rules\n",
    "with open(\"../rules/2_2-NAFRules.dlog\", \"r\") as rule_file:\n",
    "    datalog_rule = rule_file.read()\n",
    "response = requests.post(rdfox_server + \"/datastores/default/content\", data=datalog_rule)\n",
    "assert_response_ok(response, \"Failed to add rule.\")\n",
    "\n",
    "# Issue select query\n",
    "response = requests.get(\n",
    "    rdfox_server + \"/datastores/default/sparql\", params={\"query\": naf_sparql})\n",
    "assert_response_ok(response, \"Failed to run select query.\")\n",
    "print('\\n=== Switches Requiring Maintenance ===')\n",
    "print(response.text)"
   ]
  },
  {
   "cell_type": "markdown",
   "metadata": {},
   "source": [
    "### You should see...\n",
    "\n",
    "=== Switches Requiring Maintenance ===\n",
    "|?switch|?passedMaintenanceCheck|\n",
    "|-----------|-------------|\n",
    "|<http://example.org/switchF>|\tfalse|\n",
    "|<http://example.org/switchH>|\tfalse|\n",
    "|<http://example.org/switchK>|\tfalse|\n",
    "|<http://example.org/switchO>|\tfalse|\n",
    "|<http://example.org/switchI>|\t|\n",
    "|<http://example.org/switchX>|\t|"
   ]
  }
 ],
 "metadata": {
  "kernelspec": {
   "display_name": "venv",
   "language": "python",
   "name": "python3"
  },
  "language_info": {
   "codemirror_mode": {
    "name": "ipython",
    "version": 3
   },
   "file_extension": ".py",
   "mimetype": "text/x-python",
   "name": "python",
   "nbconvert_exporter": "python",
   "pygments_lexer": "ipython3",
   "version": "3.12.0"
  }
 },
 "nbformat": 4,
 "nbformat_minor": 2
}
