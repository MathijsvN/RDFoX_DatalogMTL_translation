{
 "cells": [
  {
   "cell_type": "markdown",
   "metadata": {},
   "source": [
    "# 2.2 Negation as Failure\n",
    "\n",
    "Negation as Failure (NAF) searches for an absence of data - inferring new facts where a pattern is missing.\n",
    "\n",
    "There are two critical components to understand when using NAF with Datalog rules, **NOT** and **NOT EXISTS**.\n",
    "\n",
    "## NOT\n",
    "\n",
    "When used alone, **NOT** checks for a pattern to be false.\n",
    "\n",
    "### The Closed World Assumption\n",
    "\n",
    "RDFox follows the closed world assumption, which assumes statements to be false if they cannot be proven true.\n",
    "\n",
    "This means that the pattern can either be provably false or not present in the data at all to trigger the inference.\n",
    "\n",
    "## NOT EXISTS\n",
    "\n",
    "Subtly different from **NOT**, **NOT EXISTS** allows us to infer new facts based on missing data.\n",
    "\n",
    "**NOT EXISTS** searches the data store for the described pattern. If the returned result set is empty, **NOT EXISTS** returns True and vice versa."
   ]
  },
  {
   "cell_type": "markdown",
   "metadata": {},
   "source": [
    "# Example\n",
    "\n",
    "Rule the following example code cell to see the different implications of **NOT** vs **NOT EXISTS**."
   ]
  },
  {
   "cell_type": "code",
   "execution_count": 3,
   "metadata": {},
   "outputs": [],
   "source": [
    "naf_data = \"\"\"\n",
    "@prefix : <https://rdfox.com/example#> .\n",
    "\n",
    ":justTrueNode a :Thing ;\n",
    "    :hasValue true .\n",
    "\n",
    ":justFalseNode a :Thing ;\n",
    "    :hasValue false .\n",
    "\n",
    ":bothValuesNode a :Thing ;\n",
    "    :hasValue true ;\n",
    "    :hasValue false .\n",
    "\n",
    ":noValueNode a :Thing .\n",
    "\n",
    "\"\"\""
   ]
  },
  {
   "cell_type": "code",
   "execution_count": 4,
   "metadata": {},
   "outputs": [],
   "source": [
    "naf_rules = \"\"\"\n",
    "[?x, a, :FalseThing] :-\n",
    "    [?x, a, :Thing] ,\n",
    "    NOT [?x, :hasValue, true] .\n",
    "\n",
    "[?x, a, :NoValueThing] :-\n",
    "    [?x, a, :Thing] ,\n",
    "    NOT EXISTS ?v IN (\n",
    "        [?x, :hasValue, ?v]\n",
    "    ) .\n",
    "\"\"\""
   ]
  },
  {
   "cell_type": "code",
   "execution_count": 5,
   "metadata": {},
   "outputs": [
    {
     "name": "stdout",
     "output_type": "stream",
     "text": [
      "=== Explicit Values of Things ===\n",
      "?S\t?v\n",
      "<https://rdfox.com/example#justTrueNode>\ttrue\n",
      "<https://rdfox.com/example#noValueNode>\t\n",
      "<https://rdfox.com/example#bothValuesNode>\ttrue\n",
      "<https://rdfox.com/example#bothValuesNode>\tfalse\n",
      "<https://rdfox.com/example#justFalseNode>\tfalse\n",
      "\n",
      "\n",
      "=== Inferred Things from NOT [?x, :hasValue, true] ===\n",
      "?S\t?v\n",
      "<https://rdfox.com/example#noValueNode>\t\n",
      "<https://rdfox.com/example#justFalseNode>\tfalse\n",
      "\n",
      "\n",
      "=== Inferred Things from NOT EXISTS ?v IN ([?x, :hasValue, ?v]) . ===\n",
      "?S\t?v\n",
      "<https://rdfox.com/example#noValueNode>\t\n",
      "\n"
     ]
    }
   ],
   "source": [
    "import requests\n",
    "\n",
    "# Set up the SPARQL endpoint\n",
    "rdfox_server = \"http://localhost:12110\"\n",
    "\n",
    "# Helper function to raise exception if the REST endpoint returns an unexpected status code\n",
    "def assert_response_ok(response, message):\n",
    "    if not response.ok:\n",
    "        raise Exception(\n",
    "            message + \"\\nStatus received={}\\n{}\".format(response.status_code, response.text))\n",
    "\n",
    "# Add data\n",
    "payload = {'operation': 'add-content-update-prefixes'}\n",
    "data_response = requests.patch(\n",
    "    rdfox_server + \"/datastores/default/content\", params=payload, data=naf_data)\n",
    "assert_response_ok(data_response, \"Failed to add facts to data store.\")\n",
    "\n",
    "# Get rules\n",
    "rules_response = requests.post(rdfox_server + \"/datastores/default/content\", data=naf_rules)\n",
    "assert_response_ok(rules_response, \"Failed to add rule.\")\n",
    "\n",
    "# Issue explicit values select query\n",
    "ev_sparql_text = \"SELECT * WHERE { ?S a :Thing . OPTIONAL{ SELECT ?S ?v WHERE { ?S a :Thing; :hasValue ?v } } }\"\n",
    "ev_response = requests.get(\n",
    "    rdfox_server + \"/datastores/default/sparql\", params={\"query\": ev_sparql_text})\n",
    "assert_response_ok(ev_response, \"Failed to run ft select query.\")\n",
    "print('=== Explicit Values of Things ===')\n",
    "print(ev_response.text)\n",
    "\n",
    "# Issue FalseThing select query\n",
    "ft_sparql_text = \"SELECT * WHERE { ?S a :FalseThing . OPTIONAL{ SELECT ?S ?v WHERE { ?S a :FalseThing; :hasValue ?v } } }\"\n",
    "ft_response = requests.get(\n",
    "    rdfox_server + \"/datastores/default/sparql\", params={\"query\": ft_sparql_text})\n",
    "assert_response_ok(ft_response, \"Failed to run ft select query.\")\n",
    "print('\\n=== Inferred Things from NOT [?x, :hasValue, true] ===')\n",
    "print(ft_response.text)\n",
    "\n",
    "# Issue NoValueThing select query\n",
    "nvt_sparql_text = \"SELECT ?S ?v WHERE { ?S a :NoValueThing . OPTIONAL{ SELECT ?S ?v WHERE { ?S a :NoValueThing; :hasValue ?v } } }\"\n",
    "nvt_response = requests.get(\n",
    "    rdfox_server + \"/datastores/default/sparql\", params={\"query\": nvt_sparql_text})\n",
    "assert_response_ok(nvt_response, \"Failed to run nvt select query.\")\n",
    "print('\\n=== Inferred Things from NOT EXISTS ?v IN ([?x, :hasValue, ?v]) . ===')\n",
    "print(nvt_response.text)\n"
   ]
  },
  {
   "cell_type": "markdown",
   "metadata": {},
   "source": [
    "## Incremental retraction\n",
    "\n",
    "NAF is an incredibly powerful tool and raises an potentially thorny question when combined with the Incremental Reasoning of RDFox.\n",
    "\n",
    "What happens when new data is added that fills the gap of an absent triple, whose absence was leading to the inference of another fact?\n",
    "\n",
    "Well, the previously inferred fact will have to be retracted.\n",
    "\n",
    "Try importing some new data that contains something from the **NOT EXISTS** atom and see what happens."
   ]
  },
  {
   "cell_type": "markdown",
   "metadata": {},
   "source": [
    "## Cycles in rules\n",
    "\n",
    "A rule, or set of rules, cannot be imported if they create cyclic logic, meaning an inferred triples change the conditions that led to their inference.\n",
    "\n",
    "This is known as a stratification error - the rule set cannot be stratified (logically chained in a way that terminates).\n",
    "\n",
    "### Where can cycles appear?\n",
    "\n",
    "It can be easy to write rules that cannot be stratified when using Aggregation and Negation.\n",
    "\n",
    "This behavior can be difficult to spot so RDFox will prevent you from importing such rules and will tell you where the cycle occurs.\n",
    "\n",
    "With a simple example, it's easy to see. Take this rule, can you see the problem?"
   ]
  },
  {
   "cell_type": "code",
   "execution_count": null,
   "metadata": {},
   "outputs": [],
   "source": [
    "datalog_rule = \"\"\"\n",
    "prefix : <https://rdfox.com/example#>\n",
    "\n",
    "[?x, a, :Class] :-\n",
    "    [?x, a, ?c] ,\n",
    "    NOT [?x, a, :Class] .\n",
    "\"\"\"\n",
    "\n",
    "# Get response\n",
    "response = requests.post(rdfox_server + \"/datastores/default/content\", data=datalog_rule)\n",
    "\n",
    "# Catch errors\n",
    "assert_response_ok(response, \"Failed to add rule.\")\n",
    "\n",
    "print(response)"
   ]
  },
  {
   "cell_type": "markdown",
   "metadata": {},
   "source": [
    "## Industry examples\n",
    "\n",
    "examples\n",
    "\n",
    "examples"
   ]
  },
  {
   "cell_type": "markdown",
   "metadata": {},
   "source": [
    "# Exercise\n",
    "\n",
    "Open **NAF.dlog** in the **rules folder** and fill in the blanks to achieve... (EXERCISE 2 NOT DONE YET)\n",
    "\n",
    "Rule the code cell below to import the rules **NAF.dlog**."
   ]
  },
  {
   "cell_type": "code",
   "execution_count": 3,
   "metadata": {},
   "outputs": [
    {
     "name": "stdout",
     "output_type": "stream",
     "text": [
      "Results:  <Response [200]>\n"
     ]
    }
   ],
   "source": [
    "import requests\n",
    "\n",
    "# Set up the SPARQL endpoint\n",
    "rdfox_server = \"http://localhost:12110\"\n",
    "\n",
    "# Read rules from external file\n",
    "with open(\"../rules/NAF.dlog\", \"r\") as rule_file:\n",
    "    datalog_rule = rule_file.read()\n",
    "\n",
    "# Get response\n",
    "response = requests.post(rdfox_server + \"/datastores/default/content\", data=datalog_rule)\n",
    "\n",
    "\n",
    "# Helper function to raise exception if the REST endpoint returns an unexpected status code\n",
    "def assert_response_ok(response, message):\n",
    "    if not response.ok:\n",
    "        raise Exception(\n",
    "            message + \"\\nStatus received={}\\n{}\".format(response.status_code, response.text))\n",
    "\n",
    "# Catch errors\n",
    "assert_response_ok(response, \"Failed to add rule.\")\n",
    "\n",
    "print(response)"
   ]
  },
  {
   "cell_type": "markdown",
   "metadata": {},
   "source": [
    "### Check your work\n",
    "\n",
    "Now run the query below to verify the results.\n",
    "\n",
    "Is it what you expected?"
   ]
  },
  {
   "cell_type": "code",
   "execution_count": 4,
   "metadata": {},
   "outputs": [
    {
     "name": "stdout",
     "output_type": "stream",
     "text": [
      "Results: \n",
      " ?s\t?p\t?o\n",
      "<https://rdfox.com/example#a>\t<https://rdfox.com/example#b>\t<https://rdfox.com/example#c>\n",
      "\n"
     ]
    }
   ],
   "source": [
    "# Read query from external file\n",
    "with open(\"../queries/star.rq\", \"r\") as query_file:\n",
    "    query = query_file.read()\n",
    "\n",
    "# Get response\n",
    "queryResponse = requests.get(rdfox_server + \"/datastores/default/sparql\", params={\"query\": query})\n",
    "\n",
    "# Catch errors\n",
    "assert_response_ok(queryResponse, \"Failed to run select query.\")\n",
    "\n",
    "print(\"Results:\\n\", queryResponse.text)"
   ]
  },
  {
   "cell_type": "code",
   "execution_count": 19,
   "metadata": {},
   "outputs": [
    {
     "name": "stdout",
     "output_type": "stream",
     "text": [
      "Results:  ?s\t?p\t?o\n",
      "<https://rdfox.com/example#a>\t<https://rdfox.com/example#b>\t<https://rdfox.com/example#c>\n",
      "<https://rdfox.com/example#c>\t<https://rdfox.com/example#wooooow>\t<https://rdfox.com/example#a>\n",
      "<https://rdfox.com/example#a>\t<https://rdfox.com/example#wooooow>\t<https://rdfox.com/example#c>\n",
      "<https://rdfox.com/example#a>\t<https://rdfox.com/example#excellent>\t<https://rdfox.com/example#c>\n",
      "<https://rdfox.com/example#a>\t<https://rdfox.com/example#hasProp>\t\"Property\"\n",
      "<https://rdfox.com/example#a>\t<http://www.w3.org/1999/02/22-rdf-syntax-ns#type>\t<https://rdfox.com/example#Class>\n",
      "\n"
     ]
    }
   ],
   "source": [
    "# Issue insert\n",
    "sparql_insert = \"prefix : <https://rdfox.com/example#> INSERT { ?s :hasProp 'Property' } WHERE { ?s :b ?o }\"\n",
    "response = requests.post(\n",
    "    rdfox_server + \"/datastores/default/sparql\", data={\"update\": sparql_insert})\n",
    "assert_response_ok(response, \"Failed to insert fact via sparql.\")\n",
    "\n",
    "# Get response\n",
    "queryResponse = requests.get(rdfox_server + \"/datastores/default/sparql\", params={\"query\": query})\n",
    "\n",
    "# Catch errors\n",
    "assert_response_ok(queryResponse, \"Failed to run select query.\")\n",
    "\n",
    "print(\"Results: \", queryResponse.text)"
   ]
  }
 ],
 "metadata": {
  "kernelspec": {
   "display_name": "venv",
   "language": "python",
   "name": "python3"
  },
  "language_info": {
   "codemirror_mode": {
    "name": "ipython",
    "version": 3
   },
   "file_extension": ".py",
   "mimetype": "text/x-python",
   "name": "python",
   "nbconvert_exporter": "python",
   "pygments_lexer": "ipython3",
   "version": "3.12.0"
  }
 },
 "nbformat": 4,
 "nbformat_minor": 2
}
