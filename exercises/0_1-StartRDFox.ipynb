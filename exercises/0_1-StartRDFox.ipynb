{
 "cells": [
  {
   "cell_type": "markdown",
   "metadata": {},
   "source": [
    "# Starting RDFox\n",
    "\n",
    "To run RDFox:\n",
    "\n",
    "1. Open a terminal in VS Code and navigate to the **Advanced Reasoning Workshop** working directory.\n",
    "\n",
    "2. Use the following command go start RDFox using the start.rdfox script (see 1.2). The command you need will vary slightly depending on your system OS and CLI.\n",
    "\n",
    "`<rdfox_filepath> sandbox . start`\n",
    "\n",
    "\n",
    "### MacOS & Linux\n",
    "\n",
    "E.g.\n",
    "`./Users/Thomas/Desktop/RDFox/RDFox-macOS-arm64-7.2/RDFox sandbox . start`\n",
    "\n",
    "### Windows (PowerShell)\n",
    "\n",
    "E.g.\n",
    "`& /Users/Thomas/Desktop/RDFox/RDFox-macOS-arm64-7.2/RDFox sandbox . start`\n",
    "\n",
    "### Windows (CMD)\n",
    "\n",
    "E.g.\n",
    "`Users/Thomas/Desktop/RDFox/RDFox-macOS-arm64-7.2/RDFox.exe sandbox . start`\n",
    "\n",
    "## Sanity check\n",
    "\n",
    "If everything has gone smoothly, you will see a message like this:\n",
    "\n",
    "\n",
    "----------------------------------------\n",
    "Source code for RDFox v1.0 Copyright 2013 Oxford University Innovation Limited and subsequent improvements Copyright 2017-2024 by Oxford Semantic Technologies Limited.\n",
    "\n",
    "This system is equipped with 8.5 GB of RAM, and RDFox is configured to use at most 7.7 GB (89.9% of the total).\n",
    "Currently, 105.4 MB (1.3% of the amount allocated to RDFox) appear to be available on the system.\n",
    "Since RDFox is a RAM-based system, its performance can suffer when other running processes use a lot of memory.\n",
    "\n",
    "Access control has been initialized by creating the first role with name \"guest\".\n",
    "This copy of RDFox is licensed for Developer use to Tom Vout (tom.vout@oxfordsemantic.tech) of OST until 24-May-2025 01:00:00.\n",
    "\n",
    "A new server connection was opened as role 'guest' and stored with name 'sc1'.\n",
    "output = \"out\"\n",
    "The REST endpoint was successfully started at port number/service name 12110 with 8 threads.\n",
    "WARNING: The RDFox endpoint is running with no transport layer security (TLS). This could allow attackers to steal\n",
    "         information including role passwords or authorization tokens. See the endpoint.channel variable and related\n",
    "         variables in the description of the RDFox endpoint for details of how to set up TLS.\n",
    "\n",
    "A new data store 'default' was created and initialized.\n",
    "\n",
    "reason.monitor = \"profile\"\\\n",
    "reason.profiler.log-plans = true\\\n",
    "log-frequency = 10\n",
    "\n",
    "----------------------------------------"
   ]
  }
 ],
 "metadata": {
  "kernelspec": {
   "display_name": "venv",
   "language": "python",
   "name": "python3"
  },
  "language_info": {
   "codemirror_mode": {
    "name": "ipython",
    "version": 3
   },
   "file_extension": ".py",
   "mimetype": "text/x-python",
   "name": "python",
   "nbconvert_exporter": "python",
   "pygments_lexer": "ipython3",
   "version": "3.12.0"
  }
 },
 "nbformat": 4,
 "nbformat_minor": 2
}
