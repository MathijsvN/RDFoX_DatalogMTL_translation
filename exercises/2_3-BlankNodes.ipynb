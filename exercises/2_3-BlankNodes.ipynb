{
 "cells": [
  {
   "cell_type": "markdown",
   "metadata": {},
   "source": [
    "# 2.3 Blank Nodes\n",
    "\n",
    "Blank nodes enable us to represent entities that themselves have properties or relate to other nodes, without giving the node itself an IRI.\n",
    "\n",
    "This is particularly relevant if the node itself is uninteresting or unknown but its relationships to the rest of the graph are, in which case a composite object that provides several details is more helpful.\n",
    "\n",
    "### SKOLEM\n",
    "\n",
    "While blank nodes can be incredible useful, they can be difficult to work with due to their anonymized identity which is why, in practice, we highly encourage using them with SKOLEM.\n",
    "\n",
    "SKOLEM generates an IRI in a reversible, deterministic way from a series of input parameters, including variables and literals.\n",
    "\n",
    "This means the new node retains a unique IRI that can be based solely on it's properties, thus able to be easily identified without requiring an IRI in advance.\n"
   ]
  },
  {
   "cell_type": "markdown",
   "metadata": {},
   "source": [
    "## Example\n",
    "\n"
   ]
  },
  {
   "cell_type": "markdown",
   "metadata": {},
   "source": [
    "## Exercise\n",
    "\n"
   ]
  }
 ],
 "metadata": {
  "language_info": {
   "name": "python"
  }
 },
 "nbformat": 4,
 "nbformat_minor": 2
}
