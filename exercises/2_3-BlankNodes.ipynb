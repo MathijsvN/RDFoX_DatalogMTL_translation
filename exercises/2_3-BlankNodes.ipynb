{
 "cells": [
  {
   "cell_type": "markdown",
   "metadata": {},
   "source": [
    "# 2.3 Blank Nodes\n",
    "\n",
    "Blank nodes enable us to represent entities that themselves have properties or relate to other nodes, without giving the node itself an IRI.\n",
    "\n",
    "This is particularly relevant if the node itself is uninteresting or unknown but its relationships to the rest of the graph are, in which case a composite object that provides several details is more helpful.\n",
    "\n",
    "Blank nodes are created without specifying an IRI - RDFox will generate a random identifier for this node in order to keep track of it. This can present challenges as the identifier is not generated deterministically and will be different every time the data is imported.\n",
    "\n",
    "While blank nodes can be incredible useful, they can be difficult to work with due to this inconsistent anonymized identity which is why, in practice, we highly encourage using them with SKOLEM.\n",
    "\n",
    "## SKOLEM\n",
    "\n",
    "SKOLEM generates a blank node with a deterministic IRI from a series of input parameters of both variables and literals.\n",
    "\n",
    "This means the new node retains a referenceable, reversible, meaningful IRI that can be based solely on selected properties.\n",
    "\n",
    "### SKOLEM syntax\n",
    "\n",
    "SKOLEM(\"literalOr\", ?variable, ..., ?result)\n",
    "\n",
    "Syntactically, the last argument given to SKOLEM is the variable that will be bound to the generated value. All preceding arguments contribute to the generation.\n",
    "\n",
    "Arguments can be either a variable or string."
   ]
  },
  {
   "cell_type": "markdown",
   "metadata": {},
   "source": [
    "## Example\n",
    "\n",
    "This example examines sensor readings of liquid baths in a manufacturing process, where each bath is monitored over time by two sensors.\n",
    "\n",
    "We'll create a blank node with SKOLEM that represents a summary of the bath states as they change over time."
   ]
  },
  {
   "cell_type": "code",
   "execution_count": 19,
   "metadata": {},
   "outputs": [],
   "source": [
    "bn_data = \"\"\"\n",
    "@prefix : <https://rdfox.com/example#> .\n",
    "@prefix xsd: <http://www.w3.org/2001/XMLSchema#> .\n",
    "\n",
    ":readingA1 a :SensorReading ;\n",
    "    :fromSensor :sensorA ;\n",
    "    :hasTemperature 18 ;\n",
    "    :hasTimeStamp \"2024-12-25T12:00:00\"^^xsd:dateTime .\n",
    "\n",
    ":readingB1 a :SensorReading ;\n",
    "    :fromSensor :sensorB ;\n",
    "    :hasTemperature 20 ;\n",
    "    :hasTimeStamp \"2024-12-25T12:00:00\"^^xsd:dateTime .\n",
    "\n",
    ":readingA2 a :SensorReading ;\n",
    "    :fromSensor :sensorA ;\n",
    "    :hasTemperature 21 ;\n",
    "    :hasTimeStamp \"2024-12-25T12:01:00\"^^xsd:dateTime .\n",
    "\n",
    ":readingB2 a :SensorReading ;\n",
    "    :fromSensor :sensorB ;\n",
    "    :hasTemperature 23 ;\n",
    "    :hasTimeStamp \"2024-12-25T12:01:00\"^^xsd:dateTime .\n",
    "\n",
    "\"\"\""
   ]
  },
  {
   "cell_type": "code",
   "execution_count": 20,
   "metadata": {},
   "outputs": [],
   "source": [
    "bn_rules = \"\"\"\n",
    "\n",
    "[?bathReading, a, :BathSummary],\n",
    "[?bathReading, :hasTimeStamp, ?time],\n",
    "[?bathReading, :hasTemperatureEstimate, ?tempEstimate] :-\n",
    "    [?reading1, :fromSensor, :sensorA],\n",
    "    [?reading2, :fromSensor, :sensorB],\n",
    "    [?reading1, :hasTimeStamp, ?time],\n",
    "    [?reading2, :hasTimeStamp, ?time],\n",
    "    [?reading1, :hasTemperature, ?temp1],\n",
    "    [?reading2, :hasTemperature, ?temp2],\n",
    "    BIND((?temp1 + ?temp2)/2 AS ?tempEstimate),\n",
    "    SKOLEM(\"SensorGroup\", ?time, ?bathReading) .\n",
    "\n",
    "\"\"\""
   ]
  },
  {
   "cell_type": "code",
   "execution_count": 21,
   "metadata": {},
   "outputs": [
    {
     "name": "stdout",
     "output_type": "stream",
     "text": [
      "\n",
      "=== Average Bath Temperature Estimate Over Time ===\n",
      "?bathReadingEncoded\t?time\t?temperatureEstimate\n",
      "_:_.05U2Vuc29yR3JvdXAA.08AP7cDxc6AADoBwAAAAAAAACAAAAMGQwA\t\"2024-12-25T12:00:00\"^^<http://www.w3.org/2001/XMLSchema#dateTime>\t19.0\n",
      "_:_.05U2Vuc29yR3JvdXAA.08YOjdDxc6AADoBwAAAAAAAACAAAAMGQwB\t\"2024-12-25T12:01:00\"^^<http://www.w3.org/2001/XMLSchema#dateTime>\t22.0\n",
      "\n"
     ]
    }
   ],
   "source": [
    "import requests\n",
    "\n",
    "# Set up the SPARQL endpoint\n",
    "rdfox_server = \"http://localhost:12110\"\n",
    "\n",
    "# Helper function to raise exception if the REST endpoint returns an unexpected status code\n",
    "def assert_response_ok(response, message):\n",
    "    if not response.ok:\n",
    "        raise Exception(\n",
    "            message + \"\\nStatus received={}\\n{}\".format(response.status_code, response.text))\n",
    "\n",
    "# Clear data store\n",
    "clear_response = requests.delete(\n",
    "    rdfox_server + \"/datastores/default/content?facts=true&axioms&rules\")\n",
    "assert_response_ok(clear_response, \"Failed to clear data store.\")\n",
    "\n",
    "# Add data\n",
    "payload = {'operation': 'add-content-update-prefixes'}\n",
    "data_response = requests.patch(\n",
    "    rdfox_server + \"/datastores/default/content\", params=payload, data=bn_data)\n",
    "assert_response_ok(data_response, \"Failed to add facts to data store.\")\n",
    "\n",
    "# Get rules\n",
    "rules_response = requests.post(rdfox_server + \"/datastores/default/content\", data=bn_rules)\n",
    "assert_response_ok(rules_response, \"Failed to add rule.\")\n",
    "\n",
    "# Get and issue select query\n",
    "with open(\"../queries/2_3-BlankNodesQuery.rq\", \"r\") as file:\n",
    "    bn_query = file.read()\n",
    "response = requests.get(\n",
    "    rdfox_server + \"/datastores/default/sparql\", params={\"query\": bn_query})\n",
    "assert_response_ok(response, \"Failed to run select query.\")\n",
    "print('\\n=== Average Bath Temperature Estimate Over Time ===')\n",
    "print(response.text)"
   ]
  },
  {
   "cell_type": "markdown",
   "metadata": {},
   "source": [
    "### Visualise the results\n",
    "\n",
    "Open this query in the [RDFox Explorer](http://localhost:12110/console/datastores/explore?datastore=default&query=SELECT%20%3FbathReadingEncoded%20%3Ftime%20%3FtemperatureEstimate%20%0AWHERE%20%7B%0A%20%20%20%20%3FbathReadingEncoded%20a%20%3ABathSummary%20%3B%0A%20%20%20%20%20%20%20%20%3AhasTimeStamp%20%3Ftime%20%3B%0A%20%20%20%20%20%20%20%20%3AhasTemperatureEstimate%20%3FtemperatureEstimate%20.%0A%7D%20ORDER%20BY%20ASC%28%3Ftime%29)."
   ]
  },
  {
   "cell_type": "markdown",
   "metadata": {},
   "source": [
    "## Reversing SKOLEM\n",
    "\n",
    "SKOLEM is a reversible process. Given a SKOLEMized node IRI, we can determine the resources that were used to create it.\n",
    "\n",
    "Here is a rule that unpicks the SKOLEM node we just created."
   ]
  },
  {
   "cell_type": "code",
   "execution_count": 17,
   "metadata": {},
   "outputs": [
    {
     "name": "stdout",
     "output_type": "stream",
     "text": [
      "\n",
      "============ SKOLEM reversed ============\n",
      "?SKOLEMNode\t?thing\n",
      "_:_.05U2Vuc29yR3JvdXAA.08AP7cDxc6AADoBwAAAAAAAACAAAAMGQwA\t\"2024-12-25T12:00:00\"^^<http://www.w3.org/2001/XMLSchema#dateTime>\n",
      "_:_.05U2Vuc29yR3JvdXAA.08AP7cDxc6AADoBwAAAAAAAACAAAAMGQwA\t\"SensorGroup\"\n",
      "_:_.05U2Vuc29yR3JvdXAA.08YOjdDxc6AADoBwAAAAAAAACAAAAMGQwB\t\"2024-12-25T12:01:00\"^^<http://www.w3.org/2001/XMLSchema#dateTime>\n",
      "_:_.05U2Vuc29yR3JvdXAA.08YOjdDxc6AADoBwAAAAAAAACAAAAMGQwB\t\"SensorGroup\"\n",
      "\n"
     ]
    }
   ],
   "source": [
    "sk_rules = \"\"\"\n",
    "    [?sting, :derivedFrom, ?bathReading],\n",
    "    [?time, :derivedFrom, ?bathReading] :-\n",
    "        [?bathReading, a, :BathSummary],\n",
    "        SKOLEM(?sting, ?time, ?bathReading) .\n",
    "\"\"\"\n",
    "\n",
    "sk_sparql = \"\"\"\n",
    "\n",
    "SELECT ?SKOLEMNode ?thing\n",
    "WHERE {\n",
    "    ?thing :derivedFrom ?SKOLEMNode .\n",
    "} ORDER BY ASC(?SKOLEMNode)\n",
    "\n",
    "\"\"\"\n",
    "\n",
    "# Add rule\n",
    "rules_response = requests.post(rdfox_server + \"/datastores/default/content\", data=sk_rules)\n",
    "assert_response_ok(rules_response, \"Failed to add rule.\")\n",
    "\n",
    "# Issue select query\n",
    "response = requests.get(\n",
    "    rdfox_server + \"/datastores/default/sparql\", params={\"query\": sk_sparql})\n",
    "assert_response_ok(response, \"Failed to run select query.\")\n",
    "print('\\n============ SKOLEM reversed ============')\n",
    "print(response.text)"
   ]
  },
  {
   "cell_type": "code",
   "execution_count": 18,
   "metadata": {},
   "outputs": [],
   "source": [
    "# Clear rules from the data store\n",
    "clear_response = requests.delete(\n",
    "    rdfox_server + \"/datastores/default/content?rules=true\")\n",
    "assert_response_ok(clear_response, \"Failed to clear rules from data store.\")"
   ]
  },
  {
   "cell_type": "markdown",
   "metadata": {},
   "source": [
    "### MD5 Encoding\n",
    "\n",
    "Sometimes, the MD5 hash generator function is instead of SKOLEM to create an ID for a node.\n",
    "\n",
    "MD5 performs more efficiently than SKOLEM but has some drawbacks.\n",
    "\n",
    "Primarily, it is non-reversible and it is not strictly 1-1, so it is possible, albeit unlikely, to have two different inputs create the same output.\n",
    "\n",
    "Secondly, as a function, not a tuple table, the out of MD5 must be bound to a new variable, and it's input and output must be strings.\n",
    "\n",
    "`BIND ( MD5(\"stringIn\") AS ?stringOut )`"
   ]
  },
  {
   "cell_type": "markdown",
   "metadata": {},
   "source": [
    "## Where are blank nodes relevant?\n",
    "\n",
    "Blank nodes are incredibly versatile, allowing abstract representations of data to be added directly to the graph.\n",
    "\n",
    "As such, they can be used in almost any application, including:\n",
    "\n",
    "### Finance\n",
    "\n",
    "To generate objects that capture sprawling details such as in fraud chains, suspicious activity, or regulation breaches etc.\n",
    "\n",
    "### Iot & On-device\n",
    "\n",
    "To structure event data, surface high level system properties, catalog time-series events, etc.\n",
    "\n",
    "### Data Management\n",
    "\n",
    "To create useful structures from complex data, generate abstractions, etc."
   ]
  },
  {
   "cell_type": "markdown",
   "metadata": {},
   "source": [
    "## Exercise\n",
    "\n",
    "Complete the rule `blankNodesRules.dlog` in the `rules` folder to extend the function of the example to incorporate multiple baths, each with two sensors, as they change over time.\n",
    "\n",
    "### Hits & helpful resources\n",
    "\n",
    "[SKOLEM in RDFox](https://docs.oxfordsemantic.tech/tuple-tables.html#skolem)\n"
   ]
  },
  {
   "cell_type": "code",
   "execution_count": 22,
   "metadata": {},
   "outputs": [],
   "source": [
    "bn_sparql = \"\"\"\n",
    "\n",
    "SELECT ?bath ?time ?temperatureEstimate\n",
    "WHERE {\n",
    "    ?bathReading a :BathSummary ;\n",
    "        :locatedIn ?bath ;\n",
    "        :hasTimeStamp ?time ;\n",
    "        :hasTemperatureEstimate ?temperatureEstimate .\n",
    "} ORDER BY ASC(?bath) ASC(?time)\n",
    "\n",
    "\"\"\""
   ]
  },
  {
   "cell_type": "markdown",
   "metadata": {},
   "source": [
    "Here is a representative sample of the data in `2_3-BlankNodesData.ttl`."
   ]
  },
  {
   "cell_type": "code",
   "execution_count": 23,
   "metadata": {},
   "outputs": [],
   "source": [
    "sample_data = \"\"\"\n",
    "@prefix : <https://rdfox.com/example#> .\n",
    "@prefix xsd: <http://www.w3.org/2001/XMLSchema#> .\n",
    "\n",
    ":bathAlpha a :Bath .\n",
    "\n",
    ":sensorA a :Sensor ;\n",
    "    :locatedIn :bathAlpha .\n",
    "\n",
    ":sensorB a :Sensor ;\n",
    "    :locatedIn :bathAlpha.\n",
    "\n",
    ":readingA001 a :SensorReading ;\n",
    "    :fromSensor :sensorA ;\n",
    "    :hasTemperature 18 ;\n",
    "    :hasTimeStamp \"2024-12-25T12:00:00\"^^xsd:dateTime .\n",
    "\n",
    ":readingB001 a :SensorReading ;\n",
    "    :fromSensor :sensorB ;\n",
    "    :hasTemperature 20 ;\n",
    "    :hasTimeStamp \"2024-12-25T12:00:00\"^^xsd:dateTime .\n",
    "\n",
    "\"\"\""
   ]
  },
  {
   "cell_type": "markdown",
   "metadata": {},
   "source": [
    "### Check your work\n",
    "\n",
    "Run the query below to verify the results."
   ]
  },
  {
   "cell_type": "code",
   "execution_count": 25,
   "metadata": {},
   "outputs": [
    {
     "name": "stdout",
     "output_type": "stream",
     "text": [
      "\n",
      "=== Bath temperature over time ===\n",
      "?bath\t?time\t?temperatureEstimate\n",
      "<https://rdfox.com/example#bathAlpha>\t\"2025-12-25T00:00:00\"^^<http://www.w3.org/2001/XMLSchema#dateTime>\t16.0\n",
      "<https://rdfox.com/example#bathAlpha>\t\"2025-12-25T02:00:00\"^^<http://www.w3.org/2001/XMLSchema#dateTime>\t16.5\n",
      "<https://rdfox.com/example#bathAlpha>\t\"2025-12-25T04:00:00\"^^<http://www.w3.org/2001/XMLSchema#dateTime>\t17.5\n",
      "<https://rdfox.com/example#bathAlpha>\t\"2025-12-25T06:00:00\"^^<http://www.w3.org/2001/XMLSchema#dateTime>\t19.0\n",
      "<https://rdfox.com/example#bathAlpha>\t\"2025-12-25T08:00:00\"^^<http://www.w3.org/2001/XMLSchema#dateTime>\t20.0\n",
      "<https://rdfox.com/example#bathAlpha>\t\"2025-12-25T10:00:00\"^^<http://www.w3.org/2001/XMLSchema#dateTime>\t22.0\n",
      "<https://rdfox.com/example#bathAlpha>\t\"2025-12-25T12:00:00\"^^<http://www.w3.org/2001/XMLSchema#dateTime>\t23.5\n",
      "<https://rdfox.com/example#bathAlpha>\t\"2025-12-25T14:00:00\"^^<http://www.w3.org/2001/XMLSchema#dateTime>\t23.5\n",
      "<https://rdfox.com/example#bathAlpha>\t\"2025-12-25T16:00:00\"^^<http://www.w3.org/2001/XMLSchema#dateTime>\t24.0\n",
      "<https://rdfox.com/example#bathAlpha>\t\"2025-12-25T18:00:00\"^^<http://www.w3.org/2001/XMLSchema#dateTime>\t23.5\n",
      "<https://rdfox.com/example#bathAlpha>\t\"2025-12-25T20:00:00\"^^<http://www.w3.org/2001/XMLSchema#dateTime>\t24.5\n",
      "<https://rdfox.com/example#bathAlpha>\t\"2025-12-25T22:00:00\"^^<http://www.w3.org/2001/XMLSchema#dateTime>\t24.0\n",
      "<https://rdfox.com/example#bathBeta>\t\"2025-12-25T00:00:00\"^^<http://www.w3.org/2001/XMLSchema#dateTime>\t16.0\n",
      "<https://rdfox.com/example#bathBeta>\t\"2025-12-25T02:00:00\"^^<http://www.w3.org/2001/XMLSchema#dateTime>\t16.0\n",
      "<https://rdfox.com/example#bathBeta>\t\"2025-12-25T04:00:00\"^^<http://www.w3.org/2001/XMLSchema#dateTime>\t16.5\n",
      "<https://rdfox.com/example#bathBeta>\t\"2025-12-25T06:00:00\"^^<http://www.w3.org/2001/XMLSchema#dateTime>\t16.5\n",
      "<https://rdfox.com/example#bathBeta>\t\"2025-12-25T08:00:00\"^^<http://www.w3.org/2001/XMLSchema#dateTime>\t17.5\n",
      "<https://rdfox.com/example#bathBeta>\t\"2025-12-25T10:00:00\"^^<http://www.w3.org/2001/XMLSchema#dateTime>\t19.5\n",
      "<https://rdfox.com/example#bathBeta>\t\"2025-12-25T12:00:00\"^^<http://www.w3.org/2001/XMLSchema#dateTime>\t20.5\n",
      "<https://rdfox.com/example#bathBeta>\t\"2025-12-25T14:00:00\"^^<http://www.w3.org/2001/XMLSchema#dateTime>\t21.5\n",
      "<https://rdfox.com/example#bathBeta>\t\"2025-12-25T16:00:00\"^^<http://www.w3.org/2001/XMLSchema#dateTime>\t22.5\n",
      "<https://rdfox.com/example#bathBeta>\t\"2025-12-25T18:00:00\"^^<http://www.w3.org/2001/XMLSchema#dateTime>\t23.5\n",
      "<https://rdfox.com/example#bathBeta>\t\"2025-12-25T20:00:00\"^^<http://www.w3.org/2001/XMLSchema#dateTime>\t24.5\n",
      "<https://rdfox.com/example#bathBeta>\t\"2025-12-25T22:00:00\"^^<http://www.w3.org/2001/XMLSchema#dateTime>\t25.5\n",
      "<https://rdfox.com/example#bathGamma>\t\"2025-12-25T00:00:00\"^^<http://www.w3.org/2001/XMLSchema#dateTime>\t15.5\n",
      "<https://rdfox.com/example#bathGamma>\t\"2025-12-25T02:00:00\"^^<http://www.w3.org/2001/XMLSchema#dateTime>\t16.5\n",
      "<https://rdfox.com/example#bathGamma>\t\"2025-12-25T04:00:00\"^^<http://www.w3.org/2001/XMLSchema#dateTime>\t17.5\n",
      "<https://rdfox.com/example#bathGamma>\t\"2025-12-25T06:00:00\"^^<http://www.w3.org/2001/XMLSchema#dateTime>\t19.5\n",
      "<https://rdfox.com/example#bathGamma>\t\"2025-12-25T08:00:00\"^^<http://www.w3.org/2001/XMLSchema#dateTime>\t19.5\n",
      "<https://rdfox.com/example#bathGamma>\t\"2025-12-25T10:00:00\"^^<http://www.w3.org/2001/XMLSchema#dateTime>\t20.0\n",
      "<https://rdfox.com/example#bathGamma>\t\"2025-12-25T12:00:00\"^^<http://www.w3.org/2001/XMLSchema#dateTime>\t21.0\n",
      "<https://rdfox.com/example#bathGamma>\t\"2025-12-25T14:00:00\"^^<http://www.w3.org/2001/XMLSchema#dateTime>\t23.0\n",
      "<https://rdfox.com/example#bathGamma>\t\"2025-12-25T16:00:00\"^^<http://www.w3.org/2001/XMLSchema#dateTime>\t23.5\n",
      "<https://rdfox.com/example#bathGamma>\t\"2025-12-25T18:00:00\"^^<http://www.w3.org/2001/XMLSchema#dateTime>\t24.5\n",
      "<https://rdfox.com/example#bathGamma>\t\"2025-12-25T20:00:00\"^^<http://www.w3.org/2001/XMLSchema#dateTime>\t26.5\n",
      "<https://rdfox.com/example#bathGamma>\t\"2025-12-25T22:00:00\"^^<http://www.w3.org/2001/XMLSchema#dateTime>\t26.0\n",
      "\n"
     ]
    }
   ],
   "source": [
    "# Clear data store\n",
    "clear_response = requests.delete(\n",
    "    rdfox_server + \"/datastores/default/content?facts=true&axioms&rules\")\n",
    "assert_response_ok(clear_response, \"Failed to clear data store.\")\n",
    "\n",
    "# Get and add data\n",
    "with open(\"../data/2_3-BlankNodesData.ttl\", \"r\") as file:\n",
    "    bn_data = file.read()\n",
    "payload = {'operation': 'add-content-update-prefixes'}\n",
    "data_response = requests.patch(\n",
    "    rdfox_server + \"/datastores/default/content\", params=payload, data=bn_data)\n",
    "assert_response_ok(data_response, \"Failed to add facts to data store.\")\n",
    "\n",
    "# Get and add rules\n",
    "with open(\"../rules/2_3-BlankNodesRules.dlog\", \"r\") as file:\n",
    "    bn_rules = file.read()\n",
    "rules_response = requests.post(rdfox_server + \"/datastores/default/content\", data=bn_rules)\n",
    "assert_response_ok(rules_response, \"Failed to add rule.\")\n",
    "\n",
    "# Issue select query\n",
    "response = requests.get(\n",
    "    rdfox_server + \"/datastores/default/sparql\", params={\"query\": bn_sparql})\n",
    "assert_response_ok(response, \"Failed to run select query.\")\n",
    "print('\\n=== Bath temperature over time ===')\n",
    "print(response.text)"
   ]
  },
  {
   "cell_type": "markdown",
   "metadata": {},
   "source": [
    "## You should see...\n",
    "\n",
    "=== Bath temperature over time ===\n",
    "|?bath|?time|?temperatureEstimate|\n",
    "|-----------|-------------|-------------|\n",
    "|<https://rdfox.com/example#bathAlpha>|\t\"2025-12-25T00:00:00\"^^<http://www.w3.org/2001/XMLSchema#dateTime>|\t16.0|\n",
    "|<https://rdfox.com/example#bathAlpha>|\t\"2025-12-25T02:00:00\"^^<http://www.w3.org/2001/XMLSchema#dateTime>|\t16.5|\n",
    "|<https://rdfox.com/example#bathAlpha>|\t\"2025-12-25T04:00:00\"^^<http://www.w3.org/2001/XMLSchema#dateTime>|\t17.5|\n",
    "|<https://rdfox.com/example#bathAlpha>|\t\"2025-12-25T06:00:00\"^^<http://www.w3.org/2001/XMLSchema#dateTime>|\t19.0|\n",
    "|<https://rdfox.com/example#bathAlpha>|\t\"2025-12-25T08:00:00\"^^<http://www.w3.org/2001/XMLSchema#dateTime>|\t20.0|\n",
    "|<https://rdfox.com/example#bathAlpha>|\t\"2025-12-25T10:00:00\"^^<http://www.w3.org/2001/XMLSchema#dateTime>|\t22.0|\n",
    "|<https://rdfox.com/example#bathAlpha>|\t\"2025-12-25T12:00:00\"^^<http://www.w3.org/2001/XMLSchema#dateTime>|\t23.5|\n",
    "|<https://rdfox.com/example#bathAlpha>|\t\"2025-12-25T14:00:00\"^^<http://www.w3.org/2001/XMLSchema#dateTime>|\t23.5|\n",
    "|<https://rdfox.com/example#bathAlpha>|\t\"2025-12-25T16:00:00\"^^<http://www.w3.org/2001/XMLSchema#dateTime>|\t24.0|\n",
    "|<https://rdfox.com/example#bathAlpha>|\t\"2025-12-25T18:00:00\"^^<http://www.w3.org/2001/XMLSchema#dateTime>|\t23.5|\n",
    "|<https://rdfox.com/example#bathAlpha>|\t\"2025-12-25T20:00:00\"^^<http://www.w3.org/2001/XMLSchema#dateTime>|\t24.5|\n",
    "|<https://rdfox.com/example#bathAlpha>|\t\"2025-12-25T22:00:00\"^^<http://www.w3.org/2001/XMLSchema#dateTime>|\t24.0|\n",
    "|<https://rdfox.com/example#bathBeta>|\t\"2025-12-25T00:00:00\"^^<http://www.w3.org/2001/XMLSchema#dateTime>|\t16.0|\n",
    "|<https://rdfox.com/example#bathBeta>|\t\"2025-12-25T02:00:00\"^^<http://www.w3.org/2001/XMLSchema#dateTime>|\t16.0|\n",
    "|<https://rdfox.com/example#bathBeta>|\t\"2025-12-25T04:00:00\"^^<http://www.w3.org/2001/XMLSchema#dateTime>|\t16.5|\n",
    "|<https://rdfox.com/example#bathBeta>|\t\"2025-12-25T06:00:00\"^^<http://www.w3.org/2001/XMLSchema#dateTime>|\t16.5|\n",
    "|<https://rdfox.com/example#bathBeta>|\t\"2025-12-25T08:00:00\"^^<http://www.w3.org/2001/XMLSchema#dateTime>|\t17.5|\n",
    "|<https://rdfox.com/example#bathBeta>|\t\"2025-12-25T10:00:00\"^^<http://www.w3.org/2001/XMLSchema#dateTime>|\t19.5|\n",
    "|<https://rdfox.com/example#bathBeta>|\t\"2025-12-25T12:00:00\"^^<http://www.w3.org/2001/XMLSchema#dateTime>|\t20.5|\n",
    "|<https://rdfox.com/example#bathBeta>|\t\"2025-12-25T14:00:00\"^^<http://www.w3.org/2001/XMLSchema#dateTime>|\t21.5|\n",
    "|<https://rdfox.com/example#bathBeta>|\t\"2025-12-25T16:00:00\"^^<http://www.w3.org/2001/XMLSchema#dateTime>|\t22.5|\n",
    "|<https://rdfox.com/example#bathBeta>|\t\"2025-12-25T18:00:00\"^^<http://www.w3.org/2001/XMLSchema#dateTime>|\t23.5|\n",
    "|...|||\n",
    "|<https://rdfox.com/example#bathGamma>|\t\"2025-12-25T18:00:00\"^^<http://www.w3.org/2001/XMLSchema#dateTime>|\t24.5|\n",
    "|<https://rdfox.com/example#bathGamma>|\t\"2025-12-25T20:00:00\"^^<http://www.w3.org/2001/XMLSchema#dateTime>|\t26.5|\n",
    "|<https://rdfox.com/example#bathGamma>|\t\"2025-12-25T22:00:00\"^^<http://www.w3.org/2001/XMLSchema#dateTime>|\t26.0|"
   ]
  }
 ],
 "metadata": {
  "kernelspec": {
   "display_name": "venv",
   "language": "python",
   "name": "python3"
  },
  "language_info": {
   "codemirror_mode": {
    "name": "ipython",
    "version": 3
   },
   "file_extension": ".py",
   "mimetype": "text/x-python",
   "name": "python",
   "nbconvert_exporter": "python",
   "pygments_lexer": "ipython3",
   "version": "3.12.0"
  }
 },
 "nbformat": 4,
 "nbformat_minor": 2
}
