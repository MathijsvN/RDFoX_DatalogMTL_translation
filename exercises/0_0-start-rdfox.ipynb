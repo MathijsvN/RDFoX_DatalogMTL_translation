{
 "cells": [
  {
   "cell_type": "markdown",
   "metadata": {},
   "source": [
    "# Starting RDFox #\n",
    "\n",
    "To run RDFox, enter your RDFox.exe filepath below. \\\n",
    "\\\n",
    "E.g. \\\n",
    "` /Users/Thomas/Desktop/RDFox/RDFox-macOS-arm64-7.2/RDFox `"
   ]
  },
  {
   "cell_type": "code",
   "execution_count": null,
   "metadata": {
    "vscode": {
     "languageId": "shellscript"
    }
   },
   "outputs": [
    {
     "name": "stdout",
     "output_type": "stream",
     "text": [
      "Source code for RDFox v1.0 Copyright 2013 Oxford University Innovation Limited and subsequent improvements Copyright 2017-2024 by Oxford Semantic Technologies Limited.\n",
      "\n",
      "This system is equipped with 8.5 GB of RAM, and RDFox is configured to use at most 7.7 GB (89.9% of the total).\n",
      "Currently, 79.0 MB (1.0% of the amount allocated to RDFox) appear to be available on the system.\n",
      "Since RDFox is a RAM-based system, its performance can suffer when other running processes use a lot of memory.\n",
      "\n",
      "Access control has been initialized by creating the first role with name \"guest\".\n",
      "This copy of RDFox is licensed for Developer use to Tom Vout (tom.vout@oxfordsemantic.tech) of OST until 24-May-2025 01:00:00.\n",
      "\n",
      "A new server connection was opened as role 'guest' and stored with name 'sc1'.\n",
      "The REST endpoint was successfully started at port number/service name 12110 with 8 threads.\n",
      "WARNING: The RDFox endpoint is running with no transport layer security (TLS). This could allow attackers to steal\n",
      "         information including role passwords or authorization tokens. See the endpoint.channel variable and related\n",
      "         variables in the description of the RDFox endpoint for details of how to set up TLS.\n",
      "\n",
      "A new data store 'default' was created and initialized.\n",
      "Adding data in file '../data/data.ttl'.\n",
      "Import operation took 0.002 s.\n",
      "Processed 1 fact, of which 1 was updated.\n",
      "> "
     ]
    }
   ],
   "source": [
    "! /Users/Thomas/Desktop/RDFox/RDFox-macOS-arm64-7.2/RDFox sandbox . ../start"
   ]
  }
 ],
 "metadata": {
  "kernelspec": {
   "display_name": "venv",
   "language": "python",
   "name": "python3"
  },
  "language_info": {
   "codemirror_mode": {
    "name": "ipython",
    "version": 3
   },
   "file_extension": ".py",
   "mimetype": "text/x-python",
   "name": "python",
   "nbconvert_exporter": "python",
   "pygments_lexer": "ipython3",
   "version": "3.12.0"
  }
 },
 "nbformat": 4,
 "nbformat_minor": 2
}
