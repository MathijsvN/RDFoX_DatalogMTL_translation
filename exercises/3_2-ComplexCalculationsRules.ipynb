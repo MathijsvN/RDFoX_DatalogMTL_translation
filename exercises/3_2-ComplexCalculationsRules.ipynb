{
 "cells": [
  {
   "cell_type": "markdown",
   "metadata": {},
   "source": [
    "# 3.2 Complex Calculations\n",
    "\n",
    "Reasoning can be used to perform complex calculations and analysis as `BIND` offers the flexibility to describing mathematical expressions using variables and in-build functions.\n",
    "\n",
    "Complex calculations often require complex patterns, so layering rules can helpful - referring to patterns in one rule that were created by others.\n",
    "\n",
    "This is very common in practice, not just in calculations, to construct intricate patterns over several rules - breaking the problem down into bit sized chunks.\n",
    "\n",
    "This can also greatly benefit the efficiency of reasoning - some common examples are explored throughout the workshop."
   ]
  },
  {
   "cell_type": "markdown",
   "metadata": {},
   "source": [
    "## Example\n",
    "\n",
    "Below is an example of how multiple rules can work together in order to calculate a result - in this case to perform Term Frequency analysis for articles with specific content tags in order to recommend similar articles.\n",
    "\n",
    "Our Term Frequency analysis assigns common terms a lower weighting than rare terms that receive a much higher weighting.\n",
    "\n",
    "When used to generate a recommendation, this is used to ensure common terms contribute less than specific terms that have a larger impact.\n",
    "\n",
    "A node is created between two articles, calculating a similarity score based on shared weighted tags."
   ]
  },
  {
   "cell_type": "code",
   "execution_count": 1,
   "metadata": {},
   "outputs": [],
   "source": [
    "cal_data = \"\"\"\n",
    "@prefix : <https://rdfox.com/example#> .\n",
    "\n",
    ":article1 a :Article ;\n",
    "        :hasTag :AI ,\n",
    "                :semanticReasoning .\n",
    "\n",
    ":article2 a :Article ;\n",
    "        :hasTag :semanticReasoning .\n",
    "\n",
    ":article3 a :Article ;\n",
    "        :hasTag :AI .\n",
    "\n",
    ":article4 a :Article ;\n",
    "        :hasTag :AI .\n",
    "\n",
    "\"\"\""
   ]
  },
  {
   "cell_type": "code",
   "execution_count": 2,
   "metadata": {},
   "outputs": [],
   "source": [
    "cal_rules = \"\"\"\n",
    "\n",
    "[?tag, :hasLogFrequency, ?termLogFrequency] :-\n",
    "    AGGREGATE (\n",
    "        [?article, :hasTag, ?tag]\n",
    "        ON ?tag\n",
    "        BIND COUNT(?article) AS ?totalTagMentions\n",
    "    ),\n",
    "    BIND (LOG(1/?totalTagMentions) AS ?termLogFrequency) .\n",
    "\n",
    "[?recommendationNode, :hasRecommendedArticle, ?article1],\n",
    "[?recommendationNode, :hasRecommendedArticle, ?article2],\n",
    "[?recommendationNode, :pairHasSimilarityScore, ?similarityScore] :-\n",
    "    AGGREGATE(\n",
    "        [?article1, :hasTag, ?tag],\n",
    "        [?article2, :hasTag, ?tag],\n",
    "        [?tag, :hasLogFrequency, ?termLogFrequency]\n",
    "        ON ?article1 ?article2\n",
    "        BIND SUM(-1/?termLogFrequency) AS ?similarityScore\n",
    "    ),\n",
    "    SKOLEM(?article1,?article2,?recommendationNode),\n",
    "    FILTER (?article1 > ?article2) .\n",
    "\n",
    "\"\"\""
   ]
  },
  {
   "cell_type": "code",
   "execution_count": 3,
   "metadata": {},
   "outputs": [
    {
     "name": "stdout",
     "output_type": "stream",
     "text": [
      "\n",
      "=== Similar Articles ===\n",
      "?article1\t?article2\t?similarityScore\n",
      "<https://rdfox.com/example#article1>\t<https://rdfox.com/example#article2>\t1.4426950408889634e+0\n",
      "<https://rdfox.com/example#article1>\t<https://rdfox.com/example#article4>\t9.1023922662683732e-1\n",
      "<https://rdfox.com/example#article1>\t<https://rdfox.com/example#article3>\t9.1023922662683732e-1\n",
      "<https://rdfox.com/example#article3>\t<https://rdfox.com/example#article4>\t9.1023922662683732e-1\n",
      "\n"
     ]
    }
   ],
   "source": [
    "import requests\n",
    "\n",
    "# Set up the SPARQL endpoint\n",
    "rdfox_server = \"http://localhost:12110\"\n",
    "\n",
    "# Helper function to raise exception if the REST endpoint returns an unexpected status code\n",
    "def assert_response_ok(response, message):\n",
    "    if not response.ok:\n",
    "        raise Exception(\n",
    "            message + \"\\nStatus received={}\\n{}\".format(response.status_code, response.text))\n",
    "\n",
    "# Clear data store\n",
    "clear_response = requests.delete(\n",
    "    rdfox_server + \"/datastores/default/content?facts=true&axioms&rules\")\n",
    "assert_response_ok(clear_response, \"Failed to clear data store.\")\n",
    "\n",
    "# Add data\n",
    "payload = {'operation': 'add-content-update-prefixes'}\n",
    "data_response = requests.patch(\n",
    "    rdfox_server + \"/datastores/default/content\", params=payload, data=cal_data)\n",
    "assert_response_ok(data_response, \"Failed to add facts to data store.\")\n",
    "\n",
    "# Get rules\n",
    "rules_response = requests.post(rdfox_server + \"/datastores/default/content\", data=cal_rules)\n",
    "assert_response_ok(rules_response, \"Failed to add rule.\")\n",
    "\n",
    "# Get and issue select query\n",
    "with open(\"../queries/3_2-ComplexCalculationsQuery.rq\", \"r\") as file:\n",
    "    cal_query = file.read()\n",
    "response = requests.get(\n",
    "    rdfox_server + \"/datastores/default/sparql\", params={\"query\": cal_query})\n",
    "assert_response_ok(response, \"Failed to run select query.\")\n",
    "print('\\n=== Similar Articles ===')\n",
    "print(response.text) \n"
   ]
  },
  {
   "cell_type": "markdown",
   "metadata": {},
   "source": [
    "## info rulestats\n",
    "\n",
    "Run `info rulestats` in the RDFox shell to show information about the rules in your data store.\n",
    "\n",
    "For this example, so far, you will see:\n",
    "\n",
    "=================== RULES STATISTICS =====================\n",
    "|Component|    Nonrecursive rules|    Recursive rules|    Total rules|\n",
    "|---------|----------------------|-------------------|---------------|\n",
    "|        1|                     1|                  0|              1|\n",
    "|        2|                     1|                  0|              1|\n",
    "|Total:|                        2|                  0|              2|\n",
    "\n",
    "We have imported two rules above, so the total rules is 2.\n",
    "\n",
    "Both are non-recursive (see 3.3 for recursion) which is also reflected in the table.\n",
    "\n",
    "Since one rule depends on the other, we end up with 2 components (layers, or strata)\n",
    "\n",
    "This can be a great launching point for debugging rules, particularly if the values shown are not what you expect.\n",
    "\n",
    "Find out more about the `info` command in the docs [here](https://docs.oxfordsemantic.tech/rdfox-shell.html#info)."
   ]
  },
  {
   "cell_type": "markdown",
   "metadata": {},
   "source": [
    "## Overly complex rules\n",
    "\n",
    "It can be tempting to write huge rules that match sprawling patterns and infer many heads at once, but this can be deeply inefficient.\n",
    "\n",
    "Rules should be streamlined, only considering the minimum number of body atoms required to infer the relevant head facts, otherwise computation will be spent matching irrelevant body patterns for some head atoms.\n",
    "\n",
    "This often means splitting large rules into several parts.\n",
    "\n",
    "Take these rules for examples:"
   ]
  },
  {
   "cell_type": "code",
   "execution_count": 4,
   "metadata": {},
   "outputs": [],
   "source": [
    "# In profiler/3_2-1.dlog\n",
    "combo_rule = \"\"\"\n",
    "\n",
    "# There is no relation between the atoms involving ?a and ?x\n",
    "[?a, :hasNewProp, \"new prop\"],\n",
    "[?x, a, :newClass] :-\n",
    "    [?a, :hasProp, \"prop\" ],\n",
    "    [?x, a, :Class ].\n",
    "\n",
    "\"\"\"\n",
    "\n",
    "# In profiler/3_2-2.dlog\n",
    "separate_rules = \"\"\"\n",
    "\n",
    "[?a, :hasNewProp, \"new prop\"]:-\n",
    "    [?a, :hasProp, \"prop\" ].\n",
    "\n",
    "[?x, a, :newClass] :-\n",
    "    [?x, a, :Class ].\n",
    "\n",
    "\n",
    "\"\"\""
   ]
  },
  {
   "cell_type": "markdown",
   "metadata": {},
   "source": [
    "Run the cell below and then, in the RDFox shell, import the combo rule:\n",
    "\n",
    "`import profiler/3_2-1.dlog`\n",
    "\n",
    "Notice that the reasoning profiles undergoes 6 iterator operations. This is because the combo rule creates a cross product of patterns that it must check to infer each head atom, despite being unrelated.\n",
    "\n",
    "Then **run the cell below again** to clear the rules and, in the RDFox shell, import the separated rules:\n",
    "\n",
    "`import profiler/3_2-2.dlog`\n",
    "\n",
    "This time, notice that even though there are more rules imported, the rules only require 2 iterator operations each, for a total of 4.\n",
    "\n",
    "### A problem of scale\n",
    "\n",
    "While 6 iterations rather than 4 is almost invisible, this problem scales poorly with the number of triples and complexity of the rule and can cause drastic rules slowdowns."
   ]
  },
  {
   "cell_type": "code",
   "execution_count": 6,
   "metadata": {},
   "outputs": [
    {
     "name": "stdout",
     "output_type": "stream",
     "text": [
      "<Response [200]>\n"
     ]
    }
   ],
   "source": [
    "profiler_data = \"\"\"\n",
    "    @prefix : <https://rdfox.com/example/> .\n",
    "\n",
    "    :a :hasProp \"prop\" .\n",
    "\n",
    "    :x a :Class .\n",
    "    \n",
    "\"\"\"\n",
    "\n",
    "# Clear data store\n",
    "clear_response = requests.delete(\n",
    "    rdfox_server + \"/datastores/default/content?facts=true&axioms&rules\")\n",
    "assert_response_ok(clear_response, \"Failed to clear data store.\")\n",
    "\n",
    "# Add data\n",
    "payload = {'operation': 'add-content-update-prefixes'}\n",
    "data_response = requests.patch(\n",
    "    rdfox_server + \"/datastores/default/content\", params=payload, data=profiler_data)\n",
    "assert_response_ok(data_response, \"Failed to add facts to data store.\")\n",
    "\n",
    "print(data_response)"
   ]
  },
  {
   "cell_type": "markdown",
   "metadata": {},
   "source": [
    "## Exercise\n",
    "\n",
    "Complete the rule `3_2-ComplexCalculationsRules.dlog` in the `rules` folder so that the query below will return the percentage of articles each tag appears in, rounded to the nearest percentage point.\n",
    "\n",
    "### Hits & helpful resources\n",
    "\n",
    "[Mathematical functions in RDFox](https://docs.oxfordsemantic.tech/querying.html#mathematical-functions)"
   ]
  },
  {
   "cell_type": "code",
   "execution_count": 43,
   "metadata": {},
   "outputs": [],
   "source": [
    "cal_sparql = \"\"\"\n",
    "\n",
    "SELECT ?percentage ?tag\n",
    "WHERE {\n",
    "    ?tag :mentionedInPercentageOfArticles ?percentage .\n",
    "    FILTER (?percentage > 1)\n",
    "} ORDER BY DESC (?percentage)\n",
    "\n",
    "\"\"\""
   ]
  },
  {
   "cell_type": "markdown",
   "metadata": {},
   "source": [
    "Here is a representative sample of the data in `3_2-ComplexCalculationsData.ttl`."
   ]
  },
  {
   "cell_type": "code",
   "execution_count": 44,
   "metadata": {},
   "outputs": [],
   "source": [
    "sample_data = \"\"\"\n",
    "@prefix : <https://rdfox.com/example#> .\n",
    "\n",
    ":blogA :containsArticle :article001,\n",
    "                :article002 .\n",
    "\n",
    ":article001 a :Article ;\n",
    "        :hasTag :AI ,\n",
    "                :semanticReasoning .\n",
    "\n",
    "\"\"\""
   ]
  },
  {
   "cell_type": "code",
   "execution_count": 46,
   "metadata": {},
   "outputs": [
    {
     "name": "stdout",
     "output_type": "stream",
     "text": [
      "\n",
      "=== Primary Assets Transitive Dependencies ===\n",
      "?percentage\t?tag\n",
      "16.0\t<https://rdfox.com/example#SemanticReasoning>\n",
      "14.0\t<https://rdfox.com/example#Technology>\n",
      "12.0\t<https://rdfox.com/example#KnowledgeRepresentation>\n",
      "10.0\t<https://rdfox.com/example#RDFox>\n",
      "8.0\t<https://rdfox.com/example#Datalog>\n",
      "7.0\t<https://rdfox.com/example#LLMs>\n",
      "7.0\t<https://rdfox.com/example#AI>\n",
      "\n"
     ]
    }
   ],
   "source": [
    "# Clear data store\n",
    "clear_response = requests.delete(\n",
    "    rdfox_server + \"/datastores/default/content?facts=true&axioms&rules\")\n",
    "assert_response_ok(clear_response, \"Failed to clear data store.\")\n",
    "\n",
    "# Get and add data\n",
    "with open(\"../data/3_2-ComplexCalculationsData.ttl\", \"r\") as file:\n",
    "    cal_data = file.read()\n",
    "payload = {'operation': 'add-content-update-prefixes'}\n",
    "data_response = requests.patch(\n",
    "    rdfox_server + \"/datastores/default/content\", params=payload, data=cal_data)\n",
    "assert_response_ok(data_response, \"Failed to add facts to data store.\")\n",
    "\n",
    "# Get and add rules\n",
    "with open(\"../rules/3_2-ComplexCalculationsRules.dlog\", \"r\") as file:\n",
    "    cal_rules = file.read()\n",
    "rules_response = requests.post(rdfox_server + \"/datastores/default/content\", data=cal_rules)\n",
    "assert_response_ok(rules_response, \"Failed to add rule.\")\n",
    "\n",
    "# Issue select query\n",
    "response = requests.get(\n",
    "    rdfox_server + \"/datastores/default/sparql\", params={\"query\": cal_sparql})\n",
    "assert_response_ok(response, \"Failed to run select query.\")\n",
    "print('\\n=== Percentage of articles mentioning tags ===')\n",
    "print(response.text)"
   ]
  },
  {
   "cell_type": "markdown",
   "metadata": {},
   "source": [
    "## You should see...\n",
    "\n",
    "=== Percentage of articles mentioning tags ===\n",
    "|?percentage|?tag|\n",
    "|-----------|-------------|\n",
    "|16.0|\t<https://rdfox.com/example#SemanticReasoning>|\n",
    "|14.0|\t<https://rdfox.com/example#Technology>|\n",
    "|12.0|\t<https://rdfox.com/example#KnowledgeRepresentation>|\n",
    "|10.0|\t<https://rdfox.com/example#RDFox>|\n",
    "|8.0|\t<https://rdfox.com/example#Datalog>|\n",
    "|7.0|\t<https://rdfox.com/example#LLMs>|\n",
    "|7.0|\t<https://rdfox.com/example#AI>|"
   ]
  },
  {
   "cell_type": "markdown",
   "metadata": {},
   "source": [
    "## BONUS: Transactions\n",
    "\n",
    "A transaction is the window in which RDFox performs one or several read and/or write operations, ending when the operations are totally complete and the data store is self-consistent.\n",
    "\n",
    "Without specifying otherwise, a transaction will be created when any command is executed and will automatically close when its function has been achieved.\n",
    "\n",
    "However, transactions can be manually opened with `begin` and closed with `commit` or `rollback` depending on whether the results of the transaction should be committed or discarded.\n",
    "\n",
    "Multiple rule files can be imported in one transaction. This can be much more efficient if the rules interact with one another as RDFox computes an optimized order in which to import the rules.\n",
    "\n",
    "Eg.\n",
    "\n",
    "`begin`\\\n",
    "`import rule1.dlog`\\\n",
    "`import rule2.dlog`\\\n",
    "`commit`"
   ]
  }
 ],
 "metadata": {
  "kernelspec": {
   "display_name": "venv",
   "language": "python",
   "name": "python3"
  },
  "language_info": {
   "codemirror_mode": {
    "name": "ipython",
    "version": 3
   },
   "file_extension": ".py",
   "mimetype": "text/x-python",
   "name": "python",
   "nbconvert_exporter": "python",
   "pygments_lexer": "ipython3",
   "version": "3.12.0"
  }
 },
 "nbformat": 4,
 "nbformat_minor": 2
}
