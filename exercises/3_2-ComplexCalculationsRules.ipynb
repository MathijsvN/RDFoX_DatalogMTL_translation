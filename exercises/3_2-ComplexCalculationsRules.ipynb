{
 "cells": [
  {
   "cell_type": "markdown",
   "metadata": {},
   "source": [
    "# 3.2 Complex Calculations\n",
    "\n",
    "Reasoning can be used to perform complex calculations and analysis as `BIND` offers the flexibility to describing mathematical expressions using variables and in-build functions.\n",
    "\n",
    "Complex calculations often require complex patterns, so layering rules can helpful - referring to patterns in one rule that were created by others.\n",
    "\n",
    "This is very common in practice, not just in calculations, to construct intricate patterns over several rules - breaking the problem down into bit sized chunks.\n",
    "\n",
    "This can also greatly benefit the efficiency of reasoning - some common examples are explored throughout the workshop."
   ]
  },
  {
   "cell_type": "markdown",
   "metadata": {},
   "source": [
    "## Example\n",
    "\n",
    "Below is an example of how multiple rules can work together in order to calculate a result - in this case to perform Term Frequency analysis for articles with specific content tags in order to recommend similar articles.\n",
    "\n",
    "Our Term Frequency analysis assigns common terms a lower weighting than rare terms that receive a much higher weighting.\n",
    "\n",
    "When used to generate a recommendation, this is used to ensure common terms contribute less than specific terms that have a larger impact.\n",
    "\n",
    "A node is created between two articles, calculating a similarity score based on shared weighted tags."
   ]
  },
  {
   "cell_type": "code",
   "execution_count": 4,
   "metadata": {},
   "outputs": [],
   "source": [
    "cal_data = \"\"\"\n",
    "@prefix : <https://rdfox.com/example#> .\n",
    "\n",
    ":article1 a :Article ;\n",
    "        :hasTag :AI ,\n",
    "                :semanticReasoning .\n",
    "\n",
    ":article2 a :Article ;\n",
    "        :hasTag :semanticReasoning .\n",
    "\n",
    ":article3 a :Article ;\n",
    "        :hasTag :AI .\n",
    "\n",
    ":article4 a :Article ;\n",
    "        :hasTag :AI .\n",
    "\n",
    "\"\"\""
   ]
  },
  {
   "cell_type": "code",
   "execution_count": 5,
   "metadata": {},
   "outputs": [],
   "source": [
    "cal_rules = \"\"\"\n",
    "\n",
    "[?tag, :hasLogFrequency, ?termLogFrequency] :-\n",
    "    AGGREGATE (\n",
    "        [?article, :hasTag, ?tag]\n",
    "        ON ?tag\n",
    "        BIND COUNT(?article) AS ?totalTagMentions\n",
    "    ),\n",
    "    BIND (LOG(1/?totalTagMentions) AS ?termLogFrequency) .\n",
    "\n",
    "[?recommendationNode, :hasRecommendedArticle, ?article1],\n",
    "[?recommendationNode, :hasRecommendedArticle, ?article2],\n",
    "[?recommendationNode, :pairHasSimilarityScore, ?similarityScore] :-\n",
    "    AGGREGATE(\n",
    "        [?article1, :hasTag, ?tag],\n",
    "        [?article2, :hasTag, ?tag],\n",
    "        [?tag, :hasLogFrequency, ?termLogFrequency]\n",
    "        ON ?article1 ?article2\n",
    "        BIND SUM(-1/?termLogFrequency) AS ?similarityScore\n",
    "    ),\n",
    "    SKOLEM(?article1,?article2,?recommendationNode),\n",
    "    FILTER (?article1 > ?article2) .\n",
    "\n",
    "\"\"\""
   ]
  },
  {
   "cell_type": "code",
   "execution_count": 6,
   "metadata": {},
   "outputs": [
    {
     "name": "stdout",
     "output_type": "stream",
     "text": [
      "\n",
      "=== Similar Articles ===\n",
      "?article1\t?article2\t?similarityScore\n",
      "<https://rdfox.com/example#article1>\t<https://rdfox.com/example#article2>\t1.4426950408889634e+0\n",
      "<https://rdfox.com/example#article1>\t<https://rdfox.com/example#article4>\t9.1023922662683732e-1\n",
      "<https://rdfox.com/example#article1>\t<https://rdfox.com/example#article3>\t9.1023922662683732e-1\n",
      "<https://rdfox.com/example#article3>\t<https://rdfox.com/example#article4>\t9.1023922662683732e-1\n",
      "\n"
     ]
    }
   ],
   "source": [
    "import requests\n",
    "\n",
    "# Set up the SPARQL endpoint\n",
    "rdfox_server = \"http://localhost:12110\"\n",
    "\n",
    "# Helper function to raise exception if the REST endpoint returns an unexpected status code\n",
    "def assert_response_ok(response, message):\n",
    "    if not response.ok:\n",
    "        raise Exception(\n",
    "            message + \"\\nStatus received={}\\n{}\".format(response.status_code, response.text))\n",
    "\n",
    "# Clear data store\n",
    "clear_response = requests.delete(\n",
    "    rdfox_server + \"/datastores/default/content?facts=true&axioms&rules\")\n",
    "assert_response_ok(clear_response, \"Failed to clear data store.\")\n",
    "\n",
    "# Add data\n",
    "payload = {'operation': 'add-content-update-prefixes'}\n",
    "data_response = requests.patch(\n",
    "    rdfox_server + \"/datastores/default/content\", params=payload, data=cal_data)\n",
    "assert_response_ok(data_response, \"Failed to add facts to data store.\")\n",
    "\n",
    "# Get rules\n",
    "rules_response = requests.post(rdfox_server + \"/datastores/default/content\", data=cal_rules)\n",
    "assert_response_ok(rules_response, \"Failed to add rule.\")\n",
    "\n",
    "# Get and issue select query\n",
    "with open(\"../queries/3_2-ComplexCalculationsQuery.rq\", \"r\") as file:\n",
    "    cal_query = file.read()\n",
    "response = requests.get(\n",
    "    rdfox_server + \"/datastores/default/sparql\", params={\"query\": cal_query})\n",
    "assert_response_ok(response, \"Failed to run select query.\")\n",
    "print('\\n=== Similar Articles ===')\n",
    "print(response.text) \n"
   ]
  },
  {
   "cell_type": "markdown",
   "metadata": {},
   "source": [
    "## Transactions\n",
    "\n",
    "A transaction is the window in which RDFox performs one or several read and/or write operations, ending when the operations are totally complete and the data store is self-consistent.\n",
    "\n",
    "Without specifying otherwise, a transaction will be created when any command is executed and will automatically close when its function has been achieved.\n",
    "\n",
    "However, transactions can be manually opened with `begin` and closed with `commit` or `rollback` depending on whether the results of the transaction should be committed or discarded.\n",
    "\n",
    "Multiple rules can be imported in one transaction. This can be much more efficient if the rules interact with one another as RDFox computes an optimized order in which to import the rules.\n",
    "\n",
    "Eg.\n",
    "\n",
    "`begin`\\\n",
    "`import rule1.dlog`\\\n",
    "`import rule2.dlog`\\\n",
    "`commit`"
   ]
  }
 ],
 "metadata": {
  "kernelspec": {
   "display_name": "venv",
   "language": "python",
   "name": "python3"
  },
  "language_info": {
   "codemirror_mode": {
    "name": "ipython",
    "version": 3
   },
   "file_extension": ".py",
   "mimetype": "text/x-python",
   "name": "python",
   "nbconvert_exporter": "python",
   "pygments_lexer": "ipython3",
   "version": "3.12.0"
  }
 },
 "nbformat": 4,
 "nbformat_minor": 2
}
