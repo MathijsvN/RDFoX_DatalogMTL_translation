{
 "cells": [
  {
   "cell_type": "markdown",
   "metadata": {},
   "source": [
    "# 3.2 Complex Calculations\n",
    "\n",
    "Reasoning can be used to perform complex calculations and analysis as `BIND` offers the flexibility to describing mathematical expressions using variables and in-build functions.\n",
    "\n",
    "Complex calculations often require complex patterns, so rules can be layered - referring to patterns that were created by other rules that exist in the system.\n",
    "\n",
    "This is very common in practice, not just in calculations, to construct intricate patterns over several rules - breaking the problem down into bit sized chunks.\n",
    "\n",
    "This can also greatly benefit the efficiency of reasoning - some common examples are explored throughout the workshop."
   ]
  },
  {
   "cell_type": "markdown",
   "metadata": {},
   "source": [
    "## Example\n",
    "\n",
    "Below is an example of how multiple rules can work together in order to calculate a result - in this case to perform Term Frequency analysis for articles with specific content tags in order to recommend similar articles.\n",
    "\n",
    "Our Term Frequency analysis assigns common terms a lower weighting than rare terms that receive a much higher weighting.\n",
    "\n",
    "When used to generate a recommendation, this is used to ensure common terms contribute less than specific terms that have a larger impact."
   ]
  },
  {
   "cell_type": "code",
   "execution_count": null,
   "metadata": {},
   "outputs": [],
   "source": [
    "cal_data = \"\"\"\n",
    "@prefix : <https://rdfox.com/example#> .\n",
    "\n",
    ":article1 :hasTag :semanticReasoning ,\n",
    "        :AI .\n",
    "\n",
    ":article2 :hasTag :semanticReasoning ,\n",
    "        :databases .\n",
    "\n",
    ":article3 :hasTag :machineLearning ,\n",
    "        :AI .\n",
    "\n",
    ":article4 :hasTag :machineLearning ,\n",
    "        :AI .\n",
    "\n",
    "\"\"\""
   ]
  },
  {
   "cell_type": "code",
   "execution_count": null,
   "metadata": {},
   "outputs": [],
   "source": [
    "agg_rules = \"\"\"\n",
    "\n",
    "[?tag, :hasTF, ?termFrequency] :-\n",
    "    AGGREGATE(\n",
    "        ?\n",
    "    ).\n",
    "\n",
    "\"\"\""
   ]
  },
  {
   "cell_type": "markdown",
   "metadata": {},
   "source": [
    "## Transactions\n",
    "\n",
    "A transaction is the window in which RDFox performs one or several read and/or write operations, ending when the operations are totally complete and the data store is self-consistent.\n",
    "\n",
    "Without specifying otherwise, a transaction will be created when any command is executed and will automatically close when its function has been achieved.\n",
    "\n",
    "However, transactions can be manually opened with `begin` and closed with `commit` or `rollback` depending on whether the results of the transaction should be committed or discarded.\n",
    "\n",
    "Multiple rules can be imported in one transaction. This can be much more efficient if the rules interact with one another as RDFox computes an optimized order in which to import the rules."
   ]
  }
 ],
 "metadata": {
  "language_info": {
   "name": "python"
  }
 },
 "nbformat": 4,
 "nbformat_minor": 2
}
