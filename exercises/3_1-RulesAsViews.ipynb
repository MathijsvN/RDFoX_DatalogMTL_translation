{
 "cells": [
  {
   "cell_type": "markdown",
   "metadata": {},
   "source": [
    "# 3.1 Rules as Views\n",
    "\n",
    "One way to see rules is to think of them as creating views.\n",
    "\n",
    "All rules can be thought of in this way but some can be used to create more traditional views.\n",
    "\n",
    "Views simplify SPARQL, reduce repetition in code, and accelerate query performance - they are incredible useful."
   ]
  },
  {
   "cell_type": "markdown",
   "metadata": {},
   "source": [
    "## Example\n",
    "\n",
    "With the rule below, we create a view of our best performing products - that is, the products that have sold over 100 units with profit margin greater than 20%."
   ]
  },
  {
   "cell_type": "code",
   "execution_count": 6,
   "metadata": {},
   "outputs": [],
   "source": [
    "view_data = \"\"\"\n",
    "@prefix : <https://rdfox.com/example#> .\n",
    "\n",
    ":productA a :Product ;\n",
    "    :hasUnitsSold 1000 ;\n",
    "    :hasCost 5 ;\n",
    "    :hasSalePrice 10 .\n",
    "\n",
    ":productB a :Product ;\n",
    "    :hasUnitsSold 2000 ;\n",
    "    :hasCost 70 ;\n",
    "    :hasSalePrice 100 .\n",
    "\n",
    ":productC a :Product ;\n",
    "    :hasUnitsSold 10 ;\n",
    "    :hasCost 49 ;\n",
    "    :hasSalePrice 50 .\n",
    "\n",
    "\"\"\""
   ]
  },
  {
   "cell_type": "code",
   "execution_count": 18,
   "metadata": {},
   "outputs": [],
   "source": [
    "view_rules = \"\"\"\n",
    "@prefix : <https://rdfox.com/example#> .\n",
    "\n",
    "[?product, a, :highPerformingProduct],\n",
    "[?product, :hasMargin, ?margin],\n",
    "[?product, :hasTotalProfit, ?totalProfit] :-\n",
    "    [?product, a, :Product],\n",
    "    [?product, :hasUnitsSold, ?units],\n",
    "    [?product, :hasCost, ?cost],\n",
    "    [?product, :hasSalePrice, ?price],\n",
    "    BIND ( ?price - ?cost AS ?profitPerUnit ),\n",
    "    BIND ( ?profitPerUnit * ?units AS ?totalProfit ),\n",
    "    BIND ( ( ?profitPerUnit / ?price ) * 100 AS ?margin ),\n",
    "    FILTER (?margin > 20),\n",
    "    FILTER (?units > 100).\n",
    "\n",
    "\"\"\""
   ]
  },
  {
   "cell_type": "code",
   "execution_count": 22,
   "metadata": {},
   "outputs": [
    {
     "name": "stdout",
     "output_type": "stream",
     "text": [
      "\n",
      "=== High Performing Products ===\n",
      "?product\t?totalProfit\t?margin\t?units\n",
      "<https://rdfox.com/example#productB>\t60000\t30.0\t2000\n",
      "<https://rdfox.com/example#productA>\t5000\t50.0\t1000\n",
      "\n"
     ]
    }
   ],
   "source": [
    "import requests\n",
    "\n",
    "# Set up the SPARQL endpoint\n",
    "rdfox_server = \"http://localhost:12110\"\n",
    "\n",
    "# Helper function to raise exception if the REST endpoint returns an unexpected status code\n",
    "def assert_response_ok(response, message):\n",
    "    if not response.ok:\n",
    "        raise Exception(\n",
    "            message + \"\\nStatus received={}\\n{}\".format(response.status_code, response.text))\n",
    "\n",
    "# Clear data store\n",
    "clear_response = requests.delete(\n",
    "    rdfox_server + \"/datastores/default/content?facts=true&axioms&rules\")\n",
    "assert_response_ok(clear_response, \"Failed to clear data store.\")\n",
    "\n",
    "# Add data\n",
    "payload = {'operation': 'add-content-update-prefixes'}\n",
    "data_response = requests.patch(\n",
    "    rdfox_server + \"/datastores/default/content\", params=payload, data=view_data)\n",
    "assert_response_ok(data_response, \"Failed to add facts to data store.\")\n",
    "\n",
    "# Get rules\n",
    "rules_response = requests.post(rdfox_server + \"/datastores/default/content\", data=view_rules)\n",
    "assert_response_ok(rules_response, \"Failed to add rule.\")\n",
    "\n",
    "# Get and issue select query\n",
    "with open(\"../queries/3_1-RulesAsViewsQuery.rq\", \"r\") as file:\n",
    "    view_query = file.read()\n",
    "response = requests.get(\n",
    "    rdfox_server + \"/datastores/default/sparql\", params={\"query\": view_query})\n",
    "assert_response_ok(response, \"Failed to run select query.\")\n",
    "print('\\n=== High Performing Products ===')\n",
    "print(response.text)"
   ]
  },
  {
   "cell_type": "markdown",
   "metadata": {},
   "source": [
    "## Incremental Reasoning\n",
    "\n",
    "Adding to this, reasoning updates incrementally meaning as new data comes in or as old is removed, the view is always kept consistent with changes to the data store in real-time. This is a very efficient process which considers the smallest necessary part of the graph to compute the change."
   ]
  },
  {
   "cell_type": "code",
   "execution_count": 24,
   "metadata": {},
   "outputs": [
    {
     "name": "stdout",
     "output_type": "stream",
     "text": [
      "\n",
      "=== High Performing Products ===\n",
      "?product\t?totalProfit\t?margin\t?units\n",
      "<https://rdfox.com/example#productD>\t900000\t90.0\t10000\n",
      "<https://rdfox.com/example#productB>\t60000\t30.0\t2000\n",
      "<https://rdfox.com/example#productA>\t5000\t50.0\t1000\n",
      "\n"
     ]
    }
   ],
   "source": [
    "new_data = \"\"\"\n",
    "@prefix : <https://rdfox.com/example#> .\n",
    "\n",
    ":productD a :Product ;\n",
    "    :hasUnitsSold 10000 ;\n",
    "    :hasCost 10 ;\n",
    "    :hasSalePrice 100 .\n",
    "\n",
    "\"\"\"\n",
    "\n",
    "# Add data\n",
    "payload = {'operation': 'add-content-update-prefixes'}\n",
    "data_response = requests.patch(\n",
    "    rdfox_server + \"/datastores/default/content\", params=payload, data=new_data)\n",
    "assert_response_ok(data_response, \"Failed to add facts to data store.\")\n",
    "\n",
    "# Get and issue select query\n",
    "with open(\"../queries/3_1-RulesAsViewsQuery.rq\", \"r\") as file:\n",
    "    view_query = file.read()\n",
    "response = requests.get(\n",
    "    rdfox_server + \"/datastores/default/sparql\", params={\"query\": view_query})\n",
    "assert_response_ok(response, \"Failed to run select query.\")\n",
    "print('\\n=== High Performing Products ===')\n",
    "print(response.text)"
   ]
  },
  {
   "cell_type": "markdown",
   "metadata": {},
   "source": [
    "## Exercise\n",
    "\n"
   ]
  },
  {
   "cell_type": "code",
   "execution_count": null,
   "metadata": {},
   "outputs": [],
   "source": []
  }
 ],
 "metadata": {
  "kernelspec": {
   "display_name": "venv",
   "language": "python",
   "name": "python3"
  },
  "language_info": {
   "codemirror_mode": {
    "name": "ipython",
    "version": 3
   },
   "file_extension": ".py",
   "mimetype": "text/x-python",
   "name": "python",
   "nbconvert_exporter": "python",
   "pygments_lexer": "ipython3",
   "version": "3.12.0"
  }
 },
 "nbformat": 4,
 "nbformat_minor": 2
}
