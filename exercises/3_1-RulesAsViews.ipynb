{
 "cells": [
  {
   "cell_type": "markdown",
   "metadata": {},
   "source": [
    "# 3.1 Rules as Views\n",
    "\n",
    "One way to see rules is to think of them as creating views.\n",
    "\n",
    "All rules can be thought of in this way but some can be used to create more traditional views.\n",
    "\n",
    "Views simplify SPARQL, reduce repetition in code, and accelerate query performance - they are incredible useful."
   ]
  },
  {
   "cell_type": "markdown",
   "metadata": {},
   "source": [
    "## Example\n",
    "\n",
    "With the rule below, we create a view of the profit from our best selling products - that is, the products that have sold over 1000 units."
   ]
  },
  {
   "cell_type": "code",
   "execution_count": 45,
   "metadata": {},
   "outputs": [],
   "source": [
    "view_data = \"\"\"\n",
    "@prefix : <https://rdfox.com/example#> .\n",
    "\n",
    ":productA a :Product ;\n",
    "    :unitsSold 5000 ;\n",
    "    :hasCost 9 ;\n",
    "    :hasSalePrice 10 .\n",
    "\n",
    ":productB a :Product ;\n",
    "    :unitsSold 2000 ;\n",
    "    :hasCost 80 ;\n",
    "    :hasSalePrice 100 .\n",
    "\n",
    ":productC a :Product ;\n",
    "    :unitsSold 10 ;\n",
    "    :hasCost 30 ;\n",
    "    :hasSalePrice 50 .\n",
    "\n",
    "\"\"\""
   ]
  },
  {
   "cell_type": "code",
   "execution_count": 46,
   "metadata": {},
   "outputs": [],
   "source": [
    "view_rules = \"\"\"\n",
    "@prefix : <https://rdfox.com/example#> .\n",
    "\n",
    "[?product, a, :highPerformingProduct],\n",
    "[?product, :hasTotalProfit, ?totalProfit] :-\n",
    "    [?product, a, :Product],\n",
    "    [?product, :unitsSold, ?units],\n",
    "    [?product, :hasCost, ?cost],\n",
    "    [?product, :hasSalePrice, ?price],\n",
    "    BIND ( (?price - ?cost) * ?units AS ?totalProfit ),\n",
    "    FILTER (?units > 1000).\n",
    "\n",
    "\"\"\""
   ]
  },
  {
   "cell_type": "code",
   "execution_count": 47,
   "metadata": {},
   "outputs": [
    {
     "name": "stdout",
     "output_type": "stream",
     "text": [
      "\n",
      "=== High Performing Products ===\n",
      "?product\t?totalProfit\t?units\n",
      "<https://rdfox.com/example#productB>\t40000\t2000\n",
      "<https://rdfox.com/example#productA>\t5000\t5000\n",
      "\n"
     ]
    }
   ],
   "source": [
    "import requests\n",
    "\n",
    "# Set up the SPARQL endpoint\n",
    "rdfox_server = \"http://localhost:12110\"\n",
    "\n",
    "# Helper function to raise exception if the REST endpoint returns an unexpected status code\n",
    "def assert_response_ok(response, message):\n",
    "    if not response.ok:\n",
    "        raise Exception(\n",
    "            message + \"\\nStatus received={}\\n{}\".format(response.status_code, response.text))\n",
    "\n",
    "# Clear data store\n",
    "clear_response = requests.delete(\n",
    "    rdfox_server + \"/datastores/default/content?facts=true&axioms&rules\")\n",
    "assert_response_ok(clear_response, \"Failed to clear data store.\")\n",
    "\n",
    "# Add data\n",
    "payload = {'operation': 'add-content-update-prefixes'}\n",
    "data_response = requests.patch(\n",
    "    rdfox_server + \"/datastores/default/content\", params=payload, data=view_data)\n",
    "assert_response_ok(data_response, \"Failed to add facts to data store.\")\n",
    "\n",
    "# Get rules\n",
    "rules_response = requests.post(rdfox_server + \"/datastores/default/content\", data=view_rules)\n",
    "assert_response_ok(rules_response, \"Failed to add rule.\")\n",
    "\n",
    "# Get and issue select query\n",
    "with open(\"../queries/3_1-RulesAsViewsQuery.rq\", \"r\") as file:\n",
    "    view_query = file.read()\n",
    "response = requests.get(\n",
    "    rdfox_server + \"/datastores/default/sparql\", params={\"query\": view_query})\n",
    "assert_response_ok(response, \"Failed to run select query.\")\n",
    "print('\\n=== High Performing Products ===')\n",
    "print(response.text)"
   ]
  },
  {
   "cell_type": "markdown",
   "metadata": {},
   "source": [
    "## Incremental Reasoning\n",
    "\n",
    "Adding to this, reasoning updates incrementally meaning as new data comes in or as old is removed, the view is always kept consistent with changes to the data store in real-time. This is a very efficient process which considers the smallest necessary part of the graph to compute the change."
   ]
  },
  {
   "cell_type": "code",
   "execution_count": 48,
   "metadata": {},
   "outputs": [
    {
     "name": "stdout",
     "output_type": "stream",
     "text": [
      "\n",
      "=== High Performing Products ===\n",
      "?product\t?totalProfit\t?units\n",
      "<https://rdfox.com/example#productD>\t1000000\t10000\n",
      "<https://rdfox.com/example#productB>\t40000\t2000\n",
      "<https://rdfox.com/example#productA>\t5000\t5000\n",
      "\n"
     ]
    }
   ],
   "source": [
    "new_data = \"\"\"\n",
    "@prefix : <https://rdfox.com/example#> .\n",
    "\n",
    ":productD a :Product ;\n",
    "    :unitsSold 10000 ;\n",
    "    :hasCost 10 ;\n",
    "    :hasSalePrice 110 .\n",
    "\n",
    "\"\"\"\n",
    "\n",
    "# Add data\n",
    "payload = {'operation': 'add-content-update-prefixes'}\n",
    "data_response = requests.patch(\n",
    "    rdfox_server + \"/datastores/default/content\", params=payload, data=new_data)\n",
    "assert_response_ok(data_response, \"Failed to add facts to data store.\")\n",
    "\n",
    "# Get and issue select query\n",
    "with open(\"../queries/3_1-RulesAsViewsQuery.rq\", \"r\") as file:\n",
    "    view_query = file.read()\n",
    "response = requests.get(\n",
    "    rdfox_server + \"/datastores/default/sparql\", params={\"query\": view_query})\n",
    "assert_response_ok(response, \"Failed to run select query.\")\n",
    "print('\\n=== High Performing Products ===')\n",
    "print(response.text)"
   ]
  },
  {
   "cell_type": "markdown",
   "metadata": {},
   "source": [
    "## Explainable results\n",
    "\n",
    "RDFox keeps track of the inferences it makes, storing the chain of rules that support each facts existence.\n",
    "\n",
    "This means all inferred results can be explained in proof trees of the facts and rules that lead to them.\n",
    "\n",
    "### Exploring explanations\n",
    "\n",
    "Head to the **Explain** tab of the RDFox console to start visualising an explanation, or right click on an edge in the **Explore** tab and selecting **Explain**.\n",
    "\n",
    "[Here is a link](http://localhost:12110/console/datastores/explain?datastore=default&fact=%5B%3Chttps%3A%2F%2Frdfox.com%2Fexample%23productA%3E%2C%20%3Chttp%3A%2F%2Fwww.w3.org%2F1999%2F02%2F22-rdf-syntax-ns%23type%3E%2C%20%3Chttps%3A%2F%2Frdfox.com%2Fexample%23highPerformingProduct%3E%5D) to the explanation of `productA a :highPerformingProduct`."
   ]
  },
  {
   "cell_type": "markdown",
   "metadata": {},
   "source": [
    "## Exercise\n",
    "\n",
    "Complete the rule `3_1-RulesAsViewsRules.dlog` in the `rules` folder so that the query below return a list of product categories and the **average** units sold for all products in that category.\n",
    "\n",
    "### Hits & helpful resources\n",
    "\n",
    "Averages are a form of aggregates."
   ]
  },
  {
   "cell_type": "code",
   "execution_count": 41,
   "metadata": {},
   "outputs": [],
   "source": [
    "view_sparql = \"\"\"\n",
    "SELECT ?productCategory ?averageCategoryUnitsSold\n",
    "WHERE {\n",
    "    ?productCategory :hasAverageUnitsSold ?averageCategoryUnitsSold .\n",
    "} ORDER BY DESC (?averageCategoryUnitsSold)\n",
    "\"\"\""
   ]
  },
  {
   "cell_type": "markdown",
   "metadata": {},
   "source": [
    "Here is a representative sample of the data in `3_1-RulesAsViewsData.ttl`."
   ]
  },
  {
   "cell_type": "code",
   "execution_count": 38,
   "metadata": {},
   "outputs": [],
   "source": [
    "sample_data = \"\"\"\n",
    "@prefix : <https://rdfox.com/example#> .\n",
    "\n",
    ":product0001 a :Product,\n",
    "                :Chair ;\n",
    "    :unitsSold 3000 ;\n",
    "    :hasCost 40 ;\n",
    "    :hasSalePrice 50 .\n",
    "\n",
    ":product0002 a :Product,\n",
    "                :Sofa ;\n",
    "    :unitsSold 100 ;\n",
    "    :hasCost 120 ;\n",
    "    :hasSalePrice 300 .\n",
    "\n",
    "\"\"\""
   ]
  },
  {
   "cell_type": "markdown",
   "metadata": {},
   "source": [
    "### Check your work\n",
    "\n",
    "Run the query below to verify the results."
   ]
  },
  {
   "cell_type": "code",
   "execution_count": 44,
   "metadata": {},
   "outputs": [
    {
     "name": "stdout",
     "output_type": "stream",
     "text": [
      "\n",
      "=== Product Category Average Profit ===\n",
      "?productCategory\t?averageCategoryUnitsSold\n",
      "<https://rdfox.com/example/Chair>\t9943.57894736842105\n",
      "<https://rdfox.com/example/Product>\t4939.885\n",
      "<https://rdfox.com/example/Sofa>\t4879.032\n",
      "<https://rdfox.com/example/Stool>\t2531.395061728395062\n",
      "<https://rdfox.com/example/Beanbag>\t2495.9\n",
      "\n"
     ]
    }
   ],
   "source": [
    "# Clear data store\n",
    "clear_response = requests.delete(\n",
    "    rdfox_server + \"/datastores/default/content?facts=true&axioms&rules\")\n",
    "assert_response_ok(clear_response, \"Failed to clear data store.\")\n",
    "\n",
    "# Get and add data\n",
    "with open(\"../data/3_1-RulesAsViewsData.ttl\", \"r\") as file:\n",
    "    data = file.read()\n",
    "payload = {'operation': 'add-content-update-prefixes'}\n",
    "data_response = requests.patch(\n",
    "    rdfox_server + \"/datastores/default/content\", params=payload, data=data)\n",
    "assert_response_ok(data_response, \"Failed to add facts to data store.\")\n",
    "\n",
    "# Get and add rules\n",
    "with open(\"../rules/3_1-RulesAsViewsRules.dlog\", \"r\") as rule_file:\n",
    "    datalog_rule = rule_file.read()\n",
    "response = requests.post(rdfox_server + \"/datastores/default/content\", data=datalog_rule)\n",
    "assert_response_ok(response, \"Failed to add rule.\")\n",
    "\n",
    "# Issue select query\n",
    "response = requests.get(\n",
    "    rdfox_server + \"/datastores/default/sparql\", params={\"query\": view_sparql})\n",
    "assert_response_ok(response, \"Failed to run select query.\")\n",
    "print('\\n=== Product Category Average Profit ===')\n",
    "print(response.text)"
   ]
  },
  {
   "cell_type": "markdown",
   "metadata": {},
   "source": [
    "### You should see...\n",
    "\n",
    "=== Product Category Average Profit ===\n",
    "|?productCategory|?averageCategoryUnitsSold|\n",
    "|-----------|-------------|\n",
    "|<https://rdfox.com/example/Chair>|\t9943.57894736842105|\n",
    "|<https://rdfox.com/example/Product>|\t4939.885|\n",
    "|<https://rdfox.com/example/Sofa>|\t4879.032|\n",
    "|<https://rdfox.com/example/Stool>|\t2531.395061728395062|\n",
    "|<https://rdfox.com/example/Beanbag>|\t2495.9|"
   ]
  }
 ],
 "metadata": {
  "kernelspec": {
   "display_name": "venv",
   "language": "python",
   "name": "python3"
  },
  "language_info": {
   "codemirror_mode": {
    "name": "ipython",
    "version": 3
   },
   "file_extension": ".py",
   "mimetype": "text/x-python",
   "name": "python",
   "nbconvert_exporter": "python",
   "pygments_lexer": "ipython3",
   "version": "3.12.0"
  }
 },
 "nbformat": 4,
 "nbformat_minor": 2
}
