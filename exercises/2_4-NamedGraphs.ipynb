{
 "cells": [
  {
   "cell_type": "markdown",
   "metadata": {},
   "source": [
    "# 2.4 Named Graphs\n",
    "\n",
    "Named Graphs offer a way to partition your data and are commonly used to group semantically similar data.\n",
    "\n",
    "Data in named graphs is stored as quads, with the fourth entry representing the named graph.\n",
    "\n",
    "Rules can reference several named graphs in both the head and body simultaneously.\n",
    "\n",
    "## The default graph\n",
    "\n",
    "The default graph is unlike named graphs in that it has no name and stores triples rather than quads.\n",
    "\n",
    "Without specify a named graph RDFox will reference the default graph.\n",
    "\n",
    "### Tuples tables\n",
    "\n",
    "RDFox actually stores data as lists of facts in in-memory containers called tuple tables.\n",
    "\n",
    "Two tuple tables are created automatically upon creating a new data store, the `DefaultTriples` table that stores triples in the default graph and the `Quads` table that contains all named graphs quads.\n",
    "\n",
    "Alongside others, such as a name, a defining feature of tuple tables are is their 'arity' - the number of columns they contain.\n",
    "\n",
    "Additional tuple tables can be created of arity 1-4 (with some built-in exceptions).\n",
    "\n",
    "One such tuple table is the **SKOLEM** table which can have arity from one upwards. Here, the last entry in the row is a blank node that is uniquely determined by all of the preceding arguments. \n",
    "\n",
    "Tuple tables, including those automatically created, can be deleted to save memory if required."
   ]
  },
  {
   "cell_type": "markdown",
   "metadata": {},
   "source": [
    "## Example\n",
    "\n",
    "The following example shows how the Default Graph and a Named Graph can be used in a single rule.\n",
    "\n",
    "The Named Graph ':Personnel' contains information about staff for a financial institute and the Default Graph contains in formation about trades that have been executed.\n",
    "\n",
    "The rules infers information about the staff who are active traders."
   ]
  },
  {
   "cell_type": "code",
   "execution_count": 71,
   "metadata": {},
   "outputs": [],
   "source": [
    "ng_data = \"\"\"\n",
    "\n",
    "@prefix : <https://rdfox.com/example#> .\n",
    "\n",
    ":PersonnelInfo {\n",
    "    :p-001 a :StaffMember .\n",
    "    :p-002 a :StaffMember .\n",
    "}\n",
    "\n",
    ":t-001001 a :Transaction ;\n",
    "    :executedBy :p-001 .\n",
    "\n",
    "\"\"\""
   ]
  },
  {
   "cell_type": "code",
   "execution_count": 72,
   "metadata": {},
   "outputs": [],
   "source": [
    "ng_rules = \"\"\"\n",
    "\n",
    "[?personnel, a, :Trader] :PersonnelInfo :-\n",
    "    [?personnel, a, :StaffMember] :PersonnelInfo,\n",
    "    [?trade, :executedBy, ?personnel] .\n",
    "\n",
    "\"\"\""
   ]
  },
  {
   "cell_type": "code",
   "execution_count": 73,
   "metadata": {},
   "outputs": [
    {
     "name": "stdout",
     "output_type": "stream",
     "text": [
      "\n",
      "=== Personnel Rolls ===\n",
      "?personnel\t?roll\n",
      "<https://rdfox.com/example#p-00001>\t<https://rdfox.com/example#Trader>\n",
      "<https://rdfox.com/example#p-00002>\t<https://rdfox.com/example#StaffMember>\n",
      "\n"
     ]
    }
   ],
   "source": [
    "import requests\n",
    "\n",
    "# Set up the SPARQL endpoint\n",
    "rdfox_server = \"http://localhost:12110\"\n",
    "\n",
    "# Helper function to raise exception if the REST endpoint returns an unexpected status code\n",
    "def assert_response_ok(response, message):\n",
    "    if not response.ok:\n",
    "        raise Exception(\n",
    "            message + \"\\nStatus received={}\\n{}\".format(response.status_code, response.text))\n",
    "\n",
    "# Clear data store\n",
    "clear_response = requests.delete(\n",
    "    rdfox_server + \"/datastores/default/content?facts=true&axioms&rules\")\n",
    "assert_response_ok(clear_response, \"Failed to clear data store.\")\n",
    "\n",
    "# Add data\n",
    "payload = {'operation': 'add-content-update-prefixes'}\n",
    "data_response = requests.patch(\n",
    "    rdfox_server + \"/datastores/default/content\", params=payload, data=ng_data)\n",
    "assert_response_ok(data_response, \"Failed to add facts to data store.\")\n",
    "\n",
    "# Get rules\n",
    "rules_response = requests.post(rdfox_server + \"/datastores/default/content\", data=ng_rules)\n",
    "assert_response_ok(rules_response, \"Failed to add rule.\")\n",
    "\n",
    "# Get and issue select query\n",
    "with open(\"../queries/2_4-NamedGraphsQuery.rq\", \"r\") as file:\n",
    "    ng_query = file.read()\n",
    "response = requests.get(\n",
    "    rdfox_server + \"/datastores/default/sparql\", params={\"query\": ng_query})\n",
    "assert_response_ok(response, \"Failed to run select query.\")\n",
    "print('\\n=== Personnel Rolls ===')\n",
    "print(response.text)"
   ]
  },
  {
   "cell_type": "markdown",
   "metadata": {},
   "source": [
    "## Named Graphs syntax\n",
    "\n",
    "As you can see in the rule above, named graphs can be accessed by including its name (or inserting a variable) after the desired triple pattern within the graph.\n",
    "\n",
    "`[?S, ?O, ?O] ?G`\n",
    "\n",
    "A slightly different syntax is used when writing queries, declaring the Named Graph before the triple pattern with the `GRAPH` keyword.\n",
    "\n",
    "`GRAPH ?G {?S ?P ?O} `\n",
    "\n",
    "### Tuple table syntax\n",
    "\n",
    "Accessing custom tuple tables is slightly different again, with rule atoms taking the form:\n",
    "\n",
    "`TupleTableName(?S, ?P, ?O, ?Q, ...)`\n",
    "\n",
    "and queries accessing them via the `TT` keyword:\n",
    "\n",
    "`TT TupleTableName { ?S ?P ?O ?Q ...}`"
   ]
  },
  {
   "cell_type": "markdown",
   "metadata": {},
   "source": [
    "## Exercise\n",
    "\n",
    "Complete the rule `2_4-NamedGraphsRules.dlog` in the `rules` folder so that the query below can be used to directly find traders who have breached their limits.\n",
    "\n",
    "### Helpful resources\n",
    "\n",
    "[Named Graphs syntax in RDFox](https://oxfordsemtech.github.io/DocumentationDevBuild/reasoning.html#named-graphs-and-n-ary-relations)"
   ]
  },
  {
   "cell_type": "code",
   "execution_count": 98,
   "metadata": {},
   "outputs": [],
   "source": [
    "ng_sparql = \"\"\"\n",
    "\n",
    "SELECT ?personnel ?limit ?trade ?tradeValue\n",
    "WHERE {\n",
    "    GRAPH :PersonnelInfo {\n",
    "        ?personnel :inBreachOfRegulation true ;\n",
    "            :hasMaxTradeRestriction ?limit.\n",
    "    } .\n",
    "\n",
    "    ?trade :executedBy ?personnel ;\n",
    "        :hasValue ?tradeValue ;\n",
    "        a :BeachOfRegulation .\n",
    "}\n",
    "\n",
    "\"\"\""
   ]
  },
  {
   "cell_type": "markdown",
   "metadata": {},
   "source": [
    "Here is a representative sample of the data in `2_4-NamedGraphsData.ttl`."
   ]
  },
  {
   "cell_type": "code",
   "execution_count": 81,
   "metadata": {},
   "outputs": [],
   "source": [
    "sample_data = \"\"\"\n",
    "@prefix : <https://rdfox.com/example#> .\n",
    "\n",
    ":PersonnelInfo {\n",
    "    :p-001 a :Trader ;\n",
    "        :hasMaxTradeRestriction 100000 .\n",
    "    \n",
    "    :p-002 a :StaffMember .\n",
    "}\n",
    "\n",
    ":t-000001 a :Transaction ;\n",
    "    :executedBy :p-001 ;\n",
    "    :hasValue 50000 .\n",
    "\n",
    "\"\"\""
   ]
  },
  {
   "cell_type": "markdown",
   "metadata": {},
   "source": [
    "### Check your work\n",
    "\n",
    "Run the query below to verify the results."
   ]
  },
  {
   "cell_type": "code",
   "execution_count": 99,
   "metadata": {},
   "outputs": [
    {
     "name": "stdout",
     "output_type": "stream",
     "text": [
      "\n",
      "=== Traders in Trouble ===\n",
      "?personnel\t?limit\t?trade\t?tradeValue\n",
      "<https://rdfox.com/example#p-075>\t80000\t<https://rdfox.com/example#t-075011>\t115606\n",
      "<https://rdfox.com/example#p-041>\t130000\t<https://rdfox.com/example#t-041021>\t185874\n",
      "<https://rdfox.com/example#p-043>\t150000\t<https://rdfox.com/example#t-043025>\t222928\n",
      "\n"
     ]
    }
   ],
   "source": [
    "# Clear data store\n",
    "clear_response = requests.delete(\n",
    "    rdfox_server + \"/datastores/default/content?facts=true&axioms&rules\")\n",
    "assert_response_ok(clear_response, \"Failed to clear data store.\")\n",
    "\n",
    "# Get and add data\n",
    "with open(\"../data/2_4-NamedGraphsData.ttl\", \"r\") as file:\n",
    "    namedGraphs_data = file.read()\n",
    "payload = {'operation': 'add-content-update-prefixes'}\n",
    "data_response = requests.patch(\n",
    "    rdfox_server + \"/datastores/default/content\", params=payload, data=namedGraphs_data)\n",
    "assert_response_ok(data_response, \"Failed to add facts to data store.\")\n",
    "\n",
    "# Get and add rules\n",
    "with open(\"../rules/2_4-NamedGraphsRules.dlog\", \"r\") as file:\n",
    "    namedGraph_rules = file.read()\n",
    "rules_response = requests.post(rdfox_server + \"/datastores/default/content\", data=namedGraph_rules)\n",
    "assert_response_ok(rules_response, \"Failed to add rule.\")\n",
    "\n",
    "# Issue select query\n",
    "response = requests.get(\n",
    "    rdfox_server + \"/datastores/default/sparql\", params={\"query\": ng_sparql})\n",
    "assert_response_ok(response, \"Failed to run select query.\")\n",
    "print('\\n=== Traders in Trouble ===')\n",
    "print(response.text)"
   ]
  },
  {
   "cell_type": "markdown",
   "metadata": {},
   "source": [
    "### You should see...\n",
    "\n",
    "=== Traders in Trouble ===\n",
    "|?personnel|?limit|?trade|?tradeValue|\n",
    "|-----------|-------------|-------------|-------------|\n",
    "|<https://rdfox.com/example#p-075>|\t80000|\t<https://rdfox.com/example#t-075011>|\t115606|\n",
    "|<https://rdfox.com/example#p-041>|\t130000|\t<https://rdfox.com/example#t-041021>|\t185874|\n",
    "|<https://rdfox.com/example#p-043>|\t150000|\t<https://rdfox.com/example#t-043025>|\t222928|"
   ]
  }
 ],
 "metadata": {
  "kernelspec": {
   "display_name": "venv",
   "language": "python",
   "name": "python3"
  },
  "language_info": {
   "codemirror_mode": {
    "name": "ipython",
    "version": 3
   },
   "file_extension": ".py",
   "mimetype": "text/x-python",
   "name": "python",
   "nbconvert_exporter": "python",
   "pygments_lexer": "ipython3",
   "version": "3.12.0"
  }
 },
 "nbformat": 4,
 "nbformat_minor": 2
}
