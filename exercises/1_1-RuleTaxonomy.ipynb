{
 "cells": [
  {
   "cell_type": "markdown",
   "metadata": {},
   "source": [
    "# 1.1 Taxonomy of a Rule\n",
    "\n",
    "**\\[ THEN \\] :- \\[ IF \\] .**\n",
    "\n",
    "Datalog rules can be read as then-if statements, adding new data to the graph where a specified pattern is matched.\n",
    "\n",
    "Rules are comprised of two main parts, the head and the body, separate by the inference symbol.\n",
    "\n",
    "**\\[ HEAD \\] :- \\[ BODY \\] .**\n",
    "\n",
    "Both the head and body can both be made up of several **atoms** - triple (or quad) patterns that are the be matched.\n",
    "\n",
    "Within the atoms, each entity is given either by a variable `?x` or data `:myProperty` and must be separated by a comma.\n",
    "\n",
    "Each must be separated by a comma and the final atom in the body must be followed by a full stop.\n",
    "\n",
    "\\[&nbsp;&nbsp;?x,&nbsp;&nbsp;a,&nbsp;&nbsp;:Class&nbsp;&nbsp;\\] :-\\\n",
    "&nbsp;&nbsp;&nbsp;&nbsp;\\[&nbsp;&nbsp;?x,&nbsp;&nbsp;a,&nbsp;&nbsp;:Thing&nbsp;&nbsp;\\] ,\\\n",
    "&nbsp;&nbsp;&nbsp;&nbsp;\\[&nbsp;&nbsp;?x,&nbsp;&nbsp;:prop,&nbsp;&nbsp;'class property'&nbsp;&nbsp;\\] .\n"
   ]
  }
 ],
 "metadata": {
  "language_info": {
   "name": "python"
  }
 },
 "nbformat": 4,
 "nbformat_minor": 2
}
