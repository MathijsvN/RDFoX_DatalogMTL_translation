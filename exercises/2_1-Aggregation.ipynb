{
 "cells": [
  {
   "cell_type": "markdown",
   "metadata": {},
   "source": [
    "# 2.1 Aggregation\n",
    "\n",
    "Aggregate functions are used to calculate expressions over a set of values.\n",
    "\n",
    "RDFox offers several, including common functions like SUM and COUNT, and more specialized functions like COUNT_MAX and MAX_ARGMIN.\n",
    "\n",
    "See the [full list shown here](https://oxfordsemtech.github.io/DocumentationDevBuild/querying.html#aggregate-functions) (excluding non-deterministic functions).\n",
    "\n",
    "# Using aggregate functions in rules\n",
    "\n",
    "To use aggregation in a rule, you must declare it within the body with `AGGREGATE()`, that contains the relevant atoms.\n",
    "\n",
    "You must also indicate which variable(s) the you're aggregating on with `ON`, and bind the result to a new variable with `BIND`.\n",
    "\n",
    "# Variable scope\n",
    "\n",
    "Variables in aggregate atoms are local to the atom unless mentioned outside of the atom. Two aggregates can use a variable with the same name so long as it is not a mentioned group variable.\n"
   ]
  },
  {
   "cell_type": "markdown",
   "metadata": {},
   "source": [
    "## Example\n",
    "\n",
    "Below is an example of MAX and COUNT_MAX used within one rule to calculate the percentage of 5 star reviews for a product in a catalogue."
   ]
  },
  {
   "cell_type": "code",
   "execution_count": 6,
   "metadata": {},
   "outputs": [],
   "source": [
    "agg_data = \"\"\"\n",
    "@prefix : <https://rdfox.com/example#> .\n",
    "\n",
    ":review1 a :Review ;\n",
    "    :hasStars 5 .\n",
    "\n",
    ":review2 a :Review ;\n",
    "    :hasStars 5 .\n",
    "\n",
    ":review3 a :Review ;\n",
    "    :hasStars 2 .\n",
    "\n",
    ":productABC :hasReview :review1 ;\n",
    "    :hasReview :review2 ;\n",
    "    :hasReview :review3 .\n",
    "    \n",
    "\"\"\""
   ]
  },
  {
   "cell_type": "code",
   "execution_count": 7,
   "metadata": {},
   "outputs": [],
   "source": [
    "agg_rules = \"\"\"\n",
    "[?product, :hasPercentageOfFiveStars, ?percentage] :-\n",
    "    AGGREGATE (\n",
    "        [?product, :hasReview, ?review]\n",
    "        ON ?product\n",
    "        BIND COUNT(?review) AS ?count \n",
    "    ),\n",
    "    AGGREGATE (\n",
    "        [?product, :hasReview, ?review],\n",
    "        [?review, :hasStars, ?stars]\n",
    "        ON ?product\n",
    "        BIND COUNT_MAX(?stars) AS ?maxCount \n",
    "    ),\n",
    "    BIND( (?maxCount / ?count) AS ?percentage ) .\n",
    "\"\"\""
   ]
  },
  {
   "cell_type": "code",
   "execution_count": 8,
   "metadata": {},
   "outputs": [
    {
     "name": "stdout",
     "output_type": "stream",
     "text": [
      "\n",
      "=== Percentage of 5 star ratings ===\n",
      "?percentage\n",
      "0.666666666666666667\n",
      "\n"
     ]
    }
   ],
   "source": [
    "import requests\n",
    "\n",
    "# Set up the SPARQL endpoint\n",
    "rdfox_server = \"http://localhost:12110\"\n",
    "\n",
    "# Helper function to raise exception if the REST endpoint returns an unexpected status code\n",
    "def assert_response_ok(response, message):\n",
    "    if not response.ok:\n",
    "        raise Exception(\n",
    "            message + \"\\nStatus received={}\\n{}\".format(response.status_code, response.text))\n",
    "\n",
    "# Clear data store\n",
    "clear_response = requests.delete(\n",
    "    rdfox_server + \"/datastores/default/content?facts=true&axioms&rules\")\n",
    "assert_response_ok(clear_response, \"Failed to clear data store.\")\n",
    "\n",
    "# Add data\n",
    "payload = {'operation': 'add-content-update-prefixes'}\n",
    "data_response = requests.patch(\n",
    "    rdfox_server + \"/datastores/default/content\", params=payload, data=agg_data)\n",
    "assert_response_ok(data_response, \"Failed to add facts to data store.\")\n",
    "\n",
    "# Get rules\n",
    "rules_response = requests.post(rdfox_server + \"/datastores/default/content\", data=agg_rules)\n",
    "assert_response_ok(rules_response, \"Failed to add rule.\")\n",
    "\n",
    "# Issue select query\n",
    "sparql_text = \"SELECT ?percentage WHERE { ?review :hasPercentageOfFiveStars ?percentage}\"\n",
    "response = requests.get(\n",
    "    rdfox_server + \"/datastores/default/sparql\", params={\"query\": sparql_text})\n",
    "assert_response_ok(response, \"Failed to run select query.\")\n",
    "print('\\n=== Percentage of 5 star ratings ===')\n",
    "print(response.text)\n"
   ]
  },
  {
   "cell_type": "markdown",
   "metadata": {},
   "source": [
    "## Exercise\n",
    "\n",
    "Complete the rule `aggregationRules.dlog` so that we can use the query below to directly find 'Star Products' - that is, products with a higher than 4 star average AND more than 5 total reviews."
   ]
  },
  {
   "cell_type": "code",
   "execution_count": 10,
   "metadata": {},
   "outputs": [],
   "source": [
    "agg_sparql = \"\"\"\n",
    "SELECT ?starProduct ?averageStars ?reviewCount\n",
    "WHERE {\n",
    "    ?starProduct a :StarProduct ;\n",
    "    :hasAverageStars ?averageStars ;\n",
    "    :hasReviewCount ?reviewCount .\n",
    "} ORDER BY DESC(?averageStars)\n",
    "\"\"\""
   ]
  },
  {
   "cell_type": "markdown",
   "metadata": {},
   "source": [
    "Here is a representitive sample of the data in `aggregationData.ttl`."
   ]
  },
  {
   "cell_type": "code",
   "execution_count": 11,
   "metadata": {},
   "outputs": [],
   "source": [
    "sammple_data = \"\"\"\n",
    "@prefix : <https://rdfox.com/example#> .\n",
    "\n",
    ":product0001 a :Sofa ;\n",
    "    :hasReview :review11.\n",
    "\n",
    ":review11 :hasStars 5 .\n",
    "\n",
    "\"\"\""
   ]
  },
  {
   "cell_type": "markdown",
   "metadata": {},
   "source": [
    "### Run this code when you're ready!\n",
    "\n",
    "You should see your star products!"
   ]
  },
  {
   "cell_type": "code",
   "execution_count": 14,
   "metadata": {},
   "outputs": [
    {
     "ename": "Exception",
     "evalue": "Failed to add rule.\nStatus received=400\nRuleCompilationException: An exception occurred while compiling ... :- FILTER(?averageStars > 4), FILTER(?reviewCount > 5) .\n    QueryCompilationException: A plan satisfying the binding requirements could not be found.",
     "output_type": "error",
     "traceback": [
      "\u001b[0;31m---------------------------------------------------------------------------\u001b[0m",
      "\u001b[0;31mException\u001b[0m                                 Traceback (most recent call last)",
      "Cell \u001b[0;32mIn[14], line 18\u001b[0m\n\u001b[1;32m     16\u001b[0m     aggregation_rules \u001b[38;5;241m=\u001b[39m file\u001b[38;5;241m.\u001b[39mread()\n\u001b[1;32m     17\u001b[0m rules_response \u001b[38;5;241m=\u001b[39m requests\u001b[38;5;241m.\u001b[39mpost(rdfox_server \u001b[38;5;241m+\u001b[39m \u001b[38;5;124m\"\u001b[39m\u001b[38;5;124m/datastores/default/content\u001b[39m\u001b[38;5;124m\"\u001b[39m, data\u001b[38;5;241m=\u001b[39maggregation_rules)\n\u001b[0;32m---> 18\u001b[0m \u001b[43massert_response_ok\u001b[49m\u001b[43m(\u001b[49m\u001b[43mrules_response\u001b[49m\u001b[43m,\u001b[49m\u001b[43m \u001b[49m\u001b[38;5;124;43m\"\u001b[39;49m\u001b[38;5;124;43mFailed to add rule.\u001b[39;49m\u001b[38;5;124;43m\"\u001b[39;49m\u001b[43m)\u001b[49m\n\u001b[1;32m     20\u001b[0m \u001b[38;5;66;03m# Issue select query\u001b[39;00m\n\u001b[1;32m     21\u001b[0m response \u001b[38;5;241m=\u001b[39m requests\u001b[38;5;241m.\u001b[39mget(\n\u001b[1;32m     22\u001b[0m     rdfox_server \u001b[38;5;241m+\u001b[39m \u001b[38;5;124m\"\u001b[39m\u001b[38;5;124m/datastores/default/sparql\u001b[39m\u001b[38;5;124m\"\u001b[39m, params\u001b[38;5;241m=\u001b[39m{\u001b[38;5;124m\"\u001b[39m\u001b[38;5;124mquery\u001b[39m\u001b[38;5;124m\"\u001b[39m: agg_sparql})\n",
      "Cell \u001b[0;32mIn[8], line 9\u001b[0m, in \u001b[0;36massert_response_ok\u001b[0;34m(response, message)\u001b[0m\n\u001b[1;32m      7\u001b[0m \u001b[38;5;28;01mdef\u001b[39;00m \u001b[38;5;21massert_response_ok\u001b[39m(response, message):\n\u001b[1;32m      8\u001b[0m     \u001b[38;5;28;01mif\u001b[39;00m \u001b[38;5;129;01mnot\u001b[39;00m response\u001b[38;5;241m.\u001b[39mok:\n\u001b[0;32m----> 9\u001b[0m         \u001b[38;5;28;01mraise\u001b[39;00m \u001b[38;5;167;01mException\u001b[39;00m(\n\u001b[1;32m     10\u001b[0m             message \u001b[38;5;241m+\u001b[39m \u001b[38;5;124m\"\u001b[39m\u001b[38;5;130;01m\\n\u001b[39;00m\u001b[38;5;124mStatus received=\u001b[39m\u001b[38;5;132;01m{}\u001b[39;00m\u001b[38;5;130;01m\\n\u001b[39;00m\u001b[38;5;132;01m{}\u001b[39;00m\u001b[38;5;124m\"\u001b[39m\u001b[38;5;241m.\u001b[39mformat(response\u001b[38;5;241m.\u001b[39mstatus_code, response\u001b[38;5;241m.\u001b[39mtext))\n",
      "\u001b[0;31mException\u001b[0m: Failed to add rule.\nStatus received=400\nRuleCompilationException: An exception occurred while compiling ... :- FILTER(?averageStars > 4), FILTER(?reviewCount > 5) .\n    QueryCompilationException: A plan satisfying the binding requirements could not be found."
     ]
    }
   ],
   "source": [
    "# Clear data store\n",
    "clear_response = requests.delete(\n",
    "    rdfox_server + \"/datastores/default/content?facts=true&axioms&rules\")\n",
    "assert_response_ok(clear_response, \"Failed to clear data store.\")\n",
    "\n",
    "# Get and add data\n",
    "with open(\"../data/2_1-AggregationData.ttl\", \"r\") as file:\n",
    "    aggregation_data = file.read()\n",
    "payload = {'operation': 'add-content-update-prefixes'}\n",
    "data_response = requests.patch(\n",
    "    rdfox_server + \"/datastores/default/content\", params=payload, data=aggregation_data)\n",
    "assert_response_ok(data_response, \"Failed to add facts to data store.\")\n",
    "\n",
    "# Get and add rules\n",
    "with open(\"../rules/2_1-AggregationRules.dlog\", \"r\") as file:\n",
    "    aggregation_rules = file.read()\n",
    "rules_response = requests.post(rdfox_server + \"/datastores/default/content\", data=aggregation_rules)\n",
    "assert_response_ok(rules_response, \"Failed to add rule.\")\n",
    "\n",
    "# Issue select query\n",
    "response = requests.get(\n",
    "    rdfox_server + \"/datastores/default/sparql\", params={\"query\": agg_sparql})\n",
    "assert_response_ok(response, \"Failed to run select query.\")\n",
    "print('\\n=== Star Products ===')\n",
    "print(response.text)"
   ]
  }
 ],
 "metadata": {
  "kernelspec": {
   "display_name": "venv",
   "language": "python",
   "name": "python3"
  },
  "language_info": {
   "codemirror_mode": {
    "name": "ipython",
    "version": 3
   },
   "file_extension": ".py",
   "mimetype": "text/x-python",
   "name": "python",
   "nbconvert_exporter": "python",
   "pygments_lexer": "ipython3",
   "version": "3.12.0"
  }
 },
 "nbformat": 4,
 "nbformat_minor": 2
}
