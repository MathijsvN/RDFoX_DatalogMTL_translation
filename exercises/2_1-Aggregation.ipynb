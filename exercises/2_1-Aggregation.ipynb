{
 "cells": [
  {
   "cell_type": "markdown",
   "metadata": {},
   "source": [
    "# 2.1 Aggregation\n",
    "\n",
    "Aggregate functions are used to calculate expressions over a set of values.\n",
    "\n",
    "RDFox offers several, including common functions like SUM and COUNT, and more specialized functions like COUNT_MAX and MAX_ARGMIN.\n",
    "\n",
    "See the [full list shown here](https://oxfordsemtech.github.io/DocumentationDevBuild/querying.html#aggregate-functions) (excluding non-deterministic functions).\n",
    "\n",
    "# Using aggregate functions in rules\n",
    "\n",
    "To use aggregation in a rule, you must declare it within the body with `AGGREGATE()`, that contains the relevant atoms.\n",
    "\n",
    "You must also indicate which variable(s) the you're aggregating on with `ON`, and bind the result to a new variable with `BIND`.\n",
    "\n",
    "# Variable scope\n",
    "\n",
    "Variables in aggregate atoms are local to the atom unless mentioned outside of the atom. Two aggregates can use a variable with the same name so long as it is not a mentioned group variable.\n"
   ]
  },
  {
   "cell_type": "markdown",
   "metadata": {},
   "source": [
    "## Example\n",
    "\n",
    "Below is an example of MAX and COUNT_MAX used within one rule to calculate the percentage of 5 star reviews."
   ]
  },
  {
   "cell_type": "code",
   "execution_count": 50,
   "metadata": {},
   "outputs": [],
   "source": [
    "agg_data = \"\"\"\n",
    "@prefix : <https://rdfox.com/example#> .\n",
    "\n",
    ":review1 a :Review ;\n",
    "    :hasStars 5 .\n",
    "\n",
    ":review2 a :Review ;\n",
    "    :hasStars 5 .\n",
    "\n",
    ":review3 a :Review ;\n",
    "    :hasStars 2 .\n",
    "\n",
    ":reviewLog :hasReview :review1 ;\n",
    "    :hasReview :review2 ;\n",
    "    :hasReview :review3 .\n",
    "    \n",
    "\"\"\""
   ]
  },
  {
   "cell_type": "code",
   "execution_count": 52,
   "metadata": {},
   "outputs": [],
   "source": [
    "agg_rules = \"\"\"\n",
    "[?reviewLog, :hasPercentageOfFiveStars, ?percentage] :-\n",
    "    AGGREGATE (\n",
    "        [?reviewLog, :hasReview, ?review]\n",
    "        ON ?reviewLog\n",
    "        BIND COUNT(?review) AS ?count \n",
    "    ),\n",
    "    AGGREGATE (\n",
    "        [?reviewLog, :hasReview, ?review],\n",
    "        [?review, :hasStars, ?stars]\n",
    "        ON ?reviewLog\n",
    "        BIND COUNT_MAX(?stars) AS ?maxCount \n",
    "    ),\n",
    "    BIND( (?maxCount / ?count) AS ?percentage ) .\n",
    "\"\"\""
   ]
  },
  {
   "cell_type": "code",
   "execution_count": 54,
   "metadata": {},
   "outputs": [
    {
     "name": "stdout",
     "output_type": "stream",
     "text": [
      "\n",
      "=== Percentage of 5 star ratings ===\n",
      "?percentage\n",
      "0.666666666666666667\n",
      "1.0\n",
      "\n"
     ]
    }
   ],
   "source": [
    "import requests\n",
    "\n",
    "# Set up the SPARQL endpoint\n",
    "rdfox_server = \"http://localhost:12110\"\n",
    "\n",
    "# Helper function to raise exception if the REST endpoint returns an unexpected status code\n",
    "def assert_response_ok(response, message):\n",
    "    if not response.ok:\n",
    "        raise Exception(\n",
    "            message + \"\\nStatus received={}\\n{}\".format(response.status_code, response.text))\n",
    "\n",
    "# Add data\n",
    "payload = {'operation': 'add-content-update-prefixes'}\n",
    "data_response = requests.patch(\n",
    "    rdfox_server + \"/datastores/default/content\", params=payload, data=agg_data)\n",
    "assert_response_ok(data_response, \"Failed to add facts to data store.\")\n",
    "\n",
    "# Get rules\n",
    "rules_response = requests.post(rdfox_server + \"/datastores/default/content\", data=agg_rules)\n",
    "assert_response_ok(rules_response, \"Failed to add rule.\")\n",
    "\n",
    "# Issue select query\n",
    "sparql_text = \"SELECT ?percentage WHERE { ?review :hasPercentageOfFiveStars ?percentage}\"\n",
    "response = requests.get(\n",
    "    rdfox_server + \"/datastores/default/sparql\", params={\"query\": sparql_text})\n",
    "assert_response_ok(response, \"Failed to run select query.\")\n",
    "print('\\n=== Percentage of 5 star ratings ===')\n",
    "print(response.text)\n"
   ]
  },
  {
   "cell_type": "markdown",
   "metadata": {},
   "source": [
    "## Exercise\n",
    "\n",
    "..."
   ]
  }
 ],
 "metadata": {
  "kernelspec": {
   "display_name": "venv",
   "language": "python",
   "name": "python3"
  },
  "language_info": {
   "codemirror_mode": {
    "name": "ipython",
    "version": 3
   },
   "file_extension": ".py",
   "mimetype": "text/x-python",
   "name": "python",
   "nbconvert_exporter": "python",
   "pygments_lexer": "ipython3",
   "version": "3.12.0"
  }
 },
 "nbformat": 4,
 "nbformat_minor": 2
}
