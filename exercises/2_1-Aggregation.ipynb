{
 "cells": [
  {
   "cell_type": "markdown",
   "metadata": {},
   "source": [
    "# 2.1 Aggregation\n",
    "\n",
    "Aggregate functions are used to calculate expressions over a set of values.\n",
    "\n",
    "RDFox offers several, including common functions like SUM and COUNT, and more specialized functions like COUNT_MAX and MAX_ARGMIN.\n",
    "\n",
    "See the [full list shown here](https://oxfordsemtech.github.io/DocumentationDevBuild/querying.html#aggregate-functions) (excluding non-deterministic functions).\n",
    "\n",
    "## Using aggregates\n",
    "\n",
    "To use aggregation in a rule, you must declare it within the body with `AGGREGATE()`, that contains the relevant atoms.\n",
    "\n",
    "You must also indicate which variable(s) the you're aggregating on with `ON` (known as group variables), and bind the result to a new variable with `BIND`."
   ]
  },
  {
   "cell_type": "markdown",
   "metadata": {},
   "source": [
    "## Example\n",
    "\n",
    "Below is an example of COUNT_MAX used to calculate the number of products with 5-star reviews in a catalogue, assuming 5-stars is the highest rating and that at least one has a 5-star rating."
   ]
  },
  {
   "cell_type": "code",
   "execution_count": 9,
   "metadata": {},
   "outputs": [],
   "source": [
    "agg_data = \"\"\"\n",
    "@prefix : <https://rdfox.com/example#> .\n",
    "\n",
    ":catalogueXYZ :hasProduct :productA ,\n",
    "                    :productB ,\n",
    "                    :productC .\n",
    "\n",
    ":productA a :Product ;\n",
    "    :hasReview :reviewA1 ;\n",
    "    :hasReview :reviewA2 .\n",
    "\n",
    ":productB a :Product ;\n",
    "    :hasReview :reviewB1 .\n",
    "\n",
    ":productC a :Product ;\n",
    "    :hasReview :reviewC1 .\n",
    "\n",
    ":reviewA1 a :Review ;\n",
    "    :hasStars 5 .\n",
    "\n",
    ":reviewA2 a :Review ;\n",
    "    :hasStars 4 .\n",
    "\n",
    ":reviewB1 a :Review ;\n",
    "    :hasStars 5 .\n",
    "\n",
    ":reviewC2 a :Review ;\n",
    "    :hasStars 3 .\n",
    "    \n",
    "\"\"\""
   ]
  },
  {
   "cell_type": "code",
   "execution_count": 10,
   "metadata": {},
   "outputs": [],
   "source": [
    "agg_rules = \"\"\"\n",
    "\n",
    "[?catalogue, :hasNumberOfFiveStars, ?countOfFiveStarProducts] :-\n",
    "    AGGREGATE (\n",
    "        [?catalogue, :hasProduct, ?product],\n",
    "        [?product, :hasReview, ?review],\n",
    "        [?review, :hasStars, ?stars]\n",
    "        ON ?catalogue\n",
    "        BIND COUNT_MAX(?stars) AS ?countOfFiveStarProducts \n",
    "    ).\n",
    "    \n",
    "\"\"\""
   ]
  },
  {
   "cell_type": "code",
   "execution_count": 11,
   "metadata": {},
   "outputs": [
    {
     "name": "stdout",
     "output_type": "stream",
     "text": [
      "\n",
      "=== Percentage of 5 star ratings ===\n",
      "?catalogue\t?countOfFiveStarProducts\n",
      "<https://rdfox.com/example#catalogueXYZ>\t2\n",
      "\n"
     ]
    }
   ],
   "source": [
    "import requests\n",
    "\n",
    "# Set up the SPARQL endpoint\n",
    "rdfox_server = \"http://localhost:12110\"\n",
    "\n",
    "# Helper function to raise exception if the REST endpoint returns an unexpected status code\n",
    "def assert_response_ok(response, message):\n",
    "    if not response.ok:\n",
    "        raise Exception(\n",
    "            message + \"\\nStatus received={}\\n{}\".format(response.status_code, response.text))\n",
    "\n",
    "# Clear data store\n",
    "clear_response = requests.delete(\n",
    "    rdfox_server + \"/datastores/default/content?facts=true&axioms&rules\")\n",
    "assert_response_ok(clear_response, \"Failed to clear data store.\")\n",
    "\n",
    "# Add data\n",
    "payload = {'operation': 'add-content-update-prefixes'}\n",
    "data_response = requests.patch(\n",
    "    rdfox_server + \"/datastores/default/content\", params=payload, data=agg_data)\n",
    "assert_response_ok(data_response, \"Failed to add facts to data store.\")\n",
    "\n",
    "# Get rules\n",
    "rules_response = requests.post(rdfox_server + \"/datastores/default/content\", data=agg_rules)\n",
    "assert_response_ok(rules_response, \"Failed to add rule.\")\n",
    "\n",
    "# Get and issue select query\n",
    "with open(\"../queries/2_1-AggregationQuery.rq\", \"r\") as file:\n",
    "    agg_query = file.read()\n",
    "response = requests.get(\n",
    "    rdfox_server + \"/datastores/default/sparql\", params={\"query\": agg_query})\n",
    "assert_response_ok(response, \"Failed to run select query.\")\n",
    "print('\\n=== Percentage of 5 star ratings ===')\n",
    "print(response.text)\n"
   ]
  },
  {
   "cell_type": "markdown",
   "metadata": {},
   "source": [
    "## Variable scope\n",
    "\n",
    "Variables in aggregate atoms are local to the atom unless they unless they are group variables (in the `ON` statement).\n",
    "\n",
    "Therefore, two aggregates can use a variable with the same name so long as it is not a mentioned group variable."
   ]
  },
  {
   "cell_type": "markdown",
   "metadata": {},
   "source": [
    "## Where is aggregation relevant?\n",
    "\n",
    "An incredibly powerful tool, there are unlimited uses of aggregation in production.\n",
    "\n",
    "COUNT and SUM are so versatile that they can be used in almost any application, with with other functions supporting increasingly targeted and powerful niches.\n",
    "\n",
    "### Retail\n",
    "\n",
    "To quantify and analyze user behavior, quantify and rank product sentiment, etc.\n",
    "\n",
    "### Finance\n",
    "\n",
    "To sum transactional amounts, isolate extreme values and outliers, validate complex regulation compliance, etc.\n",
    "\n",
    "### Construction & Manufacturing\n",
    "\n",
    "To surface and compare high-level compound properties, create a bill of materials, etc.\n",
    "\n",
    "The list goes on..."
   ]
  },
  {
   "cell_type": "markdown",
   "metadata": {},
   "source": [
    "## Exercise\n",
    "\n",
    "Complete the rule `aggregationRules.dlog` in the `rules` folder so that the query below can be used to directly find 'Star Products' - that is, products with a higher than 4 star average rating AND more than 5 total reviews.\n",
    "\n",
    "### Hits & helpful resources\n",
    "\n",
    "[Aggregate functions in RDFox](https://docs.oxfordsemantic.tech/querying.html#aggregate-functions)"
   ]
  },
  {
   "cell_type": "code",
   "execution_count": 4,
   "metadata": {},
   "outputs": [],
   "source": [
    "agg_sparql = \"\"\"\n",
    "\n",
    "SELECT ?starProduct ?averageStars ?reviewCount\n",
    "WHERE {\n",
    "    ?starProduct a :StarProduct ;\n",
    "    :hasAverageStars ?averageStars ;\n",
    "    :hasReviewCount ?reviewCount .\n",
    "} ORDER BY DESC(?averageStars)\n",
    "\n",
    "\"\"\""
   ]
  },
  {
   "cell_type": "markdown",
   "metadata": {},
   "source": [
    "Here is a representative sample of the data in `2_1-AggregationData.ttl`."
   ]
  },
  {
   "cell_type": "code",
   "execution_count": 5,
   "metadata": {},
   "outputs": [],
   "source": [
    "sample_data = \"\"\"\n",
    "@prefix : <https://rdfox.com/example#> .\n",
    "\n",
    ":product0001 a :Sofa ;\n",
    "    :hasReview :review11.\n",
    "\n",
    ":review11 :hasStars 5 .\n",
    "\n",
    "\"\"\""
   ]
  },
  {
   "cell_type": "markdown",
   "metadata": {},
   "source": [
    "### Check your work\n",
    "\n",
    "Run the query below to verify the results."
   ]
  },
  {
   "cell_type": "code",
   "execution_count": 8,
   "metadata": {},
   "outputs": [
    {
     "name": "stdout",
     "output_type": "stream",
     "text": [
      "\n",
      "=== Star Products ===\n",
      "?starProduct\t?averageStars\t?reviewCount\n",
      "<https://rdfox.com/example/product0579>\t4.5\t8\n",
      "<https://rdfox.com/example/product0934>\t4.5\t6\n",
      "<https://rdfox.com/example/product0395>\t4.428571428571428571\t7\n",
      "<https://rdfox.com/example/product0209>\t4.375\t8\n",
      "<https://rdfox.com/example/product0317>\t4.285714285714285714\t7\n",
      "<https://rdfox.com/example/product0222>\t4.166666666666666667\t6\n",
      "<https://rdfox.com/example/product0492>\t4.142857142857142857\t7\n",
      "<https://rdfox.com/example/product0931>\t4.142857142857142857\t7\n",
      "<https://rdfox.com/example/product0137>\t4.142857142857142857\t7\n",
      "<https://rdfox.com/example/product0326>\t4.125\t8\n",
      "\n"
     ]
    }
   ],
   "source": [
    "# Clear data store\n",
    "clear_response = requests.delete(\n",
    "    rdfox_server + \"/datastores/default/content?facts=true&axioms&rules\")\n",
    "assert_response_ok(clear_response, \"Failed to clear data store.\")\n",
    "\n",
    "# Get and add data\n",
    "with open(\"../data/2_1-AggregationData.ttl\", \"r\") as file:\n",
    "    aggregation_data = file.read()\n",
    "payload = {'operation': 'add-content-update-prefixes'}\n",
    "data_response = requests.patch(\n",
    "    rdfox_server + \"/datastores/default/content\", params=payload, data=aggregation_data)\n",
    "assert_response_ok(data_response, \"Failed to add facts to data store.\")\n",
    "\n",
    "# Get and add rules\n",
    "with open(\"../rules/2_1-AggregationRules.dlog\", \"r\") as file:\n",
    "    aggregation_rules = file.read()\n",
    "rules_response = requests.post(rdfox_server + \"/datastores/default/content\", data=aggregation_rules)\n",
    "assert_response_ok(rules_response, \"Failed to add rule.\")\n",
    "\n",
    "# Issue select query\n",
    "response = requests.get(\n",
    "    rdfox_server + \"/datastores/default/sparql\", params={\"query\": agg_sparql})\n",
    "assert_response_ok(response, \"Failed to run select query.\")\n",
    "print('\\n=== Star Products ===')\n",
    "print(response.text)"
   ]
  },
  {
   "cell_type": "markdown",
   "metadata": {},
   "source": [
    "### Visualise the results\n",
    "\n",
    "Open this query in the [RDFox Explorer](http://localhost:12110/console/datastores/explore?datastore=default&query=SELECT%20%3FstarProduct%20%3FaverageStars%20%3FreviewCount%0AWHERE%20%7B%0A%20%20%20%20%3FstarProduct%20a%20%3AStarProduct%20%3B%0A%20%20%20%20%3AhasAverageStars%20%3FaverageStars%20%3B%0A%20%20%20%20%3AhasReviewCount%20%3FreviewCount%20.%0A%7D%20ORDER%20BY%20DESC%28%3FaverageStars%29)."
   ]
  },
  {
   "cell_type": "markdown",
   "metadata": {},
   "source": [
    "## You should see...\n",
    "\n",
    "=== Star Products ===\n",
    "|?starProduct|?averageStars|\t?reviewCount|\n",
    "|-----------|-------------|-------------|\n",
    "|<https://rdfox.com/example/product0579>|\t4.5|\t8|\n",
    "|<https://rdfox.com/example/product0934>|\t4.5|\t6|\n",
    "|<https://rdfox.com/example/product0395>|\t4.428571428571428571|\t7|\n",
    "|<https://rdfox.com/example/product0209>|\t4.375|\t8|\n",
    "|<https://rdfox.com/example/product0317>|\t4.285714285714285714|\t7|\n",
    "|<https://rdfox.com/example/product0222>|\t4.166666666666666667|\t6|\n",
    "|<https://rdfox.com/example/product0931>|\t4.142857142857142857|\t7|\n",
    "|<https://rdfox.com/example/product0492>|\t4.142857142857142857|\t7|\n",
    "|<https://rdfox.com/example/product0137>|\t4.142857142857142857|\t7|\n",
    "|<https://rdfox.com/example/product0326>|\t4.125|\t8|"
   ]
  }
 ],
 "metadata": {
  "kernelspec": {
   "display_name": "venv",
   "language": "python",
   "name": "python3"
  },
  "language_info": {
   "codemirror_mode": {
    "name": "ipython",
    "version": 3
   },
   "file_extension": ".py",
   "mimetype": "text/x-python",
   "name": "python",
   "nbconvert_exporter": "python",
   "pygments_lexer": "ipython3",
   "version": "3.12.0"
  }
 },
 "nbformat": 4,
 "nbformat_minor": 2
}
