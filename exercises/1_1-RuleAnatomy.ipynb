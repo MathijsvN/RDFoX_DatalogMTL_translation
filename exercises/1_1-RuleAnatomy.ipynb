{
 "cells": [
  {
   "cell_type": "markdown",
   "metadata": {},
   "source": [
    "# 1.1 Anatomy of a Rule\n",
    "\n",
    "**\\[ THEN \\] :- \\[ IF \\] .**\n",
    "\n",
    "Datalog rules can be read as then-if statements, adding new data to the graph where a specified pattern is matched.\n",
    "\n",
    "Rules are comprised of two main parts, the head and the body, separate by the inference symbol.\n",
    "\n",
    "**\\[ HEAD \\] :- \\[ BODY \\] .**\n",
    "\n",
    "Both the head and body can both be made up of several **atoms** - triple (or quad) patterns that the rule is looking to match.\n",
    "\n",
    "These patterns are described by variables `?x` and data `:myProperty`."
   ]
  },
  {
   "cell_type": "code",
   "execution_count": null,
   "metadata": {},
   "outputs": [],
   "source": [
    "example_rule = \"\"\"\n",
    "    [?node, a, :NewClass] ,\n",
    "    [?node, :newRelationship, :newNode] :-\n",
    "        [?node, a, :Class] ,\n",
    "        [?node, :hasProp, ?property] .\n",
    "\"\"\""
   ]
  },
  {
   "cell_type": "markdown",
   "metadata": {},
   "source": [
    "### Syntax requirements\n",
    "\n",
    "1. Each atom must be separated by a comma.\n",
    "\n",
    "2. Each entity within an atom, variable or data, must be separated by a comma.\n",
    "\n",
    "3. The final head atom must be followed by the inference symbol `:-`.\n",
    "\n",
    "4. The final body atom must be followed by a full stop."
   ]
  }
 ],
 "metadata": {
  "language_info": {
   "name": "python"
  }
 },
 "nbformat": 4,
 "nbformat_minor": 2
}
