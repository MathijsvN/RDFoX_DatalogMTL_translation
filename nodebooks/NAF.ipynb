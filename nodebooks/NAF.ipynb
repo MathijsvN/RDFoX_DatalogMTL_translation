{
 "cells": [
  {
   "cell_type": "markdown",
   "metadata": {},
   "source": [
    "# 2.2 Negation as Failure\n",
    "\n",
    "Negation as Failure (NAF) searches for an absence of data - inferring new facts where a pattern is missing.\n",
    "\n",
    "There are two critical keywords to understand when using NAF with Datalog rules, **NOT** and **EXISTS**.\n",
    "\n",
    "### NOT\n",
    "\n",
    "The **NOT** function returns a Boolean TURE/FALSE based on the result of an expression.\n",
    "\n",
    "### EXISTS\n",
    "\n",
    "**EXISTS** searches for data that matches the described pattern. If the returned result set is non-empty, EXISTS returns True and vice versa.\n",
    "\n",
    "### NOT EXISTS\n",
    "\n",
    "The combination **NOT EXISTS** enables NAF and is very powerful, allowing us to infer new facts based on missing data.\n",
    "\n",
    "## Exercises\n",
    "\n",
    "Rule the code cell below to import the rules **NAF.dlog**, then see what happens with the query below."
   ]
  },
  {
   "cell_type": "code",
   "execution_count": 3,
   "metadata": {},
   "outputs": [
    {
     "name": "stdout",
     "output_type": "stream",
     "text": [
      "Results:  <Response [200]>\n"
     ]
    }
   ],
   "source": [
    "import requests\n",
    "\n",
    "# Set up the SPARQL endpoint\n",
    "rdfox_server = \"http://localhost:12110\"\n",
    "\n",
    "# Read rules from external file\n",
    "with open(\"../rules/NAF.dlog\", \"r\") as rule_file:\n",
    "    datalog_rule = rule_file.read()\n",
    "\n",
    "# Get response\n",
    "response = requests.post(rdfox_server + \"/datastores/default/content\", data=datalog_rule)\n",
    "\n",
    "\n",
    "# Helper function to raise exception if the REST endpoint returns an unexpected status code\n",
    "def assert_response_ok(response, message):\n",
    "    if not response.ok:\n",
    "        raise Exception(\n",
    "            message + \"\\nStatus received={}\\n{}\".format(response.status_code, response.text))\n",
    "\n",
    "# Catch errors\n",
    "assert_response_ok(response, \"Failed to add rule.\")\n",
    "\n",
    "print(response)"
   ]
  },
  {
   "cell_type": "code",
   "execution_count": 4,
   "metadata": {},
   "outputs": [
    {
     "name": "stdout",
     "output_type": "stream",
     "text": [
      "Results: \n",
      " ?s\t?p\t?o\n",
      "<https://rdfox.com/example#a>\t<https://rdfox.com/example#b>\t<https://rdfox.com/example#c>\n",
      "\n"
     ]
    }
   ],
   "source": [
    "# Read query from external file\n",
    "with open(\"../queries/star.rq\", \"r\") as query_file:\n",
    "    query = query_file.read()\n",
    "\n",
    "# Get response\n",
    "queryResponse = requests.get(rdfox_server + \"/datastores/default/sparql\", params={\"query\": query})\n",
    "\n",
    "# Catch errors\n",
    "assert_response_ok(queryResponse, \"Failed to run select query.\")\n",
    "\n",
    "print(\"Results:\\n\", queryResponse.text)"
   ]
  },
  {
   "cell_type": "markdown",
   "metadata": {},
   "source": [
    "## Incremental Retraction ##\n",
    "\n",
    "NAF is an incredibly powerful tool and raises an potentially thorny question when combined with the Incremental Reasoning of RDFox.\n",
    "\n",
    "What happens when new data is added that fills the gap of an absent triple, whose absence was leading to the inference of another fact?\n",
    "\n",
    "Well, the previously inferred fact will have to be retracted.\n",
    "\n",
    "Try importing some new data that contains something from the **NOT EXISTS** atom and see what happens."
   ]
  },
  {
   "cell_type": "code",
   "execution_count": 19,
   "metadata": {},
   "outputs": [
    {
     "name": "stdout",
     "output_type": "stream",
     "text": [
      "Results:  ?s\t?p\t?o\n",
      "<https://rdfox.com/example#a>\t<https://rdfox.com/example#b>\t<https://rdfox.com/example#c>\n",
      "<https://rdfox.com/example#c>\t<https://rdfox.com/example#wooooow>\t<https://rdfox.com/example#a>\n",
      "<https://rdfox.com/example#a>\t<https://rdfox.com/example#wooooow>\t<https://rdfox.com/example#c>\n",
      "<https://rdfox.com/example#a>\t<https://rdfox.com/example#excellent>\t<https://rdfox.com/example#c>\n",
      "<https://rdfox.com/example#a>\t<https://rdfox.com/example#hasProp>\t\"Property\"\n",
      "<https://rdfox.com/example#a>\t<http://www.w3.org/1999/02/22-rdf-syntax-ns#type>\t<https://rdfox.com/example#Class>\n",
      "\n"
     ]
    }
   ],
   "source": [
    "# Issue insert\n",
    "sparql_insert = \"prefix : <https://rdfox.com/example#> INSERT { ?s :hasProp 'Property' } WHERE { ?s :b ?o }\"\n",
    "response = requests.post(\n",
    "    rdfox_server + \"/datastores/default/sparql\", data={\"update\": sparql_insert})\n",
    "assert_response_ok(response, \"Failed to insert fact via sparql.\")\n",
    "\n",
    "# Get response\n",
    "queryResponse = requests.get(rdfox_server + \"/datastores/default/sparql\", params={\"query\": query})\n",
    "\n",
    "# Catch errors\n",
    "assert_response_ok(queryResponse, \"Failed to run select query.\")\n",
    "\n",
    "print(\"Results: \", queryResponse.text)"
   ]
  },
  {
   "cell_type": "markdown",
   "metadata": {},
   "source": [
    "## Cycles in Rules ##\n",
    "\n",
    "A rule, or set of rules, cannot be imported if they create cyclic logic (they cannot be stratified), meaning an inferred fact changes the conditions that led to it's inference.\n",
    "\n",
    "Without experience and careful planning, it can be easy to write rules that cannot be stratified when using Aggregation and Negation.\n",
    "\n",
    "RDFox will not import such rules and will tell you why as with large sets of rules this behavior can be difficult to spot.\n",
    "\n",
    "With some simple examples, it's much clearer.\n",
    "\n",
    "Take this rule for example, can you see the problem?"
   ]
  },
  {
   "cell_type": "code",
   "execution_count": 4,
   "metadata": {},
   "outputs": [
    {
     "ename": "Exception",
     "evalue": "Failed to add rule.\nStatus received=400\nRuleCompilationException: The program is not stratified because these components of the dependency graph contain cycles through negation and/or aggregation:\n======== COMPONENT 1 ========\n    <https://rdfox.com/example#Class>[?s] :- <https://rdfox.com/example#hasProp>[?s, ?o], NOT <https://rdfox.com/example#hasProp>[?s, \"property\"] .\n    <https://rdfox.com/example#Class>[?x] :- rdf:type[?x, ?class], NOT <https://rdfox.com/example#Class>[?x] .\n    <https://rdfox.com/example#DifferentClass>[?s] :- <https://rdfox.com/example#hasProp>[?s, ?o], NOT EXISTS ?o IN <https://rdfox.com/example#hasProp>[?s, ?o] .\n========================================================================================================================\n",
     "output_type": "error",
     "traceback": [
      "\u001b[0;31m---------------------------------------------------------------------------\u001b[0m",
      "\u001b[0;31mException\u001b[0m                                 Traceback (most recent call last)",
      "Cell \u001b[0;32mIn[4], line 14\u001b[0m\n\u001b[1;32m     11\u001b[0m response \u001b[38;5;241m=\u001b[39m requests\u001b[38;5;241m.\u001b[39mpost(rdfox_server \u001b[38;5;241m+\u001b[39m \u001b[38;5;124m\"\u001b[39m\u001b[38;5;124m/datastores/default/content\u001b[39m\u001b[38;5;124m\"\u001b[39m, data\u001b[38;5;241m=\u001b[39mdatalog_rule)\n\u001b[1;32m     13\u001b[0m \u001b[38;5;66;03m# Catch errors\u001b[39;00m\n\u001b[0;32m---> 14\u001b[0m \u001b[43massert_response_ok\u001b[49m\u001b[43m(\u001b[49m\u001b[43mresponse\u001b[49m\u001b[43m,\u001b[49m\u001b[43m \u001b[49m\u001b[38;5;124;43m\"\u001b[39;49m\u001b[38;5;124;43mFailed to add rule.\u001b[39;49m\u001b[38;5;124;43m\"\u001b[39;49m\u001b[43m)\u001b[49m\n\u001b[1;32m     16\u001b[0m \u001b[38;5;28mprint\u001b[39m(\u001b[38;5;124m\"\u001b[39m\u001b[38;5;124mResults: \u001b[39m\u001b[38;5;124m\"\u001b[39m, response)\n",
      "Cell \u001b[0;32mIn[1], line 17\u001b[0m, in \u001b[0;36massert_response_ok\u001b[0;34m(response, message)\u001b[0m\n\u001b[1;32m     15\u001b[0m \u001b[38;5;28;01mdef\u001b[39;00m \u001b[38;5;21massert_response_ok\u001b[39m(response, message):\n\u001b[1;32m     16\u001b[0m     \u001b[38;5;28;01mif\u001b[39;00m \u001b[38;5;129;01mnot\u001b[39;00m response\u001b[38;5;241m.\u001b[39mok:\n\u001b[0;32m---> 17\u001b[0m         \u001b[38;5;28;01mraise\u001b[39;00m \u001b[38;5;167;01mException\u001b[39;00m(\n\u001b[1;32m     18\u001b[0m             message \u001b[38;5;241m+\u001b[39m \u001b[38;5;124m\"\u001b[39m\u001b[38;5;130;01m\\n\u001b[39;00m\u001b[38;5;124mStatus received=\u001b[39m\u001b[38;5;132;01m{}\u001b[39;00m\u001b[38;5;130;01m\\n\u001b[39;00m\u001b[38;5;132;01m{}\u001b[39;00m\u001b[38;5;124m\"\u001b[39m\u001b[38;5;241m.\u001b[39mformat(response\u001b[38;5;241m.\u001b[39mstatus_code, response\u001b[38;5;241m.\u001b[39mtext))\n",
      "\u001b[0;31mException\u001b[0m: Failed to add rule.\nStatus received=400\nRuleCompilationException: The program is not stratified because these components of the dependency graph contain cycles through negation and/or aggregation:\n======== COMPONENT 1 ========\n    <https://rdfox.com/example#Class>[?s] :- <https://rdfox.com/example#hasProp>[?s, ?o], NOT <https://rdfox.com/example#hasProp>[?s, \"property\"] .\n    <https://rdfox.com/example#Class>[?x] :- rdf:type[?x, ?class], NOT <https://rdfox.com/example#Class>[?x] .\n    <https://rdfox.com/example#DifferentClass>[?s] :- <https://rdfox.com/example#hasProp>[?s, ?o], NOT EXISTS ?o IN <https://rdfox.com/example#hasProp>[?s, ?o] .\n========================================================================================================================\n"
     ]
    }
   ],
   "source": [
    "datalog_rule = \"\"\"\n",
    "prefix : <https://rdfox.com/example#>\n",
    "\n",
    "[?x, a, :Class] :-\n",
    "    [?x, a, ?class] ,\n",
    "    NOT [?x, a, :Class] .\n",
    "    \n",
    "\"\"\"\n",
    "\n",
    "# Get response\n",
    "response = requests.post(rdfox_server + \"/datastores/default/content\", data=datalog_rule)\n",
    "\n",
    "# Catch errors\n",
    "assert_response_ok(response, \"Failed to add rule.\")\n",
    "\n",
    "print(\"Results: \", response)"
   ]
  }
 ],
 "metadata": {
  "kernelspec": {
   "display_name": "venv",
   "language": "python",
   "name": "python3"
  },
  "language_info": {
   "codemirror_mode": {
    "name": "ipython",
    "version": 3
   },
   "file_extension": ".py",
   "mimetype": "text/x-python",
   "name": "python",
   "nbconvert_exporter": "python",
   "pygments_lexer": "ipython3",
   "version": "3.12.0"
  }
 },
 "nbformat": 4,
 "nbformat_minor": 2
}
